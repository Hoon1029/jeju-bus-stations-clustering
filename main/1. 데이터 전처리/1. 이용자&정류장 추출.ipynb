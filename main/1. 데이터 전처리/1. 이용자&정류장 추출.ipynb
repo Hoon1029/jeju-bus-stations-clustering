{
 "cells": [
  {
   "cell_type": "markdown",
   "metadata": {},
   "source": [
    "# 1. Import & Setting"
   ]
  },
  {
   "cell_type": "markdown",
   "metadata": {},
   "source": [
    "### 1-1) Path Setting"
   ]
  },
  {
   "cell_type": "code",
   "execution_count": 1,
   "metadata": {},
   "outputs": [],
   "source": [
    "import os\n",
    "project_path = \"C:/workspace/Bus Project\"\n",
    "os.chdir(project_path)"
   ]
  },
  {
   "cell_type": "markdown",
   "metadata": {},
   "source": [
    "### 1-2) Import"
   ]
  },
  {
   "cell_type": "code",
   "execution_count": 2,
   "metadata": {},
   "outputs": [],
   "source": [
    "import datetime\n",
    "import numpy as np\n",
    "import pandas as pd\n",
    "import multiprocessing\n",
    "from functools import partial\n",
    "from multiprocessing import Pool\n",
    "\n",
    "import bus.analyzer as anz"
   ]
  },
  {
   "cell_type": "markdown",
   "metadata": {},
   "source": [
    "### 1-3) 한글 폰트 설정"
   ]
  },
  {
   "cell_type": "code",
   "execution_count": 3,
   "metadata": {},
   "outputs": [],
   "source": [
    "from matplotlib import font_manager, rc\n",
    "font_name = font_manager.FontProperties(fname=\"c:/Windows/Fonts/malgun.ttf\").get_name()\n",
    "rc('font', family=font_name)"
   ]
  },
  {
   "cell_type": "markdown",
   "metadata": {},
   "source": [
    "# 2. 이용자 & 정류장 추출"
   ]
  },
  {
   "cell_type": "markdown",
   "metadata": {},
   "source": [
    "### 2-1) - 이용데이터 로딩"
   ]
  },
  {
   "cell_type": "code",
   "execution_count": null,
   "metadata": {},
   "outputs": [],
   "source": [
    "# 데이터 기간 설정\n",
    "start_date = datetime.datetime(2019, 6, 1)\n",
    "end_date = datetime.datetime(2019, 8, 29)\n",
    "\n",
    "# 로딩할 파일 명 리스트 생성\n",
    "input_path_list = anz.make_input_path(start_date, end_date)\n",
    "\n",
    "# 전체 데이터 로딩 (multi)\n",
    "usage_df = anz.parallel_load_total_usage_df(input_path_list)"
   ]
  },
  {
   "cell_type": "markdown",
   "metadata": {},
   "source": [
    "### 2-2) - 정류장 추출 & 분석"
   ]
  },
  {
   "cell_type": "code",
   "execution_count": 5,
   "metadata": {},
   "outputs": [
    {
     "name": "stderr",
     "output_type": "stream",
     "text": [
      "  0%|                                                                                 | 1/3654 [00:00<06:29,  9.38it/s]"
     ]
    },
    {
     "name": "stdout",
     "output_type": "stream",
     "text": [
      "추출된 정류장 개수:  3654\n"
     ]
    },
    {
     "name": "stderr",
     "output_type": "stream",
     "text": [
      "100%|██████████████████████████████████████████████████████████████████████████████| 3654/3654 [04:25<00:00, 13.74it/s]\n"
     ]
    }
   ],
   "source": [
    "#정류장 추출\n",
    "station_df = anz.create_station_df(usage_df)\n",
    "print(\"추출된 정류장 개수: \",len(station_df))\n",
    "\n",
    "# # 주소 컬럼 추가\n",
    "station_df = anz.set_address_column(station_df)\n",
    "\n",
    "# # sorting\n",
    "station_df = station_df.sort_values(by=\"station_id\")\n",
    "\n",
    "# # storing\n",
    "station_df.to_csv(\"data/analysis/station_df.csv\", encoding=\"CP949\", index=False)"
   ]
  },
  {
   "cell_type": "code",
   "execution_count": null,
   "metadata": {},
   "outputs": [],
   "source": [
    "station_df = anz.load_station_df()"
   ]
  },
  {
   "cell_type": "markdown",
   "metadata": {},
   "source": [
    "### 2-3) - 이용자 추출 & 분석"
   ]
  },
  {
   "cell_type": "code",
   "execution_count": null,
   "metadata": {},
   "outputs": [],
   "source": [
    "# 유저 목록 생성\n",
    "user_df = anz.create_user_df(usage_df)\n",
    "\n",
    "# 이용 날짜 분석 완료\n",
    "user_df = anz.analyze_usage_date(user_df, usage_df)\n",
    "\n",
    "# 이용 횟수 분석 완료\n",
    "user_df = anz.analyze_usage_num(user_df, usage_df)\n",
    "\n",
    "# 이용 비율 분석 완료\n",
    "user_df = anz.parallel_analyze_usage_ratio(user_df)\n",
    "\n",
    "# 출발, 도작지 분석 완료\n",
    "user_df = anz.analyze_start_end(user_df, usage_df)"
   ]
  },
  {
   "cell_type": "markdown",
   "metadata": {},
   "source": [
    "### 2-4) 관광객 추출"
   ]
  },
  {
   "cell_type": "code",
   "execution_count": null,
   "metadata": {},
   "outputs": [],
   "source": [
    "# case1, 2의 사용 정류장 추출 및 저장\n",
    "both_station_df = anz.extract_used_station(user_df, usage_df, station_df, 'both')\n",
    "both_station_df.to_csv(\"data/analysis/used_station_df.csv\", encoding=\"cp949\", index=False)\n",
    "\n",
    "# HAND WORK - \"data/case1_2.csv\"를 보고 직접 관광 관련 정류장 컬럼을 삽입하고 \"data/case1_2_filtered.csv\"로 저장\n",
    "tour_station_df = pd.read_csv(\"data/analysis/tour_station_df.csv\", low_memory=False, encoding = \"utf-8\") #, dtype=dtype)\n",
    "\n",
    "# 관광관련 정류장 방문 횟수 분석\n",
    "user_df = anz.analyze_tour_station_visit(user_df, usage_df, tour_station_df)\n",
    "\n",
    "# 이용자 케이스 분류\n",
    "user_df = anz.parallel_analyze_case(user_df)\n",
    "\n",
    "# 관광객 분석\n",
    "user_df = anz.parallel_analyze_tourist(user_df)"
   ]
  },
  {
   "cell_type": "markdown",
   "metadata": {},
   "source": [
    "### 2-5) 정류장 이용 분석 "
   ]
  },
  {
   "cell_type": "code",
   "execution_count": null,
   "metadata": {},
   "outputs": [],
   "source": [
    "# 정류장 분석\n",
    "station_df = anz.analyze_station_usage(station_df, usage_df, user_df)"
   ]
  },
  {
   "cell_type": "markdown",
   "metadata": {},
   "source": [
    "### 2-6) 이용자 및 정류장 저장"
   ]
  },
  {
   "cell_type": "code",
   "execution_count": null,
   "metadata": {},
   "outputs": [],
   "source": [
    "# 이용자 데이터 저장\n",
    "user_df.to_csv(\"data/analysis/user_df.csv\", encoding=\"cp949\", index=False)\n",
    "\n",
    "# 정류장 데이터 저장\n",
    "station_df.to_csv(\"data/analysis/station_df.csv\", encoding=\"CP949\", index=False)"
   ]
  },
  {
   "cell_type": "markdown",
   "metadata": {},
   "source": [
    "# 3. 관광객 추출 알고리즘 검증"
   ]
  },
  {
   "cell_type": "markdown",
   "metadata": {},
   "source": [
    "### 3-1) 알고리즘 검증 - tour_visit검증"
   ]
  },
  {
   "cell_type": "code",
   "execution_count": null,
   "metadata": {
    "scrolled": true
   },
   "outputs": [],
   "source": [
    "plt = anz.draw_tour_visit_analysis_graph(user_df[user_df[\"period\"]<15])\n",
    "plt.show()"
   ]
  },
  {
   "cell_type": "markdown",
   "metadata": {},
   "source": [
    "### 3-2) 알고리즘 검증 - case검증"
   ]
  },
  {
   "cell_type": "code",
   "execution_count": null,
   "metadata": {
    "scrolled": false
   },
   "outputs": [],
   "source": [
    "anz.draw_period_user_per_case(user_df)"
   ]
  },
  {
   "cell_type": "markdown",
   "metadata": {},
   "source": [
    "### 3-3) 알고리즘 검증 - period검증"
   ]
  },
  {
   "cell_type": "code",
   "execution_count": null,
   "metadata": {
    "scrolled": false
   },
   "outputs": [],
   "source": [
    "plt = anz.draw_period_analysis_graph(user_df)\n",
    "plt.show()"
   ]
  },
  {
   "cell_type": "markdown",
   "metadata": {},
   "source": [
    "### 3-4) 알고리즘 검증 - usage_ratio검증"
   ]
  },
  {
   "cell_type": "code",
   "execution_count": null,
   "metadata": {
    "scrolled": false
   },
   "outputs": [],
   "source": [
    "columns = ['both', 'first', 'last', 'neither']\n",
    "boundary = 90\n",
    "for column in columns:\n",
    "    down = len(user_df[(user_df[column] == True) & (user_df[\"usage_ratio\"] < boundary)])\n",
    "    up = len(user_df[(user_df[column] == True) & (user_df[\"usage_ratio\"] >= boundary)])\n",
    "    print(\"%7s 이용자수 = (%3d%%미만: %6d명, %3d%%이상: %6d명)\" % (column, boundary, down, boundary, up))\n",
    "plt = anz.draw_usage_ratio_analysis_graph(user_df)\n",
    "plt.show()"
   ]
  },
  {
   "cell_type": "markdown",
   "metadata": {},
   "source": [
    "# 4. 결과 출력 "
   ]
  },
  {
   "cell_type": "markdown",
   "metadata": {},
   "source": [
    "### 3-1) 이용자 출력"
   ]
  },
  {
   "cell_type": "code",
   "execution_count": null,
   "metadata": {},
   "outputs": [],
   "source": [
    "user_df"
   ]
  },
  {
   "cell_type": "markdown",
   "metadata": {},
   "source": [
    "### 3-2) 정류장 출력"
   ]
  },
  {
   "cell_type": "code",
   "execution_count": null,
   "metadata": {
    "scrolled": false
   },
   "outputs": [],
   "source": [
    "station_df"
   ]
  },
  {
   "cell_type": "markdown",
   "metadata": {},
   "source": [
    "### 3-3) 방문기간 별 관광객 수 출력"
   ]
  },
  {
   "cell_type": "code",
   "execution_count": null,
   "metadata": {
    "scrolled": true
   },
   "outputs": [],
   "source": [
    "df = user_df[user_df[\"tourist\"] == True]\n",
    "anz.draw_period_user(plt, df)"
   ]
  },
  {
   "cell_type": "markdown",
   "metadata": {},
   "source": [
    "### 3-1) both 관광객 출력"
   ]
  },
  {
   "cell_type": "code",
   "execution_count": null,
   "metadata": {
    "scrolled": false
   },
   "outputs": [],
   "source": [
    "df = user_df[2<=user_df['period']][user_df[\"period\"]<=15][user_df['both'] == True][user_df[\"tour_visit\"]>3][user_df['usage'] > 5]\n",
    "anz.show_od_pattern(df, usage_df, 100)"
   ]
  },
  {
   "cell_type": "markdown",
   "metadata": {},
   "source": [
    "### 3-2) first 관광객 출력"
   ]
  },
  {
   "cell_type": "code",
   "execution_count": null,
   "metadata": {
    "scrolled": true
   },
   "outputs": [],
   "source": [
    "df = user_df[2<=user_df['period']][user_df[\"period\"]<=15][user_df['first'] == True][user_df[\"tour_visit\"]>3][user_df['usage'] > 5]\n",
    "anz.show_od_pattern(df, usage_df, 100)"
   ]
  },
  {
   "cell_type": "markdown",
   "metadata": {},
   "source": [
    "### 3-3) last 관광객 출력"
   ]
  },
  {
   "cell_type": "code",
   "execution_count": null,
   "metadata": {
    "scrolled": false
   },
   "outputs": [],
   "source": [
    "df = user_df[2<=user_df['period']][user_df[\"period\"]<=15][user_df['last'] == True][user_df[\"tour_visit\"]>3][user_df['usage'] > 5]\n",
    "anz.show_od_pattern(df, usage_df, 100)"
   ]
  },
  {
   "cell_type": "markdown",
   "metadata": {},
   "source": [
    "### 3-4) neither 관광객 출력"
   ]
  },
  {
   "cell_type": "code",
   "execution_count": null,
   "metadata": {
    "scrolled": false
   },
   "outputs": [],
   "source": [
    "df = user_df[2<=user_df['period']][user_df[\"period\"]<=15][user_df['neither'] == True][user_df[\"tour_visit\"]>3][user_df['usage'] > 5]\n",
    "anz.show_od_pattern(df, usage_df, 100)"
   ]
  },
  {
   "cell_type": "code",
   "execution_count": null,
   "metadata": {},
   "outputs": [],
   "source": []
  }
 ],
 "metadata": {
  "kernelspec": {
   "display_name": "Python 3",
   "language": "python",
   "name": "python3"
  },
  "language_info": {
   "codemirror_mode": {
    "name": "ipython",
    "version": 3
   },
   "file_extension": ".py",
   "mimetype": "text/x-python",
   "name": "python",
   "nbconvert_exporter": "python",
   "pygments_lexer": "ipython3",
   "version": "3.8.3"
  }
 },
 "nbformat": 4,
 "nbformat_minor": 2
}
