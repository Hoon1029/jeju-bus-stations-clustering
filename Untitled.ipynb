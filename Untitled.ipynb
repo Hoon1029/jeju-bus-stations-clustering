{
 "cells": [
  {
   "cell_type": "code",
   "execution_count": 1,
   "metadata": {},
   "outputs": [],
   "source": [
    "import sys\n",
    "project_path = \"D:\\\\Users\\\\workspace\\\\2.jeju-bus-stations-clustering_MH\"\n",
    "sys.path.append(project_path)"
   ]
  },
  {
   "cell_type": "code",
   "execution_count": 3,
   "metadata": {},
   "outputs": [
    {
     "data": {
      "text/plain": [
       "['D:\\\\Users\\\\workspace\\\\2.jeju-bus-stations-clustering_MH',\n",
       " 'D:\\\\Users\\\\Embedded\\\\Anaconda3\\\\python38.zip',\n",
       " 'D:\\\\Users\\\\Embedded\\\\Anaconda3\\\\DLLs',\n",
       " 'D:\\\\Users\\\\Embedded\\\\Anaconda3\\\\lib',\n",
       " 'D:\\\\Users\\\\Embedded\\\\Anaconda3',\n",
       " '',\n",
       " 'D:\\\\Users\\\\Embedded\\\\Anaconda3\\\\lib\\\\site-packages',\n",
       " 'D:\\\\Users\\\\Embedded\\\\Anaconda3\\\\lib\\\\site-packages\\\\win32',\n",
       " 'D:\\\\Users\\\\Embedded\\\\Anaconda3\\\\lib\\\\site-packages\\\\win32\\\\lib',\n",
       " 'D:\\\\Users\\\\Embedded\\\\Anaconda3\\\\lib\\\\site-packages\\\\Pythonwin',\n",
       " 'D:\\\\Users\\\\Embedded\\\\Anaconda3\\\\lib\\\\site-packages\\\\IPython\\\\extensions',\n",
       " 'C:\\\\Users\\\\Embedded\\\\.ipython',\n",
       " 'D:\\\\Users\\\\workspace\\\\2.jeju-bus-stations-clustering_MH']"
      ]
     },
     "execution_count": 3,
     "metadata": {},
     "output_type": "execute_result"
    }
   ],
   "source": [
    "sys.path"
   ]
  },
  {
   "cell_type": "code",
   "execution_count": null,
   "metadata": {},
   "outputs": [],
   "source": []
  }
 ],
 "metadata": {
  "kernelspec": {
   "display_name": "Python 3",
   "language": "python",
   "name": "python3"
  },
  "language_info": {
   "codemirror_mode": {
    "name": "ipython",
    "version": 3
   },
   "file_extension": ".py",
   "mimetype": "text/x-python",
   "name": "python",
   "nbconvert_exporter": "python",
   "pygments_lexer": "ipython3",
   "version": "3.8.3"
  }
 },
 "nbformat": 4,
 "nbformat_minor": 4
}
