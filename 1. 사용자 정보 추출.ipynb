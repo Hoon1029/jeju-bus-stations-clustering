{
 "cells": [
  {
   "cell_type": "markdown",
   "metadata": {},
   "source": [
    "# 관광객 추정 버스 이용자 추출 알고리즘\n",
    "* input: 버스 이용 데이터\n",
    "* ouput: [user_id, first_usage_date, last_usage_date, tourist_flag]"
   ]
  },
  {
   "cell_type": "code",
   "execution_count": 18,
   "metadata": {},
   "outputs": [],
   "source": [
    "import os\n",
    "import datetime\n",
    "import pandas as pd\n",
    "from tqdm import tqdm\n",
    "from pyarrow import csv\n",
    "\n",
    "# 사용자 정의\n",
    "import bus"
   ]
  },
  {
   "cell_type": "code",
   "execution_count": 19,
   "metadata": {},
   "outputs": [],
   "source": [
    "# 관광객 연속 체류 기간 (default: 15)\n",
    "day = 15\n",
    "\n",
    "geton_station_name = \"geton_stataion_name\""
   ]
  },
  {
   "cell_type": "markdown",
   "metadata": {},
   "source": [
    "### 1. Def"
   ]
  },
  {
   "cell_type": "markdown",
   "metadata": {},
   "source": [
    "#### 1) 데이터 전처리\n",
    "* 날짜 데이터 int -> datetime 변환"
   ]
  },
  {
   "cell_type": "code",
   "execution_count": 20,
   "metadata": {},
   "outputs": [],
   "source": [
    "def data_preprocessing(usage_df):\n",
    "    # datetime64로 형 변환 # M[base_date] = pd.to_datetime(M[base_date], format='%Y%m%d')\n",
    "    datetime_cols = [\"geton_datetime\", \"getoff_datetime\"]    \n",
    "    for col in tqdm(datetime_cols):\n",
    "        usage_df[col] = pd.to_datetime(usage_df[col], format='%Y%m%d%H%M%S')\n",
    "    return usage_df"
   ]
  },
  {
   "cell_type": "markdown",
   "metadata": {},
   "source": [
    "#### 2) 전체 유저 이용데이터 분석\n",
    "* 전체 사용자 리스트 추출\n",
    "* 사용기간 분석"
   ]
  },
  {
   "cell_type": "code",
   "execution_count": 21,
   "metadata": {},
   "outputs": [],
   "source": [
    "def analyze_total_user(usage_df):\n",
    "    user_id_df = usage_df[[\"user_id\"]].drop_duplicates()\n",
    "\n",
    "    geton_grouped_df = usage_df[[\"user_id\", \"geton_datetime\"]].groupby([\"user_id\"])\n",
    "    getoff_grouped_df = usage_df[[\"user_id\", \"getoff_datetime\"]].groupby([\"user_id\"])\n",
    "\n",
    "    first_use_date_df = geton_grouped_df.min().rename(columns = {\"geton_datetime\": \"first_usage_datetime\"})\n",
    "\n",
    "    geton_last_use_date_df = geton_grouped_df.max().rename(columns = {\"geton_datetime\": \"last_usage_datetime\"})\n",
    "    getoff_last_use_date_df = getoff_grouped_df.max().rename(columns = {\"geton_datetime\": \"last_usage_datetime\"})\n",
    "    last_use_date_df = geton_last_use_date_df\n",
    "\n",
    "    user_infor_df = pd.merge(user_id_df, first_use_date_df, on = \"user_id\")\n",
    "    user_infor_df = pd.merge(user_infor_df, last_use_date_df, on = \"user_id\")\n",
    "    user_infor_df[\"tour_period\"] = user_infor_df[\"last_usage_datetime\"] - user_infor_df[\"first_usage_datetime\"]\n",
    "    user_infor_df[\"tour_period\"]\n",
    "    \n",
    "    return user_infor_df"
   ]
  },
  {
   "cell_type": "markdown",
   "metadata": {},
   "source": [
    "#### 3) 추출1 - 사용기간 고려\n",
    "관광객으로 유추 가능한 사용자 1차 추출.\n",
    "1. {user_id, base_date} 쌍을 집합(중복 제거) user_id_and_base_date에 담는다.\n",
    "    이때, 중복 제거는 {'a1b1c1', '20190101'}, {'a1b1c1', '20190101'} ... \n",
    "    => 2회 이상 중복되는 것을 1개만 유지하고 모두 삭제처리한다는 의미.\n",
    "    * 중복이 생긴 이유는 2019년 1월 1일 a1b1c1이 버스를 3번 탔으면, 3번만큼 튜플이 생기는 것이 당연. \n",
    "2. 이후 집합 user_id_and_base_date에 대하여 groupby(user_id).count() 연산을 수행하면,\n",
    "    각 user가 며칠 버스를 이용하였는지 알 수 있다. (단, 연속적인 며칠 X.) \n",
    "    경우1 (1월 1일, 2월 3일, ..., 12월 1일 => 10일): 불연속적인 10일\n",
    "    경우2 (1월 1일, 2일, 3일, ..., 10일 => 10일): 연속적인 10일\n",
    "참고로, 2차 추출 단계에서 경우2에 해당하는 튜플만 다시 추출할 것이다."
   ]
  },
  {
   "cell_type": "code",
   "execution_count": 22,
   "metadata": {},
   "outputs": [],
   "source": [
    "def extract_user1(usage_df):\n",
    "    user_id_and_base_date = usage_df[[\"user_id\", \"base_date\"]].drop_duplicates()\n",
    "    date_cnt = user_id_and_base_date.groupby(by=[\"user_id\"], as_index=False).count()\n",
    "    U = list(date_cnt[date_cnt[\"base_date\"] < day][\"user_id\"])\n",
    "    return U"
   ]
  },
  {
   "cell_type": "markdown",
   "metadata": {},
   "source": [
    "#### 4) 추출2 - 사용기간 고려\n",
    "관광객으로 유추 가능한 사용자 2차 추출.\n",
    "1. 1차 추출에 의해 식별된 user_id의 인스턴스들을 모아 M2에 저장.\n",
    "2. 이후 user_id별로 base_date의 max와 min을 추출\n",
    "3. user_id별로 max - min이 14를 초과하는 경우 삭제 처리\n",
    "   (연속적으로 며칠 이용했는지 판별 -> 14일 이하인 것만 추출.)"
   ]
  },
  {
   "cell_type": "code",
   "execution_count": 23,
   "metadata": {
    "scrolled": true
   },
   "outputs": [],
   "source": [
    "def extract_user2(usage_df, U):\n",
    "    M2 = usage_df.query('{} in {}'.format(\"user_id\", U))[[\"user_id\", \"base_date\"]].groupby(by=[\"user_id\"], as_index=False)\n",
    "    M2_left = M2.max()\n",
    "    M2_right = M2.min()\n",
    "    suffixes = ['_max', '_min']\n",
    "\n",
    "    M2_2 = pd.merge(M2_left, M2_right, on=\"user_id\", how='inner', suffixes=suffixes)\n",
    "    for postfix in suffixes:\n",
    "        M2_2[\"base_date\" + postfix] = pd.to_datetime(M2_2[\"base_date\" + postfix], format='%Y%m%d')\n",
    "    M2_2['diff'] = M2_2[\"base_date\" + suffixes[0]] - M2_2[\"base_date\" + suffixes[1]]\n",
    "\n",
    "    U2 = list(M2_2[M2_2['diff'] < '%d days' % day][\"user_id\"].unique()) \n",
    "    return U2"
   ]
  },
  {
   "cell_type": "markdown",
   "metadata": {},
   "source": [
    "#### 5) 추출3 - 방문 정류장 고려\n",
    "관광객으로 유추 가능한 사용자 3차 추출.\n",
    "1. 승/하차 정류장 중 '제주국제공항'이 존재하는가?\n",
    "2. 승/하차 정류장 중 '제주연안여객터미널', '국제여객선터미널'등이 존재하는가?\n",
    "3. 승/하차 정류장 중 '호텔/여관/펜션' 등이 존재하는가?"
   ]
  },
  {
   "cell_type": "code",
   "execution_count": 24,
   "metadata": {},
   "outputs": [],
   "source": [
    "def extract_user3(user_df, U2):\n",
    "    M3 = user_df.query('{} in {}'.format(\"user_id\", U2))\n",
    "\n",
    "    query_set = []\n",
    "    for col in [geton_station_name, \"getoff_station_name\"]:\n",
    "        for col2 in ['제주국제공항', '제주연안여객터미널', '국제여객선터미널',\n",
    "                      '호텔', '여관', '펜션', '민박', '관광', '해수욕장', '공원', '파크', '랜드', '휴양림', '박물관', '폭포', '미술관', '오름']:\n",
    "            query = '{0}.str.contains(\"{1}\") '.format(col, col2)\n",
    "            query_set.append(query)\n",
    "    query = ' or '.join(query_set)\n",
    "    M3 = M3.query(query, engine='python')\n",
    "    U3 = list(M3[\"user_id\"].unique())\n",
    "    return U3"
   ]
  },
  {
   "cell_type": "markdown",
   "metadata": {},
   "source": [
    "### 2. main"
   ]
  },
  {
   "cell_type": "code",
   "execution_count": 27,
   "metadata": {},
   "outputs": [
    {
     "name": "stderr",
     "output_type": "stream",
     "text": [
      "100%|██████████████████████████████████████████████████████████████████████████████████| 89/89 [04:28<00:00,  3.01s/it]\n",
      "100%|████████████████████████████████████████████████████████████████████████████████████| 2/2 [00:51<00:00, 25.93s/it]\n"
     ]
    },
    {
     "name": "stdout",
     "output_type": "stream",
     "text": [
      "추출 전 user_id의 개수 12291789\n",
      "1차 추출 결과 user_id의 개수: 605906\n",
      "2차 추출 결과 user_id의 개수: 435662\n",
      "3차 추출 결과 user_id의 개수: 267735\n",
      "저장완료\n"
     ]
    }
   ],
   "source": [
    "start_date = datetime.datetime(2019, 6, 1)\n",
    "end_date = datetime.datetime(2019, 8, 29)\n",
    "\n",
    "input_path_list = bus.make_input_path(start_date, end_date)\n",
    "\n",
    "usage_df = bus.load_tatal_usage_data(input_path_list)\n",
    "usage_df = data_preprocessing(usage_df)\n",
    "print('추출 전 user_id의 개수', len(usage_df[\"user_id\"])) \n",
    "\n",
    "user_infor_df = analyze_total_user(usage_df)\n",
    "\n",
    "U = extract_user1(usage_df)\n",
    "print('1차 추출 결과 user_id의 개수:', len(U))\n",
    "\n",
    "U2 = extract_user2(usage_df, U)\n",
    "print('2차 추출 결과 user_id의 개수:', len(U2))\n",
    "\n",
    "U3 = extract_user3(usage_df, U2)\n",
    "print('3차 추출 결과 user_id의 개수:', len(U3))\n",
    "#유의사항: 실제 사용자(관광객) 수는 user_id의 개수보다 크거나 같을 것. (사용자 수는 user_count로 파악할 것.)\n",
    "\n",
    "user_infor_df[\"tourist\"] = user_infor_df[\"user_id\"].isin(U3).apply(lambda x : int(x))\n",
    "user_infor_df.to_csv(\"user_list.csv\", encoding=\"utf-8\", index=False)\n",
    "print(\"저장완료\")"
   ]
  },
  {
   "cell_type": "markdown",
   "metadata": {},
   "source": [
    "### 3. 결과 출력 "
   ]
  },
  {
   "cell_type": "code",
   "execution_count": 26,
   "metadata": {},
   "outputs": [
    {
     "data": {
      "text/html": [
       "<div>\n",
       "<style scoped>\n",
       "    .dataframe tbody tr th:only-of-type {\n",
       "        vertical-align: middle;\n",
       "    }\n",
       "\n",
       "    .dataframe tbody tr th {\n",
       "        vertical-align: top;\n",
       "    }\n",
       "\n",
       "    .dataframe thead th {\n",
       "        text-align: right;\n",
       "    }\n",
       "</style>\n",
       "<table border=\"1\" class=\"dataframe\">\n",
       "  <thead>\n",
       "    <tr style=\"text-align: right;\">\n",
       "      <th></th>\n",
       "      <th>user_id</th>\n",
       "      <th>first_usage_datetime</th>\n",
       "      <th>last_usage_datetime</th>\n",
       "      <th>tour_period</th>\n",
       "      <th>tourist</th>\n",
       "    </tr>\n",
       "  </thead>\n",
       "  <tbody>\n",
       "    <tr>\n",
       "      <th>0</th>\n",
       "      <td>f6f372cf8c6732eafc2a82b4f9d7a08bb3b493213ea4ef...</td>\n",
       "      <td>2019-06-01 15:02:25</td>\n",
       "      <td>2019-06-09 20:47:31</td>\n",
       "      <td>8 days 05:45:06</td>\n",
       "      <td>1</td>\n",
       "    </tr>\n",
       "    <tr>\n",
       "      <th>1</th>\n",
       "      <td>3f6cfe2429f6e8d62cddc39222993405789b7b9ea2a592...</td>\n",
       "      <td>2019-06-01 15:02:29</td>\n",
       "      <td>2019-06-10 17:12:14</td>\n",
       "      <td>9 days 02:09:45</td>\n",
       "      <td>1</td>\n",
       "    </tr>\n",
       "    <tr>\n",
       "      <th>2</th>\n",
       "      <td>107cd874732b48a35df957bf653751154b0234e5573ba5...</td>\n",
       "      <td>2019-06-01 07:20:13</td>\n",
       "      <td>2019-06-07 14:03:34</td>\n",
       "      <td>6 days 06:43:21</td>\n",
       "      <td>0</td>\n",
       "    </tr>\n",
       "    <tr>\n",
       "      <th>3</th>\n",
       "      <td>27b16001fafd812b1e5c474cbc60455a9286ad27ecf8e5...</td>\n",
       "      <td>2019-06-01 07:45:59</td>\n",
       "      <td>2019-06-10 07:48:55</td>\n",
       "      <td>9 days 00:02:56</td>\n",
       "      <td>0</td>\n",
       "    </tr>\n",
       "    <tr>\n",
       "      <th>4</th>\n",
       "      <td>89c9a1c6e5915df4c192acc54067ee9a743f44eb559f3b...</td>\n",
       "      <td>2019-06-01 17:42:06</td>\n",
       "      <td>2019-06-05 20:24:43</td>\n",
       "      <td>4 days 02:42:37</td>\n",
       "      <td>0</td>\n",
       "    </tr>\n",
       "    <tr>\n",
       "      <th>...</th>\n",
       "      <td>...</td>\n",
       "      <td>...</td>\n",
       "      <td>...</td>\n",
       "      <td>...</td>\n",
       "      <td>...</td>\n",
       "    </tr>\n",
       "    <tr>\n",
       "      <th>233557</th>\n",
       "      <td>af04d5808a3d8b54e955bd2d12e1e0448b26b1b9916225...</td>\n",
       "      <td>2019-06-10 14:37:04</td>\n",
       "      <td>2019-06-10 14:37:04</td>\n",
       "      <td>0 days 00:00:00</td>\n",
       "      <td>1</td>\n",
       "    </tr>\n",
       "    <tr>\n",
       "      <th>233558</th>\n",
       "      <td>8fbe4dff1570744837279dcbd16b96048f31470c59e3fa...</td>\n",
       "      <td>2019-06-10 07:58:38</td>\n",
       "      <td>2019-06-10 07:58:38</td>\n",
       "      <td>0 days 00:00:00</td>\n",
       "      <td>0</td>\n",
       "    </tr>\n",
       "    <tr>\n",
       "      <th>233559</th>\n",
       "      <td>e616d1fddb5969605fe902044b963f7531d305a7bd428e...</td>\n",
       "      <td>2019-06-10 16:18:52</td>\n",
       "      <td>2019-06-10 16:18:52</td>\n",
       "      <td>0 days 00:00:00</td>\n",
       "      <td>0</td>\n",
       "    </tr>\n",
       "    <tr>\n",
       "      <th>233560</th>\n",
       "      <td>b60d072d772cde597fcc13e22dc21bafa7b9992cc3dc58...</td>\n",
       "      <td>2019-06-10 18:39:06</td>\n",
       "      <td>2019-06-10 18:39:06</td>\n",
       "      <td>0 days 00:00:00</td>\n",
       "      <td>1</td>\n",
       "    </tr>\n",
       "    <tr>\n",
       "      <th>233561</th>\n",
       "      <td>a259104dd78c29e006d8705f0d489c9fe925896b5d847b...</td>\n",
       "      <td>2019-06-10 18:39:22</td>\n",
       "      <td>2019-06-10 18:39:22</td>\n",
       "      <td>0 days 00:00:00</td>\n",
       "      <td>1</td>\n",
       "    </tr>\n",
       "  </tbody>\n",
       "</table>\n",
       "<p>233562 rows × 5 columns</p>\n",
       "</div>"
      ],
      "text/plain": [
       "                                                  user_id  \\\n",
       "0       f6f372cf8c6732eafc2a82b4f9d7a08bb3b493213ea4ef...   \n",
       "1       3f6cfe2429f6e8d62cddc39222993405789b7b9ea2a592...   \n",
       "2       107cd874732b48a35df957bf653751154b0234e5573ba5...   \n",
       "3       27b16001fafd812b1e5c474cbc60455a9286ad27ecf8e5...   \n",
       "4       89c9a1c6e5915df4c192acc54067ee9a743f44eb559f3b...   \n",
       "...                                                   ...   \n",
       "233557  af04d5808a3d8b54e955bd2d12e1e0448b26b1b9916225...   \n",
       "233558  8fbe4dff1570744837279dcbd16b96048f31470c59e3fa...   \n",
       "233559  e616d1fddb5969605fe902044b963f7531d305a7bd428e...   \n",
       "233560  b60d072d772cde597fcc13e22dc21bafa7b9992cc3dc58...   \n",
       "233561  a259104dd78c29e006d8705f0d489c9fe925896b5d847b...   \n",
       "\n",
       "       first_usage_datetime last_usage_datetime     tour_period  tourist  \n",
       "0       2019-06-01 15:02:25 2019-06-09 20:47:31 8 days 05:45:06        1  \n",
       "1       2019-06-01 15:02:29 2019-06-10 17:12:14 9 days 02:09:45        1  \n",
       "2       2019-06-01 07:20:13 2019-06-07 14:03:34 6 days 06:43:21        0  \n",
       "3       2019-06-01 07:45:59 2019-06-10 07:48:55 9 days 00:02:56        0  \n",
       "4       2019-06-01 17:42:06 2019-06-05 20:24:43 4 days 02:42:37        0  \n",
       "...                     ...                 ...             ...      ...  \n",
       "233557  2019-06-10 14:37:04 2019-06-10 14:37:04 0 days 00:00:00        1  \n",
       "233558  2019-06-10 07:58:38 2019-06-10 07:58:38 0 days 00:00:00        0  \n",
       "233559  2019-06-10 16:18:52 2019-06-10 16:18:52 0 days 00:00:00        0  \n",
       "233560  2019-06-10 18:39:06 2019-06-10 18:39:06 0 days 00:00:00        1  \n",
       "233561  2019-06-10 18:39:22 2019-06-10 18:39:22 0 days 00:00:00        1  \n",
       "\n",
       "[233562 rows x 5 columns]"
      ]
     },
     "execution_count": 26,
     "metadata": {},
     "output_type": "execute_result"
    }
   ],
   "source": [
    "user_infor_df"
   ]
  },
  {
   "cell_type": "markdown",
   "metadata": {},
   "source": [
    "# 추출된 임의의 관광객 이동 패턴 출력 예시"
   ]
  },
  {
   "cell_type": "code",
   "execution_count": 11,
   "metadata": {},
   "outputs": [
    {
     "data": {
      "text/html": [
       "<div>\n",
       "<style scoped>\n",
       "    .dataframe tbody tr th:only-of-type {\n",
       "        vertical-align: middle;\n",
       "    }\n",
       "\n",
       "    .dataframe tbody tr th {\n",
       "        vertical-align: top;\n",
       "    }\n",
       "\n",
       "    .dataframe thead th {\n",
       "        text-align: right;\n",
       "    }\n",
       "</style>\n",
       "<table border=\"1\" class=\"dataframe\">\n",
       "  <thead>\n",
       "    <tr style=\"text-align: right;\">\n",
       "      <th></th>\n",
       "      <th>user_id</th>\n",
       "      <th>base_date</th>\n",
       "      <th>route_id</th>\n",
       "      <th>route_name</th>\n",
       "      <th>route_no</th>\n",
       "      <th>geton_datetime</th>\n",
       "      <th>geton_station_id</th>\n",
       "      <th>geton_stataion_name</th>\n",
       "      <th>geton_station_longitude</th>\n",
       "      <th>geton_station_latitude</th>\n",
       "      <th>getoff_datetime</th>\n",
       "      <th>getoff_station_id</th>\n",
       "      <th>getoff_station_name</th>\n",
       "      <th>getoff_station_longitude</th>\n",
       "      <th>getoff_station_latitude</th>\n",
       "      <th>user_type</th>\n",
       "      <th>user_count</th>\n",
       "      <th>input_date</th>\n",
       "    </tr>\n",
       "  </thead>\n",
       "  <tbody>\n",
       "  </tbody>\n",
       "</table>\n",
       "</div>"
      ],
      "text/plain": [
       "Empty DataFrame\n",
       "Columns: [user_id, base_date, route_id, route_name, route_no, geton_datetime, geton_station_id, geton_stataion_name, geton_station_longitude, geton_station_latitude, getoff_datetime, getoff_station_id, getoff_station_name, getoff_station_longitude, getoff_station_latitude, user_type, user_count, input_date]\n",
       "Index: []"
      ]
     },
     "execution_count": 11,
     "metadata": {},
     "output_type": "execute_result"
    }
   ],
   "source": [
    "usage_df.query('{} == \"{}\"'.format(\"user_id\", \n",
    "                           '250557c8a203138628194b0ed3dfe9c711c3d21d09d984916c4c9546134f22be'))"
   ]
  },
  {
   "cell_type": "code",
   "execution_count": 12,
   "metadata": {},
   "outputs": [
    {
     "data": {
      "text/html": [
       "<div>\n",
       "<style scoped>\n",
       "    .dataframe tbody tr th:only-of-type {\n",
       "        vertical-align: middle;\n",
       "    }\n",
       "\n",
       "    .dataframe tbody tr th {\n",
       "        vertical-align: top;\n",
       "    }\n",
       "\n",
       "    .dataframe thead th {\n",
       "        text-align: right;\n",
       "    }\n",
       "</style>\n",
       "<table border=\"1\" class=\"dataframe\">\n",
       "  <thead>\n",
       "    <tr style=\"text-align: right;\">\n",
       "      <th></th>\n",
       "      <th>user_id</th>\n",
       "      <th>base_date</th>\n",
       "      <th>route_id</th>\n",
       "      <th>route_name</th>\n",
       "      <th>route_no</th>\n",
       "      <th>geton_datetime</th>\n",
       "      <th>geton_station_id</th>\n",
       "      <th>geton_stataion_name</th>\n",
       "      <th>geton_station_longitude</th>\n",
       "      <th>geton_station_latitude</th>\n",
       "      <th>getoff_datetime</th>\n",
       "      <th>getoff_station_id</th>\n",
       "      <th>getoff_station_name</th>\n",
       "      <th>getoff_station_longitude</th>\n",
       "      <th>getoff_station_latitude</th>\n",
       "      <th>user_type</th>\n",
       "      <th>user_count</th>\n",
       "      <th>input_date</th>\n",
       "    </tr>\n",
       "  </thead>\n",
       "  <tbody>\n",
       "  </tbody>\n",
       "</table>\n",
       "</div>"
      ],
      "text/plain": [
       "Empty DataFrame\n",
       "Columns: [user_id, base_date, route_id, route_name, route_no, geton_datetime, geton_station_id, geton_stataion_name, geton_station_longitude, geton_station_latitude, getoff_datetime, getoff_station_id, getoff_station_name, getoff_station_longitude, getoff_station_latitude, user_type, user_count, input_date]\n",
       "Index: []"
      ]
     },
     "execution_count": 12,
     "metadata": {},
     "output_type": "execute_result"
    }
   ],
   "source": [
    "usage_df.query('{} == \"{}\"'.format(\"user_id\", \n",
    "                           '055373583405cd9f943d40b199d52570332f3ac91e2f85b726e67da48284d2a8'))"
   ]
  },
  {
   "cell_type": "code",
   "execution_count": 13,
   "metadata": {},
   "outputs": [
    {
     "data": {
      "text/html": [
       "<div>\n",
       "<style scoped>\n",
       "    .dataframe tbody tr th:only-of-type {\n",
       "        vertical-align: middle;\n",
       "    }\n",
       "\n",
       "    .dataframe tbody tr th {\n",
       "        vertical-align: top;\n",
       "    }\n",
       "\n",
       "    .dataframe thead th {\n",
       "        text-align: right;\n",
       "    }\n",
       "</style>\n",
       "<table border=\"1\" class=\"dataframe\">\n",
       "  <thead>\n",
       "    <tr style=\"text-align: right;\">\n",
       "      <th></th>\n",
       "      <th>user_id</th>\n",
       "      <th>base_date</th>\n",
       "      <th>route_id</th>\n",
       "      <th>route_name</th>\n",
       "      <th>route_no</th>\n",
       "      <th>geton_datetime</th>\n",
       "      <th>geton_station_id</th>\n",
       "      <th>geton_stataion_name</th>\n",
       "      <th>geton_station_longitude</th>\n",
       "      <th>geton_station_latitude</th>\n",
       "      <th>getoff_datetime</th>\n",
       "      <th>getoff_station_id</th>\n",
       "      <th>getoff_station_name</th>\n",
       "      <th>getoff_station_longitude</th>\n",
       "      <th>getoff_station_latitude</th>\n",
       "      <th>user_type</th>\n",
       "      <th>user_count</th>\n",
       "      <th>input_date</th>\n",
       "    </tr>\n",
       "  </thead>\n",
       "  <tbody>\n",
       "  </tbody>\n",
       "</table>\n",
       "</div>"
      ],
      "text/plain": [
       "Empty DataFrame\n",
       "Columns: [user_id, base_date, route_id, route_name, route_no, geton_datetime, geton_station_id, geton_stataion_name, geton_station_longitude, geton_station_latitude, getoff_datetime, getoff_station_id, getoff_station_name, getoff_station_longitude, getoff_station_latitude, user_type, user_count, input_date]\n",
       "Index: []"
      ]
     },
     "execution_count": 13,
     "metadata": {},
     "output_type": "execute_result"
    }
   ],
   "source": [
    "usage_df.query('{} == \"{}\"'.format(\"user_id\", \n",
    "                           'f7be0193a64bfedf4f45998a9fe7eb38dd3875c1b6fd10494887ebb5e470023b')).sort_values(by=\"geton_datetime\")"
   ]
  },
  {
   "cell_type": "code",
   "execution_count": 14,
   "metadata": {},
   "outputs": [
    {
     "data": {
      "text/html": [
       "<div>\n",
       "<style scoped>\n",
       "    .dataframe tbody tr th:only-of-type {\n",
       "        vertical-align: middle;\n",
       "    }\n",
       "\n",
       "    .dataframe tbody tr th {\n",
       "        vertical-align: top;\n",
       "    }\n",
       "\n",
       "    .dataframe thead th {\n",
       "        text-align: right;\n",
       "    }\n",
       "</style>\n",
       "<table border=\"1\" class=\"dataframe\">\n",
       "  <thead>\n",
       "    <tr style=\"text-align: right;\">\n",
       "      <th></th>\n",
       "      <th>user_id</th>\n",
       "      <th>base_date</th>\n",
       "      <th>route_id</th>\n",
       "      <th>route_name</th>\n",
       "      <th>route_no</th>\n",
       "      <th>geton_datetime</th>\n",
       "      <th>geton_station_id</th>\n",
       "      <th>geton_stataion_name</th>\n",
       "      <th>geton_station_longitude</th>\n",
       "      <th>geton_station_latitude</th>\n",
       "      <th>getoff_datetime</th>\n",
       "      <th>getoff_station_id</th>\n",
       "      <th>getoff_station_name</th>\n",
       "      <th>getoff_station_longitude</th>\n",
       "      <th>getoff_station_latitude</th>\n",
       "      <th>user_type</th>\n",
       "      <th>user_count</th>\n",
       "      <th>input_date</th>\n",
       "    </tr>\n",
       "  </thead>\n",
       "  <tbody>\n",
       "  </tbody>\n",
       "</table>\n",
       "</div>"
      ],
      "text/plain": [
       "Empty DataFrame\n",
       "Columns: [user_id, base_date, route_id, route_name, route_no, geton_datetime, geton_station_id, geton_stataion_name, geton_station_longitude, geton_station_latitude, getoff_datetime, getoff_station_id, getoff_station_name, getoff_station_longitude, getoff_station_latitude, user_type, user_count, input_date]\n",
       "Index: []"
      ]
     },
     "execution_count": 14,
     "metadata": {},
     "output_type": "execute_result"
    }
   ],
   "source": [
    "usage_df.query('{} == \"{}\"'.format(\"user_id\", \n",
    "                           '1dfeead3f79a0ace23a489fb654fb11a8d45b3cd44adeb8e8822b47397cf3e11')).sort_values(by=\"geton_datetime\")"
   ]
  },
  {
   "cell_type": "code",
   "execution_count": 15,
   "metadata": {},
   "outputs": [
    {
     "data": {
      "text/html": [
       "<div>\n",
       "<style scoped>\n",
       "    .dataframe tbody tr th:only-of-type {\n",
       "        vertical-align: middle;\n",
       "    }\n",
       "\n",
       "    .dataframe tbody tr th {\n",
       "        vertical-align: top;\n",
       "    }\n",
       "\n",
       "    .dataframe thead th {\n",
       "        text-align: right;\n",
       "    }\n",
       "</style>\n",
       "<table border=\"1\" class=\"dataframe\">\n",
       "  <thead>\n",
       "    <tr style=\"text-align: right;\">\n",
       "      <th></th>\n",
       "      <th>user_id</th>\n",
       "      <th>base_date</th>\n",
       "      <th>route_id</th>\n",
       "      <th>route_name</th>\n",
       "      <th>route_no</th>\n",
       "      <th>geton_datetime</th>\n",
       "      <th>geton_station_id</th>\n",
       "      <th>geton_stataion_name</th>\n",
       "      <th>geton_station_longitude</th>\n",
       "      <th>geton_station_latitude</th>\n",
       "      <th>getoff_datetime</th>\n",
       "      <th>getoff_station_id</th>\n",
       "      <th>getoff_station_name</th>\n",
       "      <th>getoff_station_longitude</th>\n",
       "      <th>getoff_station_latitude</th>\n",
       "      <th>user_type</th>\n",
       "      <th>user_count</th>\n",
       "      <th>input_date</th>\n",
       "    </tr>\n",
       "  </thead>\n",
       "  <tbody>\n",
       "  </tbody>\n",
       "</table>\n",
       "</div>"
      ],
      "text/plain": [
       "Empty DataFrame\n",
       "Columns: [user_id, base_date, route_id, route_name, route_no, geton_datetime, geton_station_id, geton_stataion_name, geton_station_longitude, geton_station_latitude, getoff_datetime, getoff_station_id, getoff_station_name, getoff_station_longitude, getoff_station_latitude, user_type, user_count, input_date]\n",
       "Index: []"
      ]
     },
     "execution_count": 15,
     "metadata": {},
     "output_type": "execute_result"
    }
   ],
   "source": [
    "usage_df.query('{} == \"{}\"'.format(\"user_id\", \n",
    "                           '68e5110b22f2fc3eb5d822e52fb3fc96e85f13ecdd25f4fa4afe6255d7b33d58')).sort_values(by=\"geton_datetime\")"
   ]
  },
  {
   "cell_type": "code",
   "execution_count": 16,
   "metadata": {},
   "outputs": [
    {
     "data": {
      "text/html": [
       "<div>\n",
       "<style scoped>\n",
       "    .dataframe tbody tr th:only-of-type {\n",
       "        vertical-align: middle;\n",
       "    }\n",
       "\n",
       "    .dataframe tbody tr th {\n",
       "        vertical-align: top;\n",
       "    }\n",
       "\n",
       "    .dataframe thead th {\n",
       "        text-align: right;\n",
       "    }\n",
       "</style>\n",
       "<table border=\"1\" class=\"dataframe\">\n",
       "  <thead>\n",
       "    <tr style=\"text-align: right;\">\n",
       "      <th></th>\n",
       "      <th>user_id</th>\n",
       "      <th>base_date</th>\n",
       "      <th>route_id</th>\n",
       "      <th>route_name</th>\n",
       "      <th>route_no</th>\n",
       "      <th>geton_datetime</th>\n",
       "      <th>geton_station_id</th>\n",
       "      <th>geton_stataion_name</th>\n",
       "      <th>geton_station_longitude</th>\n",
       "      <th>geton_station_latitude</th>\n",
       "      <th>getoff_datetime</th>\n",
       "      <th>getoff_station_id</th>\n",
       "      <th>getoff_station_name</th>\n",
       "      <th>getoff_station_longitude</th>\n",
       "      <th>getoff_station_latitude</th>\n",
       "      <th>user_type</th>\n",
       "      <th>user_count</th>\n",
       "      <th>input_date</th>\n",
       "    </tr>\n",
       "  </thead>\n",
       "  <tbody>\n",
       "  </tbody>\n",
       "</table>\n",
       "</div>"
      ],
      "text/plain": [
       "Empty DataFrame\n",
       "Columns: [user_id, base_date, route_id, route_name, route_no, geton_datetime, geton_station_id, geton_stataion_name, geton_station_longitude, geton_station_latitude, getoff_datetime, getoff_station_id, getoff_station_name, getoff_station_longitude, getoff_station_latitude, user_type, user_count, input_date]\n",
       "Index: []"
      ]
     },
     "execution_count": 16,
     "metadata": {},
     "output_type": "execute_result"
    }
   ],
   "source": [
    "usage_df.query('{} == \"{}\"'.format(\"user_id\", \n",
    "                           'a6583c22116492a72c059e41272ef7aacdc29f6e9138ede6cf5142c26d780fb4'))"
   ]
  },
  {
   "cell_type": "code",
   "execution_count": null,
   "metadata": {},
   "outputs": [],
   "source": []
  }
 ],
 "metadata": {
  "kernelspec": {
   "display_name": "Python 3",
   "language": "python",
   "name": "python3"
  },
  "language_info": {
   "codemirror_mode": {
    "name": "ipython",
    "version": 3
   },
   "file_extension": ".py",
   "mimetype": "text/x-python",
   "name": "python",
   "nbconvert_exporter": "python",
   "pygments_lexer": "ipython3",
   "version": "3.8.3"
  }
 },
 "nbformat": 4,
 "nbformat_minor": 2
}
