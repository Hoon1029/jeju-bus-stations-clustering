{
 "cells": [
  {
   "cell_type": "markdown",
   "metadata": {},
   "source": [
    "# 관광객 추정 버스 이용자 추출 알고리즘\n",
    "* input: 버스 이용 데이터\n",
    "* ouput: [user_id, first_usage_date, last_usage_date, tourist_flag]"
   ]
  },
  {
   "cell_type": "code",
   "execution_count": 3,
   "metadata": {},
   "outputs": [],
   "source": [
    "import os\n",
    "import datetime\n",
    "import pandas as pd\n",
    "from tqdm import tqdm\n",
    "from pyarrow import csv\n",
    "\n",
    "# 사용자 정의\n",
    "import bus"
   ]
  },
  {
   "cell_type": "code",
   "execution_count": 4,
   "metadata": {},
   "outputs": [],
   "source": [
    "# 관광객 연속 체류 기간 (default: 15)\n",
    "day = 15\n",
    "\n",
    "geton_station_name = \"geton_stataion_name\""
   ]
  },
  {
   "cell_type": "markdown",
   "metadata": {},
   "source": [
    "# 1. Def"
   ]
  },
  {
   "cell_type": "markdown",
   "metadata": {},
   "source": [
    "#### 1) 데이터 전처리\n",
    "* 날짜 데이터 int -> datetime 변환"
   ]
  },
  {
   "cell_type": "code",
   "execution_count": 5,
   "metadata": {},
   "outputs": [],
   "source": [
    "def data_preprocessing(usage_df):\n",
    "    # datetime64로 형 변환 # M[base_date] = pd.to_datetime(M[base_date], format='%Y%m%d')\n",
    "    datetime_cols = [\"geton_datetime\", \"getoff_datetime\"]    \n",
    "    for col in tqdm(datetime_cols):\n",
    "        usage_df[col] = pd.to_datetime(usage_df[col], format='%Y%m%d%H%M%S')\n",
    "    return usage_df"
   ]
  },
  {
   "cell_type": "markdown",
   "metadata": {},
   "source": [
    "#### 2) 전체 유저 이용데이터 분석\n",
    "* 전체 사용자 리스트 추출\n",
    "* 사용기간 분석"
   ]
  },
  {
   "cell_type": "code",
   "execution_count": 176,
   "metadata": {},
   "outputs": [],
   "source": [
    "def create_user_df(usage_df):    # 유저 목록 생성\n",
    "    return usage_df[[\"user_id\"]].drop_duplicates()\n",
    "\n",
    "def analyze_usage_date(usage_df, user_df):    # 이용기간 및 이용 날짜 분석\n",
    "    grouped = usage_df[[\"user_id\", \"base_date\"]].drop_duplicates().groupby(by=[\"user_id\"], as_index=False)\n",
    "    first_date_df = grouped.min().rename(columns = {\"base_date\" : \"first_date\"})\n",
    "    last_date_df = grouped.max().rename(columns = {\"base_date\" : \"last_date\"})\n",
    "    use_days_df= grouped.count().rename(columns = {\"base_date\" : \"use_days\"})\n",
    "    user_df = pd.merge(user_df, first_date_df, on=\"user_id\")\n",
    "    user_df = pd.merge(user_df, last_date_df, on=\"user_id\")\n",
    "    user_df = pd.merge(user_df, use_days_df, on=\"user_id\")\n",
    "    user_df[\"period\"] = user_df[\"last_date\"] - user_df[\"first_date\"]\n",
    "    user_df[\"period\"] = user_df[\"period\"].apply(lambda x : int(x) + 1)\n",
    "    return user_df\n",
    "\n",
    "def analyze_usage_num(usage_df, user_df):    # 버스 이용량 분석\n",
    "    grouped = usage_df[[\"user_id\", \"base_date\"]].groupby(by=[\"user_id\"], as_index=False)\n",
    "    count_df = grouped.count().rename(columns = {\"base_date\" : \"usage\"})\n",
    "    user_df = pd.merge(user_df, count_df, on=\"user_id\")\n",
    "    return user_df\n",
    "\n",
    "def analyze_start_end(usage_df, user_df):    # 첫 승차 정류장과 마지막 하차 정류장 분석\n",
    "    grouped = usage_df.groupby(by=[\"user_id\"], as_index=False)\n",
    "    first = grouped.first()\n",
    "    last = grouped.last()\n",
    "    first['first_station'] = first['geton_stataion_name'].apply(lambda x : \"airport\" if str(x).find(\"공항\") != -1 else \"harbor\" if (\n",
    "                                                             bool(str(x).find(\"여객터미널\") != -1)| \n",
    "                                                             bool(str(x).find(\"여객선\")     != -1)|\n",
    "                                                             bool(str(x).find(\"제6부두\")    != -1)|\n",
    "                                                             bool(str(x).find(\"제4부두\")    != -1)|\n",
    "                                                             bool(str(x).find(\"임항로\")     != -1)|\n",
    "                                                             bool(str(x).find(\"제주해양경찰서\") != -1)) else \"other\")\n",
    "    last['last_station'] = last['getoff_station_name'].apply(lambda x : \"airport\" if str(x).find(\"공항\") != -1 else \"harbor\" if (\n",
    "                                                             bool(str(x).find(\"여객터미널\") != -1)| \n",
    "                                                             bool(str(x).find(\"여객선\")     != -1)|\n",
    "                                                             bool(str(x).find(\"제6부두\")    != -1)|\n",
    "                                                             bool(str(x).find(\"제4부두\")    != -1)|\n",
    "                                                             bool(str(x).find(\"임항로\")     != -1)|\n",
    "                                                             bool(str(x).find(\"제주해양경찰서\")!= -1))  else \"other\")\n",
    "    first2 = first[[\"user_id\", \"first_station\"]]\n",
    "    last2 = last[[\"user_id\", \"last_station\"]]\n",
    "    flag_df = pd.merge(first2, last2, on = \"user_id\")\n",
    "    flag_df[\"both\"] = (flag_df[\"first_station\"]!='other') & (flag_df[\"last_station\"]!='other')\n",
    "    flag_df[\"first\"] = (flag_df[\"first_station\"]!='other') & (flag_df[\"last_station\"]=='other')\n",
    "    flag_df[\"last\"] = (flag_df[\"first_station\"]=='other') & (flag_df[\"last_station\"]!='other')\n",
    "    flag_df[\"neither\"] = (flag_df[\"first_station\"]=='other') & (flag_df[\"last_station\"]=='other')\n",
    "    flag_df = flag_df.reset_index()\n",
    "    flag_df = flag_df[['user_id', 'first_station', 'last_station', 'both', 'first', 'last', 'neither']]\n",
    "    user_df = pd.merge(user_df, flag_df)\n",
    "    return user_df"
   ]
  },
  {
   "cell_type": "markdown",
   "metadata": {},
   "source": [
    "#### 3) 추출1 - 방문 기간\n",
    "* 2~14일 사이 방문"
   ]
  },
  {
   "cell_type": "code",
   "execution_count": 207,
   "metadata": {},
   "outputs": [],
   "source": [
    "def extract_user1(user_df):\n",
    "    user_df[\"tourist\"] = (2 <= user_df['period']) & (user_df['period'] <= 14)\n",
    "    return user_df"
   ]
  },
  {
   "cell_type": "code",
   "execution_count": null,
   "metadata": {},
   "outputs": [],
   "source": [
    "#### 4) 추출2 - 이용 기간 고려\n",
    "* 70%이상 이용"
   ]
  },
  {
   "cell_type": "code",
   "execution_count": 83,
   "metadata": {},
   "outputs": [],
   "source": [
    "def extract_user2(user_df):\n",
    "    select = user_df.columns\n",
    "    user_df[\"goal\"] = user_df[\"period\"].apply(lambda x : int(x*7/10))\n",
    "    user_df[\"tourist\"] = user_df[\"tourist\"] & (user_df[\"use_days\"] >= user_df[\"goal\"])\n",
    "    return user_df[select]"
   ]
  },
  {
   "cell_type": "markdown",
   "metadata": {},
   "source": [
    "#### 5) 추출3 - 방문 정류장 고려\n",
    "관광객으로 유추 가능한 사용자 3차 추출.\n",
    "1. 승/하차 정류장 중 '제주국제공항'이 존재하는가?\n",
    "2. 승/하차 정류장 중 '제주연안여객터미널', '국제여객선터미널'등이 존재하는가?\n",
    "3. 승/하차 정류장 중 '호텔/여관/펜션' 등이 존재하는가?"
   ]
  },
  {
   "cell_type": "code",
   "execution_count": 198,
   "metadata": {},
   "outputs": [],
   "source": [
    "def extract_user3(user_df):\n",
    "    user_df[\"tourist\"] = user_df[\"tourist\"] & user_df[\"both\"]\n",
    "#     user_df[\"tourist\"] = user_df[\"tourist\"] & (user_df[\"both\"] | user_df[\"first\"] | user_df[\"last\"])\n",
    "    return user_df"
   ]
  },
  {
   "cell_type": "markdown",
   "metadata": {},
   "source": [
    "### 2. main"
   ]
  },
  {
   "cell_type": "code",
   "execution_count": 202,
   "metadata": {
    "scrolled": true
   },
   "outputs": [
    {
     "name": "stdout",
     "output_type": "stream",
     "text": [
      "유저 목록 생성\n",
      "이용 날짜 분석 완료\n",
      "이용 횟수 분석 완료\n",
      "출발, 도작지 분석 완료 \n",
      "\n",
      "추출 전 data의 개수 12291789\n",
      "추출 전 user_id의 개수 726322 \n",
      "\n",
      "1차 추출 (방문기간 고려) 완료 \n",
      "user_id의 개수: 415965 \n",
      "\n",
      "\n",
      "2차 추출 (이용 날짜 수 고려) 완료 \n",
      "user_id의 개수: 387314 \n",
      "\n",
      "\n",
      "3차 추출 (시작, 끝 정류장 고려) 완료 \n",
      "user_id의 개수: 22951 \n",
      "\n",
      "\n",
      "저장완료\n"
     ]
    }
   ],
   "source": [
    "# start_date = datetime.datetime(2019, 6, 1)\n",
    "# end_date = datetime.datetime(2019, 8, 29)\n",
    "\n",
    "# input_path_list = bus.make_input_path(start_date, end_date)\n",
    "\n",
    "# usage_df = bus.load_total_usage_data(input_path_list)\n",
    "# usage_df = data_preprocessing(usage_df)\n",
    "\n",
    "\n",
    "user_df = create_user_df(usage_df)\n",
    "print(\"유저 목록 생성\")\n",
    "user_df = analyze_usage_date(usage_df, user_df)\n",
    "print(\"이용 날짜 분석 완료\")\n",
    "user_df = analyze_usage_num(usage_df, user_df)\n",
    "print(\"이용 횟수 분석 완료\")\n",
    "user_df = analyze_start_end(usage_df, user_df)\n",
    "print(\"출발, 도작지 분석 완료\", '\\n')\n",
    "\n",
    "D = usage_df[\"user_id\"]\n",
    "print('추출 전 data의 개수', len(D))\n",
    "print('추출 전 user_id의 개수', len(user_df), '\\n')\n",
    "\n",
    "user_df = extract_user1(user_df)\n",
    "print('1차 추출 (방문기간 고려) 완료 \\nuser_id의 개수:', len(user_df[user_df[\"tourist\"]]), \"\\n\\n\")\n",
    "\n",
    "user_df = extract_user2(user_df)\n",
    "print('2차 추출 (이용 날짜 수 고려) 완료 \\nuser_id의 개수:', len(user_df[user_df[\"tourist\"]]), \"\\n\\n\")\n",
    "\n",
    "user_df = extract_user3(user_df)\n",
    "print('3차 추출 (시작, 끝 정류장 고려) 완료 \\nuser_id의 개수:', len(user_df[user_df[\"tourist\"]]), \"\\n\\n\")\n",
    "\n",
    "#유의사항: 실제 사용자(관광객) 수는 user_id의 개수보다 크거나 같을 것. (사용자 수는 user_count로 파악할 것.)\n",
    "user_df.to_csv(\"user_list.csv\", encoding=\"utf-8\", index=False)\n",
    "print(\"저장완료\")"
   ]
  },
  {
   "cell_type": "code",
   "execution_count": 205,
   "metadata": {},
   "outputs": [
    {
     "data": {
      "text/plain": [
       "other      116921\n",
       "airport     32337\n",
       "harbor        436\n",
       "Name: last_station, dtype: int64"
      ]
     },
     "execution_count": 205,
     "metadata": {},
     "output_type": "execute_result"
    }
   ],
   "source": [
    "# 공항에서 출발\n",
    "a = user_df[user_df[\"first_station\"] == \"airport\"]\n",
    "b = a[\"last_station\"].value_counts()\n",
    "b"
   ]
  },
  {
   "cell_type": "code",
   "execution_count": 206,
   "metadata": {},
   "outputs": [
    {
     "data": {
      "text/plain": [
       "other      2873\n",
       "airport     651\n",
       "harbor      404\n",
       "Name: last_station, dtype: int64"
      ]
     },
     "execution_count": 206,
     "metadata": {},
     "output_type": "execute_result"
    }
   ],
   "source": [
    "# 항만에서 출발\n",
    "a = user_df[user_df[\"first_station\"] == \"harbor\"]\n",
    "b = a[\"last_station\"].value_counts()\n",
    "b"
   ]
  },
  {
   "cell_type": "markdown",
   "metadata": {},
   "source": [
    "### 3. 결과 출력 "
   ]
  },
  {
   "cell_type": "code",
   "execution_count": 139,
   "metadata": {},
   "outputs": [],
   "source": [
    "import pandas as pd\n",
    "import numpy as np\n",
    "import datetime\n",
    "import bus\n",
    "from matplotlib import pyplot as plt"
   ]
  },
  {
   "cell_type": "code",
   "execution_count": 140,
   "metadata": {},
   "outputs": [],
   "source": [
    "from matplotlib import font_manager, rc\n",
    "font_name = font_manager.FontProperties(fname=\"c:/Windows/Fonts/malgun.ttf\").get_name()\n",
    "rc('font', family=font_name)"
   ]
  },
  {
   "cell_type": "code",
   "execution_count": 141,
   "metadata": {},
   "outputs": [
    {
     "data": {
      "image/png": "[encoded data removed]",
      "text/plain": [
       "<Figure size 864x288 with 1 Axes>"
      ]
     },
     "metadata": {
      "needs_background": "light"
     },
     "output_type": "display_data"
    }
   ],
   "source": [
    "user_df = bus.create_user_df()\n",
    "register_df = user_df[user_df[\"tourist\"] == 0]\n",
    "tourist_df = user_df[user_df[\"tourist\"] == 1]\n",
    "data = user_df.groupby(\"use_days\").count()[\"user_id\"]\n",
    "data2 = list(data)\n",
    "plt.rcParams[\"figure.figsize\"] = (12,4)\n",
    "plt.bar(range(len(data2)), data2)\n",
    "plt.xlabel('방문기간')\n",
    "plt.ylabel('방문자 수')\n",
    "plt.title('방문 기간별 이동패턴이 (공항->공항)인 사용자 수 ')\n",
    "plt.show()"
   ]
  },
  {
   "cell_type": "code",
   "execution_count": 146,
   "metadata": {},
   "outputs": [
    {
     "data": {
      "text/html": [
       "<div>\n",
       "<style scoped>\n",
       "    .dataframe tbody tr th:only-of-type {\n",
       "        vertical-align: middle;\n",
       "    }\n",
       "\n",
       "    .dataframe tbody tr th {\n",
       "        vertical-align: top;\n",
       "    }\n",
       "\n",
       "    .dataframe thead th {\n",
       "        text-align: right;\n",
       "    }\n",
       "</style>\n",
       "<table border=\"1\" class=\"dataframe\">\n",
       "  <thead>\n",
       "    <tr style=\"text-align: right;\">\n",
       "      <th></th>\n",
       "      <th>user_id</th>\n",
       "      <th>first_date</th>\n",
       "      <th>last_date</th>\n",
       "      <th>use_days</th>\n",
       "      <th>period</th>\n",
       "      <th>usage</th>\n",
       "      <th>first_station</th>\n",
       "      <th>last_station</th>\n",
       "      <th>both</th>\n",
       "      <th>first</th>\n",
       "      <th>last</th>\n",
       "      <th>neither</th>\n",
       "      <th>tourist</th>\n",
       "    </tr>\n",
       "  </thead>\n",
       "  <tbody>\n",
       "    <tr>\n",
       "      <th>0</th>\n",
       "      <td>f6f372cf8c6732eafc2a82b4f9d7a08bb3b493213ea4ef...</td>\n",
       "      <td>20190601</td>\n",
       "      <td>20190609</td>\n",
       "      <td>5</td>\n",
       "      <td>9</td>\n",
       "      <td>14</td>\n",
       "      <td>other</td>\n",
       "      <td>other</td>\n",
       "      <td>False</td>\n",
       "      <td>False</td>\n",
       "      <td>False</td>\n",
       "      <td>True</td>\n",
       "      <td>False</td>\n",
       "    </tr>\n",
       "    <tr>\n",
       "      <th>1</th>\n",
       "      <td>3f6cfe2429f6e8d62cddc39222993405789b7b9ea2a592...</td>\n",
       "      <td>20190601</td>\n",
       "      <td>20190828</td>\n",
       "      <td>26</td>\n",
       "      <td>228</td>\n",
       "      <td>59</td>\n",
       "      <td>other</td>\n",
       "      <td>other</td>\n",
       "      <td>False</td>\n",
       "      <td>False</td>\n",
       "      <td>False</td>\n",
       "      <td>True</td>\n",
       "      <td>False</td>\n",
       "    </tr>\n",
       "    <tr>\n",
       "      <th>2</th>\n",
       "      <td>107cd874732b48a35df957bf653751154b0234e5573ba5...</td>\n",
       "      <td>20190601</td>\n",
       "      <td>20190828</td>\n",
       "      <td>63</td>\n",
       "      <td>228</td>\n",
       "      <td>249</td>\n",
       "      <td>other</td>\n",
       "      <td>other</td>\n",
       "      <td>False</td>\n",
       "      <td>False</td>\n",
       "      <td>False</td>\n",
       "      <td>True</td>\n",
       "      <td>False</td>\n",
       "    </tr>\n",
       "    <tr>\n",
       "      <th>3</th>\n",
       "      <td>27b16001fafd812b1e5c474cbc60455a9286ad27ecf8e5...</td>\n",
       "      <td>20190601</td>\n",
       "      <td>20190828</td>\n",
       "      <td>47</td>\n",
       "      <td>228</td>\n",
       "      <td>83</td>\n",
       "      <td>other</td>\n",
       "      <td>other</td>\n",
       "      <td>False</td>\n",
       "      <td>False</td>\n",
       "      <td>False</td>\n",
       "      <td>True</td>\n",
       "      <td>False</td>\n",
       "    </tr>\n",
       "    <tr>\n",
       "      <th>4</th>\n",
       "      <td>89c9a1c6e5915df4c192acc54067ee9a743f44eb559f3b...</td>\n",
       "      <td>20190601</td>\n",
       "      <td>20190828</td>\n",
       "      <td>26</td>\n",
       "      <td>228</td>\n",
       "      <td>35</td>\n",
       "      <td>other</td>\n",
       "      <td>other</td>\n",
       "      <td>False</td>\n",
       "      <td>False</td>\n",
       "      <td>False</td>\n",
       "      <td>True</td>\n",
       "      <td>False</td>\n",
       "    </tr>\n",
       "    <tr>\n",
       "      <th>...</th>\n",
       "      <td>...</td>\n",
       "      <td>...</td>\n",
       "      <td>...</td>\n",
       "      <td>...</td>\n",
       "      <td>...</td>\n",
       "      <td>...</td>\n",
       "      <td>...</td>\n",
       "      <td>...</td>\n",
       "      <td>...</td>\n",
       "      <td>...</td>\n",
       "      <td>...</td>\n",
       "      <td>...</td>\n",
       "      <td>...</td>\n",
       "    </tr>\n",
       "    <tr>\n",
       "      <th>726317</th>\n",
       "      <td>1c0b23153f52f11215e7d1f4e45dcecfa6d669676c4a9f...</td>\n",
       "      <td>20190828</td>\n",
       "      <td>20190828</td>\n",
       "      <td>1</td>\n",
       "      <td>1</td>\n",
       "      <td>1</td>\n",
       "      <td>other</td>\n",
       "      <td>other</td>\n",
       "      <td>False</td>\n",
       "      <td>False</td>\n",
       "      <td>False</td>\n",
       "      <td>True</td>\n",
       "      <td>False</td>\n",
       "    </tr>\n",
       "    <tr>\n",
       "      <th>726318</th>\n",
       "      <td>8235b6d43ba2e06d89fe94fda0dfdb7b4fe678ac58eaf5...</td>\n",
       "      <td>20190828</td>\n",
       "      <td>20190828</td>\n",
       "      <td>1</td>\n",
       "      <td>1</td>\n",
       "      <td>1</td>\n",
       "      <td>other</td>\n",
       "      <td>other</td>\n",
       "      <td>False</td>\n",
       "      <td>False</td>\n",
       "      <td>False</td>\n",
       "      <td>True</td>\n",
       "      <td>False</td>\n",
       "    </tr>\n",
       "    <tr>\n",
       "      <th>726319</th>\n",
       "      <td>f6f259fe96fd2e245be452a154c7c43ac747bc0f5d5ad1...</td>\n",
       "      <td>20190829</td>\n",
       "      <td>20190829</td>\n",
       "      <td>1</td>\n",
       "      <td>1</td>\n",
       "      <td>1</td>\n",
       "      <td>other</td>\n",
       "      <td>other</td>\n",
       "      <td>False</td>\n",
       "      <td>False</td>\n",
       "      <td>False</td>\n",
       "      <td>True</td>\n",
       "      <td>False</td>\n",
       "    </tr>\n",
       "    <tr>\n",
       "      <th>726320</th>\n",
       "      <td>670048e0bb0ed87661ef4e33fe476d74e4616c137bcdb0...</td>\n",
       "      <td>20190829</td>\n",
       "      <td>20190829</td>\n",
       "      <td>1</td>\n",
       "      <td>1</td>\n",
       "      <td>1</td>\n",
       "      <td>other</td>\n",
       "      <td>other</td>\n",
       "      <td>False</td>\n",
       "      <td>False</td>\n",
       "      <td>False</td>\n",
       "      <td>True</td>\n",
       "      <td>False</td>\n",
       "    </tr>\n",
       "    <tr>\n",
       "      <th>726321</th>\n",
       "      <td>e369089abfaf251ff6fe67c33ca540b642338c76a7e3cb...</td>\n",
       "      <td>20190829</td>\n",
       "      <td>20190829</td>\n",
       "      <td>1</td>\n",
       "      <td>1</td>\n",
       "      <td>1</td>\n",
       "      <td>airport</td>\n",
       "      <td>other</td>\n",
       "      <td>False</td>\n",
       "      <td>True</td>\n",
       "      <td>False</td>\n",
       "      <td>False</td>\n",
       "      <td>False</td>\n",
       "    </tr>\n",
       "  </tbody>\n",
       "</table>\n",
       "<p>726322 rows × 13 columns</p>\n",
       "</div>"
      ],
      "text/plain": [
       "                                                  user_id  first_date  \\\n",
       "0       f6f372cf8c6732eafc2a82b4f9d7a08bb3b493213ea4ef...    20190601   \n",
       "1       3f6cfe2429f6e8d62cddc39222993405789b7b9ea2a592...    20190601   \n",
       "2       107cd874732b48a35df957bf653751154b0234e5573ba5...    20190601   \n",
       "3       27b16001fafd812b1e5c474cbc60455a9286ad27ecf8e5...    20190601   \n",
       "4       89c9a1c6e5915df4c192acc54067ee9a743f44eb559f3b...    20190601   \n",
       "...                                                   ...         ...   \n",
       "726317  1c0b23153f52f11215e7d1f4e45dcecfa6d669676c4a9f...    20190828   \n",
       "726318  8235b6d43ba2e06d89fe94fda0dfdb7b4fe678ac58eaf5...    20190828   \n",
       "726319  f6f259fe96fd2e245be452a154c7c43ac747bc0f5d5ad1...    20190829   \n",
       "726320  670048e0bb0ed87661ef4e33fe476d74e4616c137bcdb0...    20190829   \n",
       "726321  e369089abfaf251ff6fe67c33ca540b642338c76a7e3cb...    20190829   \n",
       "\n",
       "        last_date  use_days  period  usage first_station last_station   both  \\\n",
       "0        20190609         5       9     14         other        other  False   \n",
       "1        20190828        26     228     59         other        other  False   \n",
       "2        20190828        63     228    249         other        other  False   \n",
       "3        20190828        47     228     83         other        other  False   \n",
       "4        20190828        26     228     35         other        other  False   \n",
       "...           ...       ...     ...    ...           ...          ...    ...   \n",
       "726317   20190828         1       1      1         other        other  False   \n",
       "726318   20190828         1       1      1         other        other  False   \n",
       "726319   20190829         1       1      1         other        other  False   \n",
       "726320   20190829         1       1      1         other        other  False   \n",
       "726321   20190829         1       1      1       airport        other  False   \n",
       "\n",
       "        first   last  neither  tourist  \n",
       "0       False  False     True    False  \n",
       "1       False  False     True    False  \n",
       "2       False  False     True    False  \n",
       "3       False  False     True    False  \n",
       "4       False  False     True    False  \n",
       "...       ...    ...      ...      ...  \n",
       "726317  False  False     True    False  \n",
       "726318  False  False     True    False  \n",
       "726319  False  False     True    False  \n",
       "726320  False  False     True    False  \n",
       "726321   True  False    False    False  \n",
       "\n",
       "[726322 rows x 13 columns]"
      ]
     },
     "execution_count": 146,
     "metadata": {},
     "output_type": "execute_result"
    }
   ],
   "source": [
    "user_df"
   ]
  },
  {
   "cell_type": "code",
   "execution_count": 208,
   "metadata": {},
   "outputs": [
    {
     "name": "stderr",
     "output_type": "stream",
     "text": [
      "<ipython-input-208-3a63d419055f>:2: UserWarning: Boolean Series key will be reindexed to match DataFrame index.\n",
      "  data = data[user_df['last_station'] == \"airport\"]\n"
     ]
    },
    {
     "name": "stdout",
     "output_type": "stream",
     "text": [
      "3      6240\n",
      "4      5969\n",
      "2      3916\n",
      "5      2697\n",
      "1      2366\n",
      "       ... \n",
      "174       2\n",
      "31        2\n",
      "172       2\n",
      "175       2\n",
      "131       1\n",
      "Name: period, Length: 149, dtype: int64\n"
     ]
    },
    {
     "data": {
      "image/png": "[encoded data removed]",
      "text/plain": [
       "<Figure size 864x288 with 1 Axes>"
      ]
     },
     "metadata": {
      "needs_background": "light"
     },
     "output_type": "display_data"
    }
   ],
   "source": [
    "data = user_df[user_df['first_station'] == \"airport\"]\n",
    "data = data[user_df['last_station'] == \"airport\"]\n",
    "data = data[\"period\"].value_counts()\n",
    "data2 = data\n",
    "print(data)\n",
    "plt.rcParams[\"figure.figsize\"] = (12,4)\n",
    "plt.bar(range(len(data2)), data2)\n",
    "plt.xlabel('방문기간')\n",
    "plt.ylabel('방문자 수')\n",
    "plt.title('방문 기간별 이동패턴이 (항구->항구)인 사용자 수 ')\n",
    "plt.show()"
   ]
  },
  {
   "cell_type": "code",
   "execution_count": 184,
   "metadata": {},
   "outputs": [
    {
     "data": {
      "text/plain": [
       "'ed5ade7e201a2a20ba05d0a6a1e32b1036c08de636ae2e0f0eb214136ec4d4c8'"
      ]
     },
     "execution_count": 184,
     "metadata": {},
     "output_type": "execute_result"
    }
   ],
   "source": []
  },
  {
   "cell_type": "code",
   "execution_count": 378,
   "metadata": {},
   "outputs": [
    {
     "data": {
      "image/png": "[encoded data removed]",
      "text/plain": [
       "<Figure size 432x288 with 1 Axes>"
      ]
     },
     "metadata": {
      "needs_background": "light"
     },
     "output_type": "display_data"
    }
   ],
   "source": [
    "data2 = [0.3, 5.7, 61.8, 23.8, 4.5, 1.3]\n",
    "plt.rcParams[\"figure.figsize\"] = (6,4)\n",
    "plt.bar(range(1, 7), data2)\n",
    "plt.xlabel('방문기간( 일 )')\n",
    "plt.ylabel('방문자 수( % )')\n",
    "plt.title('방문 기간별 관광객 수( 명 )')\n",
    "plt.show()"
   ]
  },
  {
   "cell_type": "code",
   "execution_count": 155,
   "metadata": {},
   "outputs": [
    {
     "name": "stdout",
     "output_type": "stream",
     "text": [
      "<class 'float'>\n"
     ]
    }
   ],
   "source": [
    "\n",
    "i=22\n",
    "tourist = list(user_infor_df[user_infor_df[\"tourist\"] == 1][\"user_id\"])\n",
    "d = usage_df.query('{} == \"{}\"'.format(\"user_id\", tourist[i]))[selete].sort_values(by = \"geton_datetime\")\n",
    "end = d.tail(n=1).iloc[0, 4]\n",
    "print(type(end))"
   ]
  },
  {
   "cell_type": "code",
   "execution_count": 32,
   "metadata": {},
   "outputs": [],
   "source": [
    "from matplotlib import font_manager, rc\n",
    "font_name = font_manager.FontProperties(fname=\"c:/Windows/Fonts/malgun.ttf\").get_name()\n",
    "rc('font', family=font_name)"
   ]
  },
  {
   "cell_type": "code",
   "execution_count": 170,
   "metadata": {},
   "outputs": [
    {
     "data": {
      "image/png": "[encoded data removed]",
      "text/plain": [
       "<Figure size 432x288 with 1 Axes>"
      ]
     },
     "metadata": {},
     "output_type": "display_data"
    }
   ],
   "source": [
    "# usage_df.count()\n",
    "from matplotlib import pyplot as plt\n",
    "data = [38343, 25887, 24457]\n",
    "categories = ['both', 'one', 'zero']\n",
    "wedgeprops={'width': 0.65, 'edgecolor': 'w', 'linewidth': 5}\n",
    "plt.pie(data, labels=categories, autopct=\"%0.1f%%\", wedgeprops=wedgeprops)\n",
    "plt.rc('font', size=20)\n",
    "plt.title('공항 이용율', fontsize=15)\n",
    "plt.show()"
   ]
  },
  {
   "cell_type": "code",
   "execution_count": 200,
   "metadata": {},
   "outputs": [
    {
     "data": {
      "text/html": [
       "<div>\n",
       "<style scoped>\n",
       "    .dataframe tbody tr th:only-of-type {\n",
       "        vertical-align: middle;\n",
       "    }\n",
       "\n",
       "    .dataframe tbody tr th {\n",
       "        vertical-align: top;\n",
       "    }\n",
       "\n",
       "    .dataframe thead th {\n",
       "        text-align: right;\n",
       "    }\n",
       "</style>\n",
       "<table border=\"1\" class=\"dataframe\">\n",
       "  <thead>\n",
       "    <tr style=\"text-align: right;\">\n",
       "      <th></th>\n",
       "      <th>user_id</th>\n",
       "      <th>first_date</th>\n",
       "      <th>last_date</th>\n",
       "      <th>use_days</th>\n",
       "      <th>period</th>\n",
       "      <th>usage</th>\n",
       "      <th>first_station</th>\n",
       "      <th>last_station</th>\n",
       "      <th>both</th>\n",
       "      <th>first</th>\n",
       "      <th>last</th>\n",
       "      <th>neither</th>\n",
       "      <th>tourist</th>\n",
       "    </tr>\n",
       "  </thead>\n",
       "  <tbody>\n",
       "    <tr>\n",
       "      <th>632</th>\n",
       "      <td>9adc57737a186d9ed8fa9954fd315c5f7377dad2a76f18...</td>\n",
       "      <td>20190601</td>\n",
       "      <td>20190828</td>\n",
       "      <td>70</td>\n",
       "      <td>228</td>\n",
       "      <td>206</td>\n",
       "      <td>airport</td>\n",
       "      <td>airport</td>\n",
       "      <td>True</td>\n",
       "      <td>False</td>\n",
       "      <td>False</td>\n",
       "      <td>False</td>\n",
       "      <td>False</td>\n",
       "    </tr>\n",
       "    <tr>\n",
       "      <th>633</th>\n",
       "      <td>2a8273f9a216dbfd5f84f4f83aa550a0cc346d6a313288...</td>\n",
       "      <td>20190601</td>\n",
       "      <td>20190824</td>\n",
       "      <td>32</td>\n",
       "      <td>224</td>\n",
       "      <td>126</td>\n",
       "      <td>airport</td>\n",
       "      <td>airport</td>\n",
       "      <td>True</td>\n",
       "      <td>False</td>\n",
       "      <td>False</td>\n",
       "      <td>False</td>\n",
       "      <td>False</td>\n",
       "    </tr>\n",
       "    <tr>\n",
       "      <th>636</th>\n",
       "      <td>564e041fed599dd558beca16d979edd97d24854176cdbe...</td>\n",
       "      <td>20190601</td>\n",
       "      <td>20190823</td>\n",
       "      <td>11</td>\n",
       "      <td>223</td>\n",
       "      <td>15</td>\n",
       "      <td>airport</td>\n",
       "      <td>airport</td>\n",
       "      <td>True</td>\n",
       "      <td>False</td>\n",
       "      <td>False</td>\n",
       "      <td>False</td>\n",
       "      <td>False</td>\n",
       "    </tr>\n",
       "    <tr>\n",
       "      <th>950</th>\n",
       "      <td>f10c915244b313a7c4e92e4daa144590667c613212eac2...</td>\n",
       "      <td>20190601</td>\n",
       "      <td>20190828</td>\n",
       "      <td>58</td>\n",
       "      <td>228</td>\n",
       "      <td>80</td>\n",
       "      <td>airport</td>\n",
       "      <td>airport</td>\n",
       "      <td>True</td>\n",
       "      <td>False</td>\n",
       "      <td>False</td>\n",
       "      <td>False</td>\n",
       "      <td>False</td>\n",
       "    </tr>\n",
       "    <tr>\n",
       "      <th>954</th>\n",
       "      <td>78ddf738c77300ac33d58fbe886f6778eab820a3248219...</td>\n",
       "      <td>20190601</td>\n",
       "      <td>20190628</td>\n",
       "      <td>3</td>\n",
       "      <td>28</td>\n",
       "      <td>5</td>\n",
       "      <td>airport</td>\n",
       "      <td>airport</td>\n",
       "      <td>True</td>\n",
       "      <td>False</td>\n",
       "      <td>False</td>\n",
       "      <td>False</td>\n",
       "      <td>False</td>\n",
       "    </tr>\n",
       "    <tr>\n",
       "      <th>...</th>\n",
       "      <td>...</td>\n",
       "      <td>...</td>\n",
       "      <td>...</td>\n",
       "      <td>...</td>\n",
       "      <td>...</td>\n",
       "      <td>...</td>\n",
       "      <td>...</td>\n",
       "      <td>...</td>\n",
       "      <td>...</td>\n",
       "      <td>...</td>\n",
       "      <td>...</td>\n",
       "      <td>...</td>\n",
       "      <td>...</td>\n",
       "    </tr>\n",
       "    <tr>\n",
       "      <th>725894</th>\n",
       "      <td>6609829bc2cc5c773f6dc0a61fb600ce3ea5a67961aee1...</td>\n",
       "      <td>20190828</td>\n",
       "      <td>20190828</td>\n",
       "      <td>1</td>\n",
       "      <td>1</td>\n",
       "      <td>1</td>\n",
       "      <td>airport</td>\n",
       "      <td>airport</td>\n",
       "      <td>True</td>\n",
       "      <td>False</td>\n",
       "      <td>False</td>\n",
       "      <td>False</td>\n",
       "      <td>False</td>\n",
       "    </tr>\n",
       "    <tr>\n",
       "      <th>726048</th>\n",
       "      <td>d124bd794f91868206d1c9d411da7f8f856b19137b950b...</td>\n",
       "      <td>20190828</td>\n",
       "      <td>20190828</td>\n",
       "      <td>1</td>\n",
       "      <td>1</td>\n",
       "      <td>1</td>\n",
       "      <td>airport</td>\n",
       "      <td>harbor</td>\n",
       "      <td>True</td>\n",
       "      <td>False</td>\n",
       "      <td>False</td>\n",
       "      <td>False</td>\n",
       "      <td>False</td>\n",
       "    </tr>\n",
       "    <tr>\n",
       "      <th>726049</th>\n",
       "      <td>9e10854ae42cda1d589f11896060170705cf5022cbb945...</td>\n",
       "      <td>20190828</td>\n",
       "      <td>20190828</td>\n",
       "      <td>1</td>\n",
       "      <td>1</td>\n",
       "      <td>1</td>\n",
       "      <td>airport</td>\n",
       "      <td>harbor</td>\n",
       "      <td>True</td>\n",
       "      <td>False</td>\n",
       "      <td>False</td>\n",
       "      <td>False</td>\n",
       "      <td>False</td>\n",
       "    </tr>\n",
       "    <tr>\n",
       "      <th>726050</th>\n",
       "      <td>ca183fc81036f23523bee7167499a7991d1bc6aa39002a...</td>\n",
       "      <td>20190828</td>\n",
       "      <td>20190828</td>\n",
       "      <td>1</td>\n",
       "      <td>1</td>\n",
       "      <td>1</td>\n",
       "      <td>harbor</td>\n",
       "      <td>harbor</td>\n",
       "      <td>True</td>\n",
       "      <td>False</td>\n",
       "      <td>False</td>\n",
       "      <td>False</td>\n",
       "      <td>False</td>\n",
       "    </tr>\n",
       "    <tr>\n",
       "      <th>726051</th>\n",
       "      <td>01178a7ce283f9e9fb7626feaece0ee3e56b943023e512...</td>\n",
       "      <td>20190828</td>\n",
       "      <td>20190828</td>\n",
       "      <td>1</td>\n",
       "      <td>1</td>\n",
       "      <td>1</td>\n",
       "      <td>airport</td>\n",
       "      <td>harbor</td>\n",
       "      <td>True</td>\n",
       "      <td>False</td>\n",
       "      <td>False</td>\n",
       "      <td>False</td>\n",
       "      <td>False</td>\n",
       "    </tr>\n",
       "  </tbody>\n",
       "</table>\n",
       "<p>33828 rows × 13 columns</p>\n",
       "</div>"
      ],
      "text/plain": [
       "                                                  user_id  first_date  \\\n",
       "632     9adc57737a186d9ed8fa9954fd315c5f7377dad2a76f18...    20190601   \n",
       "633     2a8273f9a216dbfd5f84f4f83aa550a0cc346d6a313288...    20190601   \n",
       "636     564e041fed599dd558beca16d979edd97d24854176cdbe...    20190601   \n",
       "950     f10c915244b313a7c4e92e4daa144590667c613212eac2...    20190601   \n",
       "954     78ddf738c77300ac33d58fbe886f6778eab820a3248219...    20190601   \n",
       "...                                                   ...         ...   \n",
       "725894  6609829bc2cc5c773f6dc0a61fb600ce3ea5a67961aee1...    20190828   \n",
       "726048  d124bd794f91868206d1c9d411da7f8f856b19137b950b...    20190828   \n",
       "726049  9e10854ae42cda1d589f11896060170705cf5022cbb945...    20190828   \n",
       "726050  ca183fc81036f23523bee7167499a7991d1bc6aa39002a...    20190828   \n",
       "726051  01178a7ce283f9e9fb7626feaece0ee3e56b943023e512...    20190828   \n",
       "\n",
       "        last_date  use_days  period  usage first_station last_station  both  \\\n",
       "632      20190828        70     228    206       airport      airport  True   \n",
       "633      20190824        32     224    126       airport      airport  True   \n",
       "636      20190823        11     223     15       airport      airport  True   \n",
       "950      20190828        58     228     80       airport      airport  True   \n",
       "954      20190628         3      28      5       airport      airport  True   \n",
       "...           ...       ...     ...    ...           ...          ...   ...   \n",
       "725894   20190828         1       1      1       airport      airport  True   \n",
       "726048   20190828         1       1      1       airport       harbor  True   \n",
       "726049   20190828         1       1      1       airport       harbor  True   \n",
       "726050   20190828         1       1      1        harbor       harbor  True   \n",
       "726051   20190828         1       1      1       airport       harbor  True   \n",
       "\n",
       "        first   last  neither  tourist  \n",
       "632     False  False    False    False  \n",
       "633     False  False    False    False  \n",
       "636     False  False    False    False  \n",
       "950     False  False    False    False  \n",
       "954     False  False    False    False  \n",
       "...       ...    ...      ...      ...  \n",
       "725894  False  False    False    False  \n",
       "726048  False  False    False    False  \n",
       "726049  False  False    False    False  \n",
       "726050  False  False    False    False  \n",
       "726051  False  False    False    False  \n",
       "\n",
       "[33828 rows x 13 columns]"
      ]
     },
     "execution_count": 200,
     "metadata": {},
     "output_type": "execute_result"
    }
   ],
   "source": [
    "user_df[user_df[\"both\"]]"
   ]
  },
  {
   "cell_type": "markdown",
   "metadata": {},
   "source": [
    "# 추출된 임의의 관광객 이동 패턴 출력 예시"
   ]
  },
  {
   "cell_type": "code",
   "execution_count": 196,
   "metadata": {},
   "outputs": [],
   "source": [
    "def show_od_pattern(user_df, num):\n",
    "    data = user_df[user_df[\"tourist\"]]\n",
    "    id = data.iloc[num, 0]\n",
    "    select = [\"base_date\", \"geton_datetime\", \"geton_stataion_name\", \"getoff_datetime\", \"getoff_station_name\", \"user_count\"]\n",
    "    od_df = usage_df.query('user_id == \"{}\"'.format(id)).sort_values('geton_datetime')\n",
    "    return od_df[select]"
   ]
  },
  {
   "cell_type": "code",
   "execution_count": 197,
   "metadata": {},
   "outputs": [
    {
     "data": {
      "text/html": [
       "<div>\n",
       "<style scoped>\n",
       "    .dataframe tbody tr th:only-of-type {\n",
       "        vertical-align: middle;\n",
       "    }\n",
       "\n",
       "    .dataframe tbody tr th {\n",
       "        vertical-align: top;\n",
       "    }\n",
       "\n",
       "    .dataframe thead th {\n",
       "        text-align: right;\n",
       "    }\n",
       "</style>\n",
       "<table border=\"1\" class=\"dataframe\">\n",
       "  <thead>\n",
       "    <tr style=\"text-align: right;\">\n",
       "      <th></th>\n",
       "      <th>base_date</th>\n",
       "      <th>geton_datetime</th>\n",
       "      <th>geton_stataion_name</th>\n",
       "      <th>getoff_datetime</th>\n",
       "      <th>getoff_station_name</th>\n",
       "      <th>user_count</th>\n",
       "    </tr>\n",
       "  </thead>\n",
       "  <tbody>\n",
       "    <tr>\n",
       "      <th>656</th>\n",
       "      <td>20190601</td>\n",
       "      <td>2019-06-01 18:02:04</td>\n",
       "      <td>월평아왜낭목</td>\n",
       "      <td>2019-06-01 18:11:17</td>\n",
       "      <td>중문초등학교</td>\n",
       "      <td>1</td>\n",
       "    </tr>\n",
       "    <tr>\n",
       "      <th>218677</th>\n",
       "      <td>20190602</td>\n",
       "      <td>2019-06-02 15:32:38</td>\n",
       "      <td>공무원연금공단</td>\n",
       "      <td>2019-06-02 15:48:18</td>\n",
       "      <td>회수마을회관</td>\n",
       "      <td>1</td>\n",
       "    </tr>\n",
       "    <tr>\n",
       "      <th>218674</th>\n",
       "      <td>20190602</td>\n",
       "      <td>2019-06-02 16:18:17</td>\n",
       "      <td>회수동</td>\n",
       "      <td>2019-06-02 16:46:15</td>\n",
       "      <td>1100고지휴게소</td>\n",
       "      <td>1</td>\n",
       "    </tr>\n",
       "    <tr>\n",
       "      <th>218676</th>\n",
       "      <td>20190602</td>\n",
       "      <td>2019-06-02 17:53:40</td>\n",
       "      <td>영실입구</td>\n",
       "      <td>2019-06-02 18:24:46</td>\n",
       "      <td>중문사거리</td>\n",
       "      <td>1</td>\n",
       "    </tr>\n",
       "    <tr>\n",
       "      <th>218675</th>\n",
       "      <td>20190602</td>\n",
       "      <td>2019-06-02 18:35:28</td>\n",
       "      <td>중문초등학교</td>\n",
       "      <td>2019-06-02 18:44:47</td>\n",
       "      <td>제주월드컵경기장서귀포버스터미널</td>\n",
       "      <td>1</td>\n",
       "    </tr>\n",
       "    <tr>\n",
       "      <th>408989</th>\n",
       "      <td>20190603</td>\n",
       "      <td>2019-06-03 09:38:47</td>\n",
       "      <td>국세공무원교육원공무원연금공단</td>\n",
       "      <td>2019-06-03 10:29:51</td>\n",
       "      <td>제주국제공항(종점)</td>\n",
       "      <td>1</td>\n",
       "    </tr>\n",
       "  </tbody>\n",
       "</table>\n",
       "</div>"
      ],
      "text/plain": [
       "        base_date      geton_datetime geton_stataion_name     getoff_datetime  \\\n",
       "656      20190601 2019-06-01 18:02:04              월평아왜낭목 2019-06-01 18:11:17   \n",
       "218677   20190602 2019-06-02 15:32:38             공무원연금공단 2019-06-02 15:48:18   \n",
       "218674   20190602 2019-06-02 16:18:17                 회수동 2019-06-02 16:46:15   \n",
       "218676   20190602 2019-06-02 17:53:40                영실입구 2019-06-02 18:24:46   \n",
       "218675   20190602 2019-06-02 18:35:28              중문초등학교 2019-06-02 18:44:47   \n",
       "408989   20190603 2019-06-03 09:38:47     국세공무원교육원공무원연금공단 2019-06-03 10:29:51   \n",
       "\n",
       "       getoff_station_name  user_count  \n",
       "656                 중문초등학교           1  \n",
       "218677              회수마을회관           1  \n",
       "218674           1100고지휴게소           1  \n",
       "218676               중문사거리           1  \n",
       "218675    제주월드컵경기장서귀포버스터미널           1  \n",
       "408989          제주국제공항(종점)           1  "
      ]
     },
     "execution_count": 197,
     "metadata": {},
     "output_type": "execute_result"
    }
   ],
   "source": [
    "show_od_pattern(user_df, 10)"
   ]
  }
 ],
 "metadata": {
  "kernelspec": {
   "display_name": "Python 3",
   "language": "python",
   "name": "python3"
  },
  "language_info": {
   "codemirror_mode": {
    "name": "ipython",
    "version": 3
   },
   "file_extension": ".py",
   "mimetype": "text/x-python",
   "name": "python",
   "nbconvert_exporter": "python",
   "pygments_lexer": "ipython3",
   "version": "3.8.3"
  }
 },
 "nbformat": 4,
 "nbformat_minor": 2
}
