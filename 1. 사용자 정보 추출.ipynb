{
 "cells": [
  {
   "cell_type": "markdown",
   "metadata": {},
   "source": [
    "# 1. Import & Setting"
   ]
  },
  {
   "cell_type": "markdown",
   "metadata": {},
   "source": [
    "### 1-1) import"
   ]
  },
  {
   "cell_type": "code",
   "execution_count": 207,
   "metadata": {},
   "outputs": [],
   "source": [
    "import os\n",
    "import datetime\n",
    "import numpy as np\n",
    "import pandas as pd\n",
    "from tqdm import tqdm\n",
    "from pyarrow import csv\n",
    "from matplotlib import pyplot as plt\n",
    "from matplotlib import font_manager, rc\n",
    "\n",
    "import bus"
   ]
  },
  {
   "cell_type": "markdown",
   "metadata": {},
   "source": [
    "### 1-2) import"
   ]
  },
  {
   "cell_type": "code",
   "execution_count": 206,
   "metadata": {},
   "outputs": [],
   "source": [
    "font_name = font_manager.FontProperties(fname=\"c:/Windows/Fonts/malgun.ttf\").get_name()\n",
    "rc('font', family=font_name)"
   ]
  },
  {
   "cell_type": "markdown",
   "metadata": {},
   "source": [
    "# 2. Def"
   ]
  },
  {
   "cell_type": "markdown",
   "metadata": {},
   "source": [
    "### 2-1) 데이터 전처리\n",
    "* 날짜 데이터 int -> datetime 변환"
   ]
  },
  {
   "cell_type": "code",
   "execution_count": 3,
   "metadata": {},
   "outputs": [],
   "source": [
    "def data_preprocessing(usage_df):\n",
    "    # datetime64로 형 변환 # M[base_date] = pd.to_datetime(M[base_date], format='%Y%m%d')\n",
    "    datetime_cols = [\"geton_datetime\", \"getoff_datetime\"]    \n",
    "    for col in tqdm(datetime_cols):\n",
    "        usage_df[col] = pd.to_datetime(usage_df[col], format='%Y%m%d%H%M%S')\n",
    "    return usage_df"
   ]
  },
  {
   "cell_type": "markdown",
   "metadata": {},
   "source": [
    "### 2-2) 유저별 이용데이터 분석"
   ]
  },
  {
   "cell_type": "code",
   "execution_count": 248,
   "metadata": {},
   "outputs": [],
   "source": [
    "def create_user_df(usage_df):    # 유저 목록 생성\n",
    "    return usage_df[[\"user_id\"]].drop_duplicates()\n",
    "\n",
    "def analyze_usage_date(usage_df, user_df):    # 이용기간 및 이용 날짜 분석\n",
    "    grouped = usage_df[[\"user_id\", \"base_date\"]].drop_duplicates().groupby(by=[\"user_id\"], as_index=False)\n",
    "    first_date_df = grouped.min().rename(columns = {\"base_date\" : \"first_date\"})\n",
    "    last_date_df = grouped.max().rename(columns = {\"base_date\" : \"last_date\"})\n",
    "    use_days_df= grouped.count().rename(columns = {\"base_date\" : \"use_days\"})\n",
    "    user_df = pd.merge(user_df, first_date_df, on=\"user_id\")\n",
    "    user_df = pd.merge(user_df, last_date_df, on=\"user_id\")\n",
    "    user_df = pd.merge(user_df, use_days_df, on=\"user_id\")\n",
    "    user_df['first_date'] = user_df['first_date'].apply(lambda x : datetime.datetime.strptime(str(x), \"%Y%m%d\").date()) \n",
    "    user_df['last_date'] = user_df['last_date'].apply(lambda x : datetime.datetime.strptime(str(x), \"%Y%m%d\").date())\n",
    "    user_df[\"period\"] = user_df[\"last_date\"] - user_df[\"first_date\"]\n",
    "    user_df[\"period\"] = user_df[\"period\"].apply(lambda x : int(str(x).split(\" \")[0])+1)\n",
    "    return user_df\n",
    "\n",
    "def analyze_usage_num(usage_df, user_df):    # 버스 이용량 분석\n",
    "    grouped = usage_df[[\"user_id\", \"base_date\"]].groupby(by=[\"user_id\"], as_index=False)\n",
    "    count_df = grouped.count().rename(columns = {\"base_date\" : \"usage\"})\n",
    "    user_df = pd.merge(user_df, count_df, on=\"user_id\")\n",
    "    return user_df\n",
    "\n",
    "def analyze_start_end(usage_df, user_df):    # 첫 승차 정류장과 마지막 하차 정류장 분석\n",
    "    grouped = usage_df.sort_values(['geton_datetime']).groupby(by=[\"user_id\"], as_index=False)\n",
    "    first = grouped.first()\n",
    "    last = grouped.last()\n",
    "    first['first_station'] = first['geton_stataion_name'].apply(lambda x : \"airport\" if str(x).find(\"공항\") != -1 else \"harbor\" if (\n",
    "                                                             bool(str(x).find(\"여객터미널\") != -1)| \n",
    "                                                             bool(str(x).find(\"여객선\")     != -1)|\n",
    "                                                             bool(str(x).find(\"제6부두\")    != -1)|\n",
    "                                                             bool(str(x).find(\"제4부두\")    != -1)|\n",
    "                                                             bool(str(x).find(\"임항로\")     != -1)|\n",
    "                                                             bool(str(x).find(\"제주해양경찰서\") != -1)) else \"other\")\n",
    "    last['last_station'] = last['getoff_station_name'].apply(lambda x : \"airport\" if str(x).find(\"공항\") != -1 else \"harbor\" if (\n",
    "                                                             bool(str(x).find(\"여객터미널\") != -1)| \n",
    "                                                             bool(str(x).find(\"여객선\")     != -1)|\n",
    "                                                             bool(str(x).find(\"제6부두\")    != -1)|\n",
    "                                                             bool(str(x).find(\"제4부두\")    != -1)|\n",
    "                                                             bool(str(x).find(\"임항로\")     != -1)|\n",
    "                                                             bool(str(x).find(\"제주해양경찰서\")!= -1))  else \"other\")\n",
    "    first2 = first[[\"user_id\", \"first_station\"]]\n",
    "    last2 = last[[\"user_id\", \"last_station\"]]\n",
    "    flag_df = pd.merge(first2, last2, on = \"user_id\")\n",
    "    flag_df[\"both\"] = (flag_df[\"first_station\"]!='other') & (flag_df[\"last_station\"]!='other')\n",
    "    flag_df[\"first\"] = (flag_df[\"first_station\"]!='other') & (flag_df[\"last_station\"]=='other')\n",
    "    flag_df[\"last\"] = (flag_df[\"first_station\"]=='other') & (flag_df[\"last_station\"]!='other')\n",
    "    flag_df[\"neither\"] = (flag_df[\"first_station\"]=='other') & (flag_df[\"last_station\"]=='other')\n",
    "    flag_df = flag_df.reset_index()\n",
    "    flag_df = flag_df[['user_id', 'first_station', 'last_station', 'both', 'first', 'last', 'neither']]\n",
    "    user_df = pd.merge(user_df, flag_df)\n",
    "    return user_df"
   ]
  },
  {
   "cell_type": "markdown",
   "metadata": {},
   "source": [
    "### 2-3) 관광객 추출1~4"
   ]
  },
  {
   "cell_type": "code",
   "execution_count": 275,
   "metadata": {},
   "outputs": [],
   "source": [
    "def extract_user1(user_df):\n",
    "    user_df[\"tourist\"] = (2 <= user_df['period']) & (user_df['period'] <= 14)\n",
    "    return user_df\n",
    "\n",
    "def extract_user2(user_df):\n",
    "    select = user_df.columns\n",
    "    user_df[\"goal\"] = user_df[\"period\"].apply(lambda x : int(x*1/10))\n",
    "    user_df[\"tourist\"] = user_df[\"tourist\"] & (user_df[\"use_days\"] >= user_df[\"goal\"])\n",
    "    return user_df[select]\n",
    "\n",
    "def extract_user3(user_df):\n",
    "    user_df[\"tourist\"] = user_df[\"tourist\"] & user_df[\"both\"]\n",
    "#     user_df[\"tourist\"] = user_df[\"tourist\"] & (user_df[\"both\"] | user_df[\"first\"] | user_df[\"last\"])\n",
    "    return user_df\n",
    "\n",
    "def extract_user4(user_df):\n",
    "    user_df[\"tourist\"] = user_df[\"tourist\"] & (user_df['usage'] >= 10)\n",
    "    return user_df"
   ]
  },
  {
   "cell_type": "markdown",
   "metadata": {},
   "source": [
    "# 3. main"
   ]
  },
  {
   "cell_type": "markdown",
   "metadata": {},
   "source": [
    "### 3-1) - 버스이용데이터 로딩"
   ]
  },
  {
   "cell_type": "code",
   "execution_count": null,
   "metadata": {},
   "outputs": [],
   "source": [
    "start_date = datetime.datetime(2019, 6, 1)\n",
    "end_date = datetime.datetime(2019, 8, 29)\n",
    "\n",
    "input_path_list = bus.make_input_path(start_date, end_date)\n",
    "\n",
    "usage_df = bus.load_total_usage_data(input_path_list)\n",
    "usage_df = data_preprocessing(usage_df)"
   ]
  },
  {
   "cell_type": "markdown",
   "metadata": {},
   "source": [
    "### 3-2) - 이용자 추출"
   ]
  },
  {
   "cell_type": "code",
   "execution_count": 250,
   "metadata": {},
   "outputs": [
    {
     "name": "stdout",
     "output_type": "stream",
     "text": [
      "유저 목록 생성\n",
      "이용 날짜 분석 완료\n",
      "이용 횟수 분석 완료\n",
      "출발, 도작지 분석 완료\n"
     ]
    }
   ],
   "source": [
    "user_df = create_user_df(usage_df)\n",
    "print(\"유저 목록 생성\")\n",
    "user_df = analyze_usage_date(usage_df, user_df)\n",
    "print(\"이용 날짜 분석 완료\")\n",
    "user_df = analyze_usage_num(usage_df, user_df)\n",
    "print(\"이용 횟수 분석 완료\")\n",
    "user_df = analyze_start_end(usage_df, user_df)\n",
    "print(\"출발, 도작지 분석 완료\")"
   ]
  },
  {
   "cell_type": "markdown",
   "metadata": {},
   "source": [
    "### 3-3) - 관광객 추출"
   ]
  },
  {
   "cell_type": "code",
   "execution_count": 257,
   "metadata": {
    "scrolled": true
   },
   "outputs": [
    {
     "name": "stdout",
     "output_type": "stream",
     "text": [
      "추출 전 data의 개수 12291789\n",
      "추출 전 user_id의 개수 726322 \n",
      "\n",
      "1차 추출 (방문기간 고려) 완료 \n",
      "user_id의 개수: 201124 \n",
      "\n",
      "\n"
     ]
    },
    {
     "name": "stderr",
     "output_type": "stream",
     "text": [
      "<ipython-input-256-bfaed27fd290>:2: SettingWithCopyWarning: \n",
      "A value is trying to be set on a copy of a slice from a DataFrame.\n",
      "Try using .loc[row_indexer,col_indexer] = value instead\n",
      "\n",
      "See the caveats in the documentation: https://pandas.pydata.org/pandas-docs/stable/user_guide/indexing.html#returning-a-view-versus-a-copy\n",
      "  user_df[\"tourist\"] = (2 <= user_df['period']) & (user_df['period'] <= 14)\n"
     ]
    },
    {
     "name": "stdout",
     "output_type": "stream",
     "text": [
      "2차 추출 (이용 날짜 수 고려) 완료 \n",
      "user_id의 개수: 201124 \n",
      "\n",
      "\n",
      "3차 추출 (시작, 끝 정류장 고려) 완료 \n",
      "user_id의 개수: 37442 \n",
      "\n",
      "\n",
      "저장완료\n"
     ]
    }
   ],
   "source": [
    "D = usage_df[\"user_id\"]\n",
    "print('추출 전 data의 개수', len(D))\n",
    "print('추출 전 user_id의 개수', len(user_df), '\\n')\n",
    "\n",
    "user_df = extract_user1(user_df)\n",
    "print('1차 추출 (방문기간 고려) 완료 \\nuser_id의 개수:', len(user_df[user_df[\"tourist\"]]), \"\\n\\n\")\n",
    "\n",
    "user_df = extract_user2(user_df)\n",
    "print('2차 추출 (이용 날짜 수 고려) 완료 \\nuser_id의 개수:', len(user_df[user_df[\"tourist\"]]), \"\\n\\n\")\n",
    "\n",
    "user_df = extract_user3(user_df)\n",
    "print('3차 추출 (시작, 끝 정류장 고려) 완료 \\nuser_id의 개수:', len(user_df[user_df[\"tourist\"]]), \"\\n\\n\")\n",
    "\n",
    "# user_df = extract_user4(user_df)\n",
    "# print('4차 추출 (일정량 이상 이용) 완료 \\nuser_id의 개수:', len(user_df[user_df[\"tourist\"]]), \"\\n\\n\")\n",
    "\n",
    "#유의사항: 실제 사용자(관광객) 수는 user_id의 개수보다 크거나 같을 것. (사용자 수는 user_count로 파악할 것.)\n",
    "user_df.to_csv(\"user_list.csv\", encoding=\"utf-8\", index=False)\n",
    "print(\"저장완료\")"
   ]
  },
  {
   "cell_type": "markdown",
   "metadata": {},
   "source": [
    "### 3-4) 유저 데이터 출력"
   ]
  },
  {
   "cell_type": "code",
   "execution_count": 254,
   "metadata": {},
   "outputs": [
    {
     "data": {
      "text/html": [
       "<div>\n",
       "<style scoped>\n",
       "    .dataframe tbody tr th:only-of-type {\n",
       "        vertical-align: middle;\n",
       "    }\n",
       "\n",
       "    .dataframe tbody tr th {\n",
       "        vertical-align: top;\n",
       "    }\n",
       "\n",
       "    .dataframe thead th {\n",
       "        text-align: right;\n",
       "    }\n",
       "</style>\n",
       "<table border=\"1\" class=\"dataframe\">\n",
       "  <thead>\n",
       "    <tr style=\"text-align: right;\">\n",
       "      <th></th>\n",
       "      <th>user_id</th>\n",
       "      <th>first_date</th>\n",
       "      <th>last_date</th>\n",
       "      <th>use_days</th>\n",
       "      <th>period</th>\n",
       "      <th>usage</th>\n",
       "      <th>first_station</th>\n",
       "      <th>last_station</th>\n",
       "      <th>both</th>\n",
       "      <th>first</th>\n",
       "      <th>last</th>\n",
       "      <th>neither</th>\n",
       "      <th>tourist</th>\n",
       "    </tr>\n",
       "  </thead>\n",
       "  <tbody>\n",
       "    <tr>\n",
       "      <th>0</th>\n",
       "      <td>f6f372cf8c6732eafc2a82b4f9d7a08bb3b493213ea4ef...</td>\n",
       "      <td>2019-06-01</td>\n",
       "      <td>2019-06-09</td>\n",
       "      <td>5</td>\n",
       "      <td>9</td>\n",
       "      <td>14</td>\n",
       "      <td>other</td>\n",
       "      <td>other</td>\n",
       "      <td>False</td>\n",
       "      <td>False</td>\n",
       "      <td>False</td>\n",
       "      <td>True</td>\n",
       "      <td>False</td>\n",
       "    </tr>\n",
       "    <tr>\n",
       "      <th>1</th>\n",
       "      <td>3f6cfe2429f6e8d62cddc39222993405789b7b9ea2a592...</td>\n",
       "      <td>2019-06-01</td>\n",
       "      <td>2019-08-28</td>\n",
       "      <td>26</td>\n",
       "      <td>89</td>\n",
       "      <td>59</td>\n",
       "      <td>other</td>\n",
       "      <td>other</td>\n",
       "      <td>False</td>\n",
       "      <td>False</td>\n",
       "      <td>False</td>\n",
       "      <td>True</td>\n",
       "      <td>False</td>\n",
       "    </tr>\n",
       "    <tr>\n",
       "      <th>2</th>\n",
       "      <td>107cd874732b48a35df957bf653751154b0234e5573ba5...</td>\n",
       "      <td>2019-06-01</td>\n",
       "      <td>2019-08-28</td>\n",
       "      <td>63</td>\n",
       "      <td>89</td>\n",
       "      <td>249</td>\n",
       "      <td>other</td>\n",
       "      <td>other</td>\n",
       "      <td>False</td>\n",
       "      <td>False</td>\n",
       "      <td>False</td>\n",
       "      <td>True</td>\n",
       "      <td>False</td>\n",
       "    </tr>\n",
       "    <tr>\n",
       "      <th>3</th>\n",
       "      <td>27b16001fafd812b1e5c474cbc60455a9286ad27ecf8e5...</td>\n",
       "      <td>2019-06-01</td>\n",
       "      <td>2019-08-28</td>\n",
       "      <td>47</td>\n",
       "      <td>89</td>\n",
       "      <td>83</td>\n",
       "      <td>other</td>\n",
       "      <td>other</td>\n",
       "      <td>False</td>\n",
       "      <td>False</td>\n",
       "      <td>False</td>\n",
       "      <td>True</td>\n",
       "      <td>False</td>\n",
       "    </tr>\n",
       "    <tr>\n",
       "      <th>4</th>\n",
       "      <td>89c9a1c6e5915df4c192acc54067ee9a743f44eb559f3b...</td>\n",
       "      <td>2019-06-01</td>\n",
       "      <td>2019-08-28</td>\n",
       "      <td>26</td>\n",
       "      <td>89</td>\n",
       "      <td>35</td>\n",
       "      <td>other</td>\n",
       "      <td>other</td>\n",
       "      <td>False</td>\n",
       "      <td>False</td>\n",
       "      <td>False</td>\n",
       "      <td>True</td>\n",
       "      <td>False</td>\n",
       "    </tr>\n",
       "    <tr>\n",
       "      <th>...</th>\n",
       "      <td>...</td>\n",
       "      <td>...</td>\n",
       "      <td>...</td>\n",
       "      <td>...</td>\n",
       "      <td>...</td>\n",
       "      <td>...</td>\n",
       "      <td>...</td>\n",
       "      <td>...</td>\n",
       "      <td>...</td>\n",
       "      <td>...</td>\n",
       "      <td>...</td>\n",
       "      <td>...</td>\n",
       "      <td>...</td>\n",
       "    </tr>\n",
       "    <tr>\n",
       "      <th>726317</th>\n",
       "      <td>1c0b23153f52f11215e7d1f4e45dcecfa6d669676c4a9f...</td>\n",
       "      <td>2019-08-28</td>\n",
       "      <td>2019-08-28</td>\n",
       "      <td>1</td>\n",
       "      <td>1</td>\n",
       "      <td>1</td>\n",
       "      <td>other</td>\n",
       "      <td>other</td>\n",
       "      <td>False</td>\n",
       "      <td>False</td>\n",
       "      <td>False</td>\n",
       "      <td>True</td>\n",
       "      <td>False</td>\n",
       "    </tr>\n",
       "    <tr>\n",
       "      <th>726318</th>\n",
       "      <td>8235b6d43ba2e06d89fe94fda0dfdb7b4fe678ac58eaf5...</td>\n",
       "      <td>2019-08-28</td>\n",
       "      <td>2019-08-28</td>\n",
       "      <td>1</td>\n",
       "      <td>1</td>\n",
       "      <td>1</td>\n",
       "      <td>other</td>\n",
       "      <td>other</td>\n",
       "      <td>False</td>\n",
       "      <td>False</td>\n",
       "      <td>False</td>\n",
       "      <td>True</td>\n",
       "      <td>False</td>\n",
       "    </tr>\n",
       "    <tr>\n",
       "      <th>726319</th>\n",
       "      <td>f6f259fe96fd2e245be452a154c7c43ac747bc0f5d5ad1...</td>\n",
       "      <td>2019-08-29</td>\n",
       "      <td>2019-08-29</td>\n",
       "      <td>1</td>\n",
       "      <td>1</td>\n",
       "      <td>1</td>\n",
       "      <td>other</td>\n",
       "      <td>other</td>\n",
       "      <td>False</td>\n",
       "      <td>False</td>\n",
       "      <td>False</td>\n",
       "      <td>True</td>\n",
       "      <td>False</td>\n",
       "    </tr>\n",
       "    <tr>\n",
       "      <th>726320</th>\n",
       "      <td>670048e0bb0ed87661ef4e33fe476d74e4616c137bcdb0...</td>\n",
       "      <td>2019-08-29</td>\n",
       "      <td>2019-08-29</td>\n",
       "      <td>1</td>\n",
       "      <td>1</td>\n",
       "      <td>1</td>\n",
       "      <td>other</td>\n",
       "      <td>other</td>\n",
       "      <td>False</td>\n",
       "      <td>False</td>\n",
       "      <td>False</td>\n",
       "      <td>True</td>\n",
       "      <td>False</td>\n",
       "    </tr>\n",
       "    <tr>\n",
       "      <th>726321</th>\n",
       "      <td>e369089abfaf251ff6fe67c33ca540b642338c76a7e3cb...</td>\n",
       "      <td>2019-08-29</td>\n",
       "      <td>2019-08-29</td>\n",
       "      <td>1</td>\n",
       "      <td>1</td>\n",
       "      <td>1</td>\n",
       "      <td>airport</td>\n",
       "      <td>other</td>\n",
       "      <td>False</td>\n",
       "      <td>True</td>\n",
       "      <td>False</td>\n",
       "      <td>False</td>\n",
       "      <td>False</td>\n",
       "    </tr>\n",
       "  </tbody>\n",
       "</table>\n",
       "<p>726322 rows × 13 columns</p>\n",
       "</div>"
      ],
      "text/plain": [
       "                                                  user_id  first_date  \\\n",
       "0       f6f372cf8c6732eafc2a82b4f9d7a08bb3b493213ea4ef...  2019-06-01   \n",
       "1       3f6cfe2429f6e8d62cddc39222993405789b7b9ea2a592...  2019-06-01   \n",
       "2       107cd874732b48a35df957bf653751154b0234e5573ba5...  2019-06-01   \n",
       "3       27b16001fafd812b1e5c474cbc60455a9286ad27ecf8e5...  2019-06-01   \n",
       "4       89c9a1c6e5915df4c192acc54067ee9a743f44eb559f3b...  2019-06-01   \n",
       "...                                                   ...         ...   \n",
       "726317  1c0b23153f52f11215e7d1f4e45dcecfa6d669676c4a9f...  2019-08-28   \n",
       "726318  8235b6d43ba2e06d89fe94fda0dfdb7b4fe678ac58eaf5...  2019-08-28   \n",
       "726319  f6f259fe96fd2e245be452a154c7c43ac747bc0f5d5ad1...  2019-08-29   \n",
       "726320  670048e0bb0ed87661ef4e33fe476d74e4616c137bcdb0...  2019-08-29   \n",
       "726321  e369089abfaf251ff6fe67c33ca540b642338c76a7e3cb...  2019-08-29   \n",
       "\n",
       "         last_date  use_days  period  usage first_station last_station   both  \\\n",
       "0       2019-06-09         5       9     14         other        other  False   \n",
       "1       2019-08-28        26      89     59         other        other  False   \n",
       "2       2019-08-28        63      89    249         other        other  False   \n",
       "3       2019-08-28        47      89     83         other        other  False   \n",
       "4       2019-08-28        26      89     35         other        other  False   \n",
       "...            ...       ...     ...    ...           ...          ...    ...   \n",
       "726317  2019-08-28         1       1      1         other        other  False   \n",
       "726318  2019-08-28         1       1      1         other        other  False   \n",
       "726319  2019-08-29         1       1      1         other        other  False   \n",
       "726320  2019-08-29         1       1      1         other        other  False   \n",
       "726321  2019-08-29         1       1      1       airport        other  False   \n",
       "\n",
       "        first   last  neither  tourist  \n",
       "0       False  False     True    False  \n",
       "1       False  False     True    False  \n",
       "2       False  False     True    False  \n",
       "3       False  False     True    False  \n",
       "4       False  False     True    False  \n",
       "...       ...    ...      ...      ...  \n",
       "726317  False  False     True    False  \n",
       "726318  False  False     True    False  \n",
       "726319  False  False     True    False  \n",
       "726320  False  False     True    False  \n",
       "726321   True  False    False    False  \n",
       "\n",
       "[726322 rows x 13 columns]"
      ]
     },
     "execution_count": 254,
     "metadata": {},
     "output_type": "execute_result"
    }
   ],
   "source": [
    "user_df"
   ]
  },
  {
   "cell_type": "markdown",
   "metadata": {},
   "source": [
    "# 4. 결과 출력 "
   ]
  },
  {
   "cell_type": "markdown",
   "metadata": {},
   "source": [
    "### 4-1) 이용자 유형 분석"
   ]
  },
  {
   "cell_type": "code",
   "execution_count": 203,
   "metadata": {},
   "outputs": [
    {
     "name": "stdout",
     "output_type": "stream",
     "text": [
      "공항에서 시작하는 이용자\n",
      "(harbor->airport) 130647(명)\n",
      "(harbor->harbor)  46429(명)\n",
      "(harbor->other)   463(명)\n",
      "\n",
      "항만에서 시작하는 이용자\n",
      "(harbor->airport) 3414(명)\n",
      "(harbor->harbor)  793(명)\n",
      "(harbor->other)   560(명)\n"
     ]
    }
   ],
   "source": [
    "print(\"공항에서 시작하는 이용자\")\n",
    "a = user_df[user_df[\"first_station\"] == \"airport\"]\n",
    "b = a[\"last_station\"].value_counts()\n",
    "print(\"(harbor->airport) {}(명)\".format(b[0]))\n",
    "print(\"(harbor->harbor)  {}(명)\".format(b[1]))\n",
    "print(\"(harbor->other)   {}(명)\".format(b[2]))\n",
    "\n",
    "print(\"\\n항만에서 시작하는 이용자\")\n",
    "a = user_df[user_df[\"first_station\"] == \"harbor\"]\n",
    "b = a[\"last_station\"].value_counts()\n",
    "print(\"(harbor->airport) {}(명)\".format(b[0]))\n",
    "print(\"(harbor->harbor)  {}(명)\".format(b[1]))\n",
    "print(\"(harbor->other)   {}(명)\".format(b[2]))"
   ]
  },
  {
   "cell_type": "code",
   "execution_count": 271,
   "metadata": {},
   "outputs": [],
   "source": [
    "def period_user(plt, user_df):\n",
    "    data = user_df['period'].value_counts().reset_index().sort_values('index')\n",
    "    data_x = data['index']\n",
    "    data_y = data['period']\n",
    "\n",
    "    plt.bar(data_x, data_y)\n",
    "    plt.title('도민의 이용 기간 별 이용자 수')\n",
    "    plt.xlabel('방문기간')\n",
    "    plt.ylabel('방문자 수')"
   ]
  },
  {
   "cell_type": "markdown",
   "metadata": {},
   "source": [
    "#### 관관객의 이용기간 별 이용자 수"
   ]
  },
  {
   "cell_type": "code",
   "execution_count": 272,
   "metadata": {},
   "outputs": [
    {
     "data": {
      "image/png": "[encoded data removed]",
      "text/plain": [
       "<Figure size 864x288 with 1 Axes>"
      ]
     },
     "metadata": {
      "needs_background": "light"
     },
     "output_type": "display_data"
    }
   ],
   "source": [
    "data = user_df[user_df['tourist'] == False]\n",
    "period_user(plt, data)"
   ]
  },
  {
   "cell_type": "code",
   "execution_count": 273,
   "metadata": {},
   "outputs": [
    {
     "data": {
      "image/png": "[encoded data removed]",
      "text/plain": [
       "<Figure size 864x288 with 1 Axes>"
      ]
     },
     "metadata": {
      "needs_background": "light"
     },
     "output_type": "display_data"
    }
   ],
   "source": [
    "data = user_df[user_df['tourist'] == True]\n",
    "period_user(plt, data)"
   ]
  },
  {
   "cell_type": "code",
   "execution_count": 146,
   "metadata": {},
   "outputs": [
    {
     "data": {
      "text/html": [
       "<div>\n",
       "<style scoped>\n",
       "    .dataframe tbody tr th:only-of-type {\n",
       "        vertical-align: middle;\n",
       "    }\n",
       "\n",
       "    .dataframe tbody tr th {\n",
       "        vertical-align: top;\n",
       "    }\n",
       "\n",
       "    .dataframe thead th {\n",
       "        text-align: right;\n",
       "    }\n",
       "</style>\n",
       "<table border=\"1\" class=\"dataframe\">\n",
       "  <thead>\n",
       "    <tr style=\"text-align: right;\">\n",
       "      <th></th>\n",
       "      <th>user_id</th>\n",
       "      <th>first_date</th>\n",
       "      <th>last_date</th>\n",
       "      <th>use_days</th>\n",
       "      <th>period</th>\n",
       "      <th>usage</th>\n",
       "      <th>first_station</th>\n",
       "      <th>last_station</th>\n",
       "      <th>both</th>\n",
       "      <th>first</th>\n",
       "      <th>last</th>\n",
       "      <th>neither</th>\n",
       "      <th>tourist</th>\n",
       "    </tr>\n",
       "  </thead>\n",
       "  <tbody>\n",
       "    <tr>\n",
       "      <th>0</th>\n",
       "      <td>f6f372cf8c6732eafc2a82b4f9d7a08bb3b493213ea4ef...</td>\n",
       "      <td>20190601</td>\n",
       "      <td>20190609</td>\n",
       "      <td>5</td>\n",
       "      <td>9</td>\n",
       "      <td>14</td>\n",
       "      <td>other</td>\n",
       "      <td>other</td>\n",
       "      <td>False</td>\n",
       "      <td>False</td>\n",
       "      <td>False</td>\n",
       "      <td>True</td>\n",
       "      <td>False</td>\n",
       "    </tr>\n",
       "    <tr>\n",
       "      <th>1</th>\n",
       "      <td>3f6cfe2429f6e8d62cddc39222993405789b7b9ea2a592...</td>\n",
       "      <td>20190601</td>\n",
       "      <td>20190828</td>\n",
       "      <td>26</td>\n",
       "      <td>228</td>\n",
       "      <td>59</td>\n",
       "      <td>other</td>\n",
       "      <td>other</td>\n",
       "      <td>False</td>\n",
       "      <td>False</td>\n",
       "      <td>False</td>\n",
       "      <td>True</td>\n",
       "      <td>False</td>\n",
       "    </tr>\n",
       "    <tr>\n",
       "      <th>2</th>\n",
       "      <td>107cd874732b48a35df957bf653751154b0234e5573ba5...</td>\n",
       "      <td>20190601</td>\n",
       "      <td>20190828</td>\n",
       "      <td>63</td>\n",
       "      <td>228</td>\n",
       "      <td>249</td>\n",
       "      <td>other</td>\n",
       "      <td>other</td>\n",
       "      <td>False</td>\n",
       "      <td>False</td>\n",
       "      <td>False</td>\n",
       "      <td>True</td>\n",
       "      <td>False</td>\n",
       "    </tr>\n",
       "    <tr>\n",
       "      <th>3</th>\n",
       "      <td>27b16001fafd812b1e5c474cbc60455a9286ad27ecf8e5...</td>\n",
       "      <td>20190601</td>\n",
       "      <td>20190828</td>\n",
       "      <td>47</td>\n",
       "      <td>228</td>\n",
       "      <td>83</td>\n",
       "      <td>other</td>\n",
       "      <td>other</td>\n",
       "      <td>False</td>\n",
       "      <td>False</td>\n",
       "      <td>False</td>\n",
       "      <td>True</td>\n",
       "      <td>False</td>\n",
       "    </tr>\n",
       "    <tr>\n",
       "      <th>4</th>\n",
       "      <td>89c9a1c6e5915df4c192acc54067ee9a743f44eb559f3b...</td>\n",
       "      <td>20190601</td>\n",
       "      <td>20190828</td>\n",
       "      <td>26</td>\n",
       "      <td>228</td>\n",
       "      <td>35</td>\n",
       "      <td>other</td>\n",
       "      <td>other</td>\n",
       "      <td>False</td>\n",
       "      <td>False</td>\n",
       "      <td>False</td>\n",
       "      <td>True</td>\n",
       "      <td>False</td>\n",
       "    </tr>\n",
       "    <tr>\n",
       "      <th>...</th>\n",
       "      <td>...</td>\n",
       "      <td>...</td>\n",
       "      <td>...</td>\n",
       "      <td>...</td>\n",
       "      <td>...</td>\n",
       "      <td>...</td>\n",
       "      <td>...</td>\n",
       "      <td>...</td>\n",
       "      <td>...</td>\n",
       "      <td>...</td>\n",
       "      <td>...</td>\n",
       "      <td>...</td>\n",
       "      <td>...</td>\n",
       "    </tr>\n",
       "    <tr>\n",
       "      <th>726317</th>\n",
       "      <td>1c0b23153f52f11215e7d1f4e45dcecfa6d669676c4a9f...</td>\n",
       "      <td>20190828</td>\n",
       "      <td>20190828</td>\n",
       "      <td>1</td>\n",
       "      <td>1</td>\n",
       "      <td>1</td>\n",
       "      <td>other</td>\n",
       "      <td>other</td>\n",
       "      <td>False</td>\n",
       "      <td>False</td>\n",
       "      <td>False</td>\n",
       "      <td>True</td>\n",
       "      <td>False</td>\n",
       "    </tr>\n",
       "    <tr>\n",
       "      <th>726318</th>\n",
       "      <td>8235b6d43ba2e06d89fe94fda0dfdb7b4fe678ac58eaf5...</td>\n",
       "      <td>20190828</td>\n",
       "      <td>20190828</td>\n",
       "      <td>1</td>\n",
       "      <td>1</td>\n",
       "      <td>1</td>\n",
       "      <td>other</td>\n",
       "      <td>other</td>\n",
       "      <td>False</td>\n",
       "      <td>False</td>\n",
       "      <td>False</td>\n",
       "      <td>True</td>\n",
       "      <td>False</td>\n",
       "    </tr>\n",
       "    <tr>\n",
       "      <th>726319</th>\n",
       "      <td>f6f259fe96fd2e245be452a154c7c43ac747bc0f5d5ad1...</td>\n",
       "      <td>20190829</td>\n",
       "      <td>20190829</td>\n",
       "      <td>1</td>\n",
       "      <td>1</td>\n",
       "      <td>1</td>\n",
       "      <td>other</td>\n",
       "      <td>other</td>\n",
       "      <td>False</td>\n",
       "      <td>False</td>\n",
       "      <td>False</td>\n",
       "      <td>True</td>\n",
       "      <td>False</td>\n",
       "    </tr>\n",
       "    <tr>\n",
       "      <th>726320</th>\n",
       "      <td>670048e0bb0ed87661ef4e33fe476d74e4616c137bcdb0...</td>\n",
       "      <td>20190829</td>\n",
       "      <td>20190829</td>\n",
       "      <td>1</td>\n",
       "      <td>1</td>\n",
       "      <td>1</td>\n",
       "      <td>other</td>\n",
       "      <td>other</td>\n",
       "      <td>False</td>\n",
       "      <td>False</td>\n",
       "      <td>False</td>\n",
       "      <td>True</td>\n",
       "      <td>False</td>\n",
       "    </tr>\n",
       "    <tr>\n",
       "      <th>726321</th>\n",
       "      <td>e369089abfaf251ff6fe67c33ca540b642338c76a7e3cb...</td>\n",
       "      <td>20190829</td>\n",
       "      <td>20190829</td>\n",
       "      <td>1</td>\n",
       "      <td>1</td>\n",
       "      <td>1</td>\n",
       "      <td>airport</td>\n",
       "      <td>other</td>\n",
       "      <td>False</td>\n",
       "      <td>True</td>\n",
       "      <td>False</td>\n",
       "      <td>False</td>\n",
       "      <td>False</td>\n",
       "    </tr>\n",
       "  </tbody>\n",
       "</table>\n",
       "<p>726322 rows × 13 columns</p>\n",
       "</div>"
      ],
      "text/plain": [
       "                                                  user_id  first_date  \\\n",
       "0       f6f372cf8c6732eafc2a82b4f9d7a08bb3b493213ea4ef...    20190601   \n",
       "1       3f6cfe2429f6e8d62cddc39222993405789b7b9ea2a592...    20190601   \n",
       "2       107cd874732b48a35df957bf653751154b0234e5573ba5...    20190601   \n",
       "3       27b16001fafd812b1e5c474cbc60455a9286ad27ecf8e5...    20190601   \n",
       "4       89c9a1c6e5915df4c192acc54067ee9a743f44eb559f3b...    20190601   \n",
       "...                                                   ...         ...   \n",
       "726317  1c0b23153f52f11215e7d1f4e45dcecfa6d669676c4a9f...    20190828   \n",
       "726318  8235b6d43ba2e06d89fe94fda0dfdb7b4fe678ac58eaf5...    20190828   \n",
       "726319  f6f259fe96fd2e245be452a154c7c43ac747bc0f5d5ad1...    20190829   \n",
       "726320  670048e0bb0ed87661ef4e33fe476d74e4616c137bcdb0...    20190829   \n",
       "726321  e369089abfaf251ff6fe67c33ca540b642338c76a7e3cb...    20190829   \n",
       "\n",
       "        last_date  use_days  period  usage first_station last_station   both  \\\n",
       "0        20190609         5       9     14         other        other  False   \n",
       "1        20190828        26     228     59         other        other  False   \n",
       "2        20190828        63     228    249         other        other  False   \n",
       "3        20190828        47     228     83         other        other  False   \n",
       "4        20190828        26     228     35         other        other  False   \n",
       "...           ...       ...     ...    ...           ...          ...    ...   \n",
       "726317   20190828         1       1      1         other        other  False   \n",
       "726318   20190828         1       1      1         other        other  False   \n",
       "726319   20190829         1       1      1         other        other  False   \n",
       "726320   20190829         1       1      1         other        other  False   \n",
       "726321   20190829         1       1      1       airport        other  False   \n",
       "\n",
       "        first   last  neither  tourist  \n",
       "0       False  False     True    False  \n",
       "1       False  False     True    False  \n",
       "2       False  False     True    False  \n",
       "3       False  False     True    False  \n",
       "4       False  False     True    False  \n",
       "...       ...    ...      ...      ...  \n",
       "726317  False  False     True    False  \n",
       "726318  False  False     True    False  \n",
       "726319  False  False     True    False  \n",
       "726320  False  False     True    False  \n",
       "726321   True  False    False    False  \n",
       "\n",
       "[726322 rows x 13 columns]"
      ]
     },
     "execution_count": 146,
     "metadata": {},
     "output_type": "execute_result"
    }
   ],
   "source": [
    "user_df"
   ]
  },
  {
   "cell_type": "code",
   "execution_count": 159,
   "metadata": {},
   "outputs": [
    {
     "name": "stdout",
     "output_type": "stream",
     "text": [
      "2     11491\n",
      "3      9805\n",
      "1      5812\n",
      "4      4132\n",
      "0      3586\n",
      "      ...  \n",
      "87       48\n",
      "80       43\n",
      "83       41\n",
      "76       37\n",
      "85       30\n",
      "Name: period, Length: 89, dtype: int64\n"
     ]
    },
    {
     "name": "stderr",
     "output_type": "stream",
     "text": [
      "<ipython-input-159-3a63d419055f>:2: UserWarning: Boolean Series key will be reindexed to match DataFrame index.\n",
      "  data = data[user_df['last_station'] == \"airport\"]\n"
     ]
    },
    {
     "data": {
      "image/png": "[encoded data removed]",
      "text/plain": [
       "<Figure size 864x288 with 1 Axes>"
      ]
     },
     "metadata": {
      "needs_background": "light"
     },
     "output_type": "display_data"
    }
   ],
   "source": [
    "data = user_df[user_df['first_station'] == \"airport\"]\n",
    "data = data[user_df['last_station'] == \"airport\"]\n",
    "data = data[\"period\"].value_counts()\n",
    "data2 = data\n",
    "print(data)\n",
    "plt.rcParams[\"figure.figsize\"] = (12,4)\n",
    "plt.bar(range(len(data2)), data2)\n",
    "plt.xlabel('방문기간')\n",
    "plt.ylabel('방문자 수')\n",
    "plt.title('방문 기간별 이동패턴이 (항구->항구)인 사용자 수 ')\n",
    "plt.show()"
   ]
  },
  {
   "cell_type": "code",
   "execution_count": 378,
   "metadata": {},
   "outputs": [
    {
     "data": {
      "image/png": "[encoded data removed]",
      "text/plain": [
       "<Figure size 432x288 with 1 Axes>"
      ]
     },
     "metadata": {
      "needs_background": "light"
     },
     "output_type": "display_data"
    }
   ],
   "source": [
    "data2 = [0.3, 5.7, 61.8, 23.8, 4.5, 1.3]\n",
    "plt.rcParams[\"figure.figsize\"] = (6,4)\n",
    "plt.bar(range(1, 7), data2)\n",
    "plt.xlabel('방문기간( 일 )')\n",
    "plt.ylabel('방문자 수( % )')\n",
    "plt.title('방문 기간별 관광객 수( 명 )')\n",
    "plt.show()"
   ]
  },
  {
   "cell_type": "code",
   "execution_count": 155,
   "metadata": {},
   "outputs": [
    {
     "name": "stdout",
     "output_type": "stream",
     "text": [
      "<class 'float'>\n"
     ]
    }
   ],
   "source": [
    "i=22\n",
    "tourist = list(user_infor_df[user_infor_df[\"tourist\"] == 1][\"user_id\"])\n",
    "d = usage_df.query('{} == \"{}\"'.format(\"user_id\", tourist[i]))[selete].sort_values(by = \"geton_datetime\")\n",
    "end = d.tail(n=1).iloc[0, 4]\n",
    "print(type(end))"
   ]
  },
  {
   "cell_type": "code",
   "execution_count": 32,
   "metadata": {},
   "outputs": [],
   "source": [
    "from matplotlib import font_manager, rc\n",
    "font_name = font_manager.FontProperties(fname=\"c:/Windows/Fonts/malgun.ttf\").get_name()\n",
    "rc('font', family=font_name)"
   ]
  },
  {
   "cell_type": "code",
   "execution_count": 355,
   "metadata": {
    "scrolled": true
   },
   "outputs": [
    {
     "data": {
      "image/png": "[encoded data removed]",
      "text/plain": [
       "<Figure size 1080x288 with 1 Axes>"
      ]
     },
     "metadata": {
      "needs_background": "light"
     },
     "output_type": "display_data"
    }
   ],
   "source": [
    "# 공항 이용율\n",
    "wedgeprops={'width': 0.65, 'edgecolor': 'w', 'linewidth': 5}\n",
    "\n",
    "columns = ['both', 'first', 'last', 'neither']\n",
    "values = [[], [], [], []]\n",
    "period = 90\n",
    "term = 1\n",
    "for period in list(range(1, period+1, term)):\n",
    "    user_df2 = user_df[(period-1 < user_df['period']) & (user_df['period'] <= period)]\n",
    "    for i in range(4):\n",
    "        sum = len(user_df2)\n",
    "        values[i].append(len(user_df2[user_df2[columns[i]]])/sum)\n",
    "\n",
    "plt.rcParams[\"figure.figsize\"] = (15,4)\n",
    "for i in list(range(4)):\n",
    "    plt.plot(list(range(1, period+1, term)), values[i])\n",
    "    \n",
    "plt.legend(columns)\n",
    "plt.title('방문 기간별, 공항 및 항만 이용 유형별 비율')\n",
    "plt.xlabel(\"방문기간\")\n",
    "plt.ylabel(\"이용비율\")\n",
    "plt.xticks(list(range(0, period+1, 5)))\n",
    "plt.show()"
   ]
  },
  {
   "cell_type": "markdown",
   "metadata": {},
   "source": [
    "해석\n",
    "* 공항 또는 항만을 이용한 대중교통 승객은 2~10일 사이에 모여있다.\n",
    "* both의 경우 관광객 방문기간 통계자료를 따른다.\n",
    "* last의 경우 both와 first보다 상대적으로 낮은 비율을 보인다.\n",
    "(보통 집에 공항으로 갈 땐 귀찮아서 택시를 이용하는 듯)"
   ]
  },
  {
   "cell_type": "markdown",
   "metadata": {},
   "source": [
    "# 추출된 임의의 관광객 이동 패턴 출력 예시"
   ]
  },
  {
   "cell_type": "code",
   "execution_count": 30,
   "metadata": {},
   "outputs": [],
   "source": [
    "def show_od_pattern(user_df, num):\n",
    "    data = user_df[user_df[\"tourist\"]]\n",
    "    id = data.iloc[num, 0]\n",
    "    select = [\"base_date\", \"geton_datetime\", \"geton_stataion_name\", \"getoff_datetime\", \"getoff_station_name\", \"user_count\"]\n",
    "    od_df = usage_df.query('user_id == \"{}\"'.format(id)).sort_values('geton_datetime')\n",
    "    return od_df[select]"
   ]
  },
  {
   "cell_type": "code",
   "execution_count": 197,
   "metadata": {},
   "outputs": [
    {
     "data": {
      "text/html": [
       "<div>\n",
       "<style scoped>\n",
       "    .dataframe tbody tr th:only-of-type {\n",
       "        vertical-align: middle;\n",
       "    }\n",
       "\n",
       "    .dataframe tbody tr th {\n",
       "        vertical-align: top;\n",
       "    }\n",
       "\n",
       "    .dataframe thead th {\n",
       "        text-align: right;\n",
       "    }\n",
       "</style>\n",
       "<table border=\"1\" class=\"dataframe\">\n",
       "  <thead>\n",
       "    <tr style=\"text-align: right;\">\n",
       "      <th></th>\n",
       "      <th>base_date</th>\n",
       "      <th>geton_datetime</th>\n",
       "      <th>geton_stataion_name</th>\n",
       "      <th>getoff_datetime</th>\n",
       "      <th>getoff_station_name</th>\n",
       "      <th>user_count</th>\n",
       "    </tr>\n",
       "  </thead>\n",
       "  <tbody>\n",
       "    <tr>\n",
       "      <th>32133</th>\n",
       "      <td>20190601</td>\n",
       "      <td>2019-06-01 12:09:29</td>\n",
       "      <td>제주국제공항(대정,화순,일주서로)</td>\n",
       "      <td>2019-06-01 12:44:17</td>\n",
       "      <td>애월환승정류장(애월리)</td>\n",
       "      <td>1</td>\n",
       "    </tr>\n",
       "    <tr>\n",
       "      <th>32132</th>\n",
       "      <td>20190601</td>\n",
       "      <td>2019-06-01 13:02:03</td>\n",
       "      <td>애월환승정류장(애월리)</td>\n",
       "      <td>2019-06-01 13:04:19</td>\n",
       "      <td>한담동</td>\n",
       "      <td>1</td>\n",
       "    </tr>\n",
       "    <tr>\n",
       "      <th>32131</th>\n",
       "      <td>20190601</td>\n",
       "      <td>2019-06-01 16:19:50</td>\n",
       "      <td>곽지해수욕장</td>\n",
       "      <td>NaT</td>\n",
       "      <td>NaN</td>\n",
       "      <td>1</td>\n",
       "    </tr>\n",
       "    <tr>\n",
       "      <th>167881</th>\n",
       "      <td>20190602</td>\n",
       "      <td>2019-06-02 08:29:30</td>\n",
       "      <td>일성콘도미니엄</td>\n",
       "      <td>2019-06-02 08:37:52</td>\n",
       "      <td>신창중학교</td>\n",
       "      <td>1</td>\n",
       "    </tr>\n",
       "    <tr>\n",
       "      <th>167878</th>\n",
       "      <td>20190602</td>\n",
       "      <td>2019-06-02 08:54:59</td>\n",
       "      <td>구한경의원앞</td>\n",
       "      <td>NaT</td>\n",
       "      <td>NaN</td>\n",
       "      <td>1</td>\n",
       "    </tr>\n",
       "    <tr>\n",
       "      <th>167877</th>\n",
       "      <td>20190602</td>\n",
       "      <td>2019-06-02 12:00:02</td>\n",
       "      <td>법기동</td>\n",
       "      <td>2019-06-02 12:03:26</td>\n",
       "      <td>붉으내</td>\n",
       "      <td>1</td>\n",
       "    </tr>\n",
       "    <tr>\n",
       "      <th>167882</th>\n",
       "      <td>20190602</td>\n",
       "      <td>2019-06-02 14:40:22</td>\n",
       "      <td>고산1리(구출장소)</td>\n",
       "      <td>2019-06-02 15:37:52</td>\n",
       "      <td>중문환승정류장(중문우체국)</td>\n",
       "      <td>1</td>\n",
       "    </tr>\n",
       "    <tr>\n",
       "      <th>167880</th>\n",
       "      <td>20190602</td>\n",
       "      <td>2019-06-02 18:03:19</td>\n",
       "      <td>제주국제컨벤션센터중문대포해안주상절리대</td>\n",
       "      <td>2019-06-02 18:17:48</td>\n",
       "      <td>제주월드컵경기장(600번)</td>\n",
       "      <td>1</td>\n",
       "    </tr>\n",
       "    <tr>\n",
       "      <th>167879</th>\n",
       "      <td>20190602</td>\n",
       "      <td>2019-06-02 18:28:59</td>\n",
       "      <td>서귀포시외버스터미널(가상정류소)</td>\n",
       "      <td>2019-06-02 19:55:41</td>\n",
       "      <td>성산환승정류장(고성리회전교차로)</td>\n",
       "      <td>1</td>\n",
       "    </tr>\n",
       "    <tr>\n",
       "      <th>249425</th>\n",
       "      <td>20190603</td>\n",
       "      <td>2019-06-03 11:58:53</td>\n",
       "      <td>세화환승정류장(세화리)</td>\n",
       "      <td>2019-06-03 12:20:13</td>\n",
       "      <td>동복리</td>\n",
       "      <td>1</td>\n",
       "    </tr>\n",
       "    <tr>\n",
       "      <th>249426</th>\n",
       "      <td>20190603</td>\n",
       "      <td>2019-06-03 13:03:36</td>\n",
       "      <td>북촌다려마을</td>\n",
       "      <td>2019-06-03 13:09:58</td>\n",
       "      <td>함덕환승정류장(함덕해수욕장)</td>\n",
       "      <td>1</td>\n",
       "    </tr>\n",
       "    <tr>\n",
       "      <th>249427</th>\n",
       "      <td>20190603</td>\n",
       "      <td>2019-06-03 14:59:51</td>\n",
       "      <td>함덕리(3구)</td>\n",
       "      <td>2019-06-03 15:34:05</td>\n",
       "      <td>동문로터리(동문시장)</td>\n",
       "      <td>1</td>\n",
       "    </tr>\n",
       "    <tr>\n",
       "      <th>249428</th>\n",
       "      <td>20190603</td>\n",
       "      <td>2019-06-03 16:11:58</td>\n",
       "      <td>동문로터리(동문시장)</td>\n",
       "      <td>2019-06-03 16:24:22</td>\n",
       "      <td>제주국제공항(종점)</td>\n",
       "      <td>1</td>\n",
       "    </tr>\n",
       "  </tbody>\n",
       "</table>\n",
       "</div>"
      ],
      "text/plain": [
       "        base_date      geton_datetime   geton_stataion_name  \\\n",
       "32133    20190601 2019-06-01 12:09:29    제주국제공항(대정,화순,일주서로)   \n",
       "32132    20190601 2019-06-01 13:02:03          애월환승정류장(애월리)   \n",
       "32131    20190601 2019-06-01 16:19:50                곽지해수욕장   \n",
       "167881   20190602 2019-06-02 08:29:30               일성콘도미니엄   \n",
       "167878   20190602 2019-06-02 08:54:59                구한경의원앞   \n",
       "167877   20190602 2019-06-02 12:00:02                   법기동   \n",
       "167882   20190602 2019-06-02 14:40:22            고산1리(구출장소)   \n",
       "167880   20190602 2019-06-02 18:03:19  제주국제컨벤션센터중문대포해안주상절리대   \n",
       "167879   20190602 2019-06-02 18:28:59     서귀포시외버스터미널(가상정류소)   \n",
       "249425   20190603 2019-06-03 11:58:53          세화환승정류장(세화리)   \n",
       "249426   20190603 2019-06-03 13:03:36                북촌다려마을   \n",
       "249427   20190603 2019-06-03 14:59:51               함덕리(3구)   \n",
       "249428   20190603 2019-06-03 16:11:58           동문로터리(동문시장)   \n",
       "\n",
       "           getoff_datetime getoff_station_name  user_count  \n",
       "32133  2019-06-01 12:44:17        애월환승정류장(애월리)           1  \n",
       "32132  2019-06-01 13:04:19                 한담동           1  \n",
       "32131                  NaT                 NaN           1  \n",
       "167881 2019-06-02 08:37:52               신창중학교           1  \n",
       "167878                 NaT                 NaN           1  \n",
       "167877 2019-06-02 12:03:26                 붉으내           1  \n",
       "167882 2019-06-02 15:37:52      중문환승정류장(중문우체국)           1  \n",
       "167880 2019-06-02 18:17:48      제주월드컵경기장(600번)           1  \n",
       "167879 2019-06-02 19:55:41   성산환승정류장(고성리회전교차로)           1  \n",
       "249425 2019-06-03 12:20:13                 동복리           1  \n",
       "249426 2019-06-03 13:09:58     함덕환승정류장(함덕해수욕장)           1  \n",
       "249427 2019-06-03 15:34:05         동문로터리(동문시장)           1  \n",
       "249428 2019-06-03 16:24:22          제주국제공항(종점)           1  "
      ]
     },
     "execution_count": 197,
     "metadata": {},
     "output_type": "execute_result"
    }
   ],
   "source": [
    "data = user_df[user_df[\"tourist\"]]\n",
    "show_od_pattern(data, 7)"
   ]
  }
 ],
 "metadata": {
  "kernelspec": {
   "display_name": "Python 3",
   "language": "python",
   "name": "python3"
  },
  "language_info": {
   "codemirror_mode": {
    "name": "ipython",
    "version": 3
   },
   "file_extension": ".py",
   "mimetype": "text/x-python",
   "name": "python",
   "nbconvert_exporter": "python",
   "pygments_lexer": "ipython3",
   "version": "3.8.3"
  }
 },
 "nbformat": 4,
 "nbformat_minor": 2
}
