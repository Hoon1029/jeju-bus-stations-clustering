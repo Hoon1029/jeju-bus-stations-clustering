{
 "cells": [
  {
   "cell_type": "markdown",
   "metadata": {},
   "source": [
    "* 관광객 추출 알고리즘을 통해 얻은 데이터 [\"user_id\", \"tourist\"]사용\n",
    "* 대중교통 이용 데이터에 관광객 컬럼을 추가한다."
   ]
  },
  {
   "cell_type": "code",
   "execution_count": 1,
   "metadata": {},
   "outputs": [],
   "source": [
    "from sklearn.cluster import DBSCAN\n",
    "import pandas as pd\n",
    "import numpy as np\n",
    "import matplotlib.pyplot as plt\n",
    "import datetime\n",
    "from tqdm import tqdm\n",
    "from pyarrow import csv # 빠른 csv파일 사용"
   ]
  },
  {
   "cell_type": "code",
   "execution_count": null,
   "metadata": {},
   "outputs": [],
   "source": [
    "def make_input_path(start_date, end_date):\n",
    "    root_path = \"C:/tb_bus_user_usage\"\n",
    "    base_name = \"tb_bus_user_usage_\"\n",
    "    extender = \".csv\"\n",
    "    path_list = []\n",
    "    \n",
    "    for day in range((end_date-start_date).days+1):\n",
    "        date = start_date + datetime.timedelta(days = day)\n",
    "        date = str(date)\n",
    "        y = date[2:4]\n",
    "        m = date[5:7]\n",
    "        d = date[8:10]\n",
    "        file_path = root_path+\"/\"+base_name+y+m+d+extender\n",
    "        path_list.append(file_path)\n",
    "        \n",
    "    return path_list"
   ]
  },
  {
   "cell_type": "code",
   "execution_count": null,
   "metadata": {},
   "outputs": [],
   "source": [
    "start_date = datetime.datetime(2019, 6, 1)\n",
    "end_date = datetime.datetime(2019, 8, 29)\n",
    "\n",
    "user_list_path = \"user_list.csv\"\n",
    "input_path_list = make_input_path(start_date, end_date)\n",
    "\n",
    "user_list_df = csv.read_csv(user_list_path).to_pandas()\n",
    "\n",
    "\n",
    "\n",
    "for file_path in tqdm(input_path_list):\n",
    "    temp_df = pd.read_csv(file_path, low_memory=False, encoding = \"cp949\") #, dtype=dtype)\n",
    "    pd.merge(temp_df, )\n",
    "    temp_df.to_csv(file_path, encoding = \"cp949\")\n",
    "\n",
    "\n",
    "bus_usage_df = csv.read_csv(bus_usage_path).to_pandas()\n",
    "\n",
    "combined_df = pd.merge(bus_usage_df, user_list_df, on = \"user_id\")\n",
    "combined_df.to_csv(bus_usage_path)"
   ]
  },
  {
   "cell_type": "code",
   "execution_count": null,
   "metadata": {},
   "outputs": [],
   "source": []
  }
 ],
 "metadata": {
  "kernelspec": {
   "display_name": "Python 3",
   "language": "python",
   "name": "python3"
  },
  "language_info": {
   "codemirror_mode": {
    "name": "ipython",
    "version": 3
   },
   "file_extension": ".py",
   "mimetype": "text/x-python",
   "name": "python",
   "nbconvert_exporter": "python",
   "pygments_lexer": "ipython3",
   "version": "3.8.3"
  }
 },
 "nbformat": 4,
 "nbformat_minor": 4
}
