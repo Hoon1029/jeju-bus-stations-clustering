{
 "cells": [
  {
   "cell_type": "markdown",
   "metadata": {},
   "source": [
    "* 관광객 추출 알고리즘을 통해 얻은 데이터 [\"user_id\", \"tourist\"]사용\n",
    "* 대중교통 이용 데이터에 관광객 컬럼을 추가한다."
   ]
  },
  {
   "cell_type": "code",
   "execution_count": 1,
   "metadata": {},
   "outputs": [],
   "source": [
    "from sklearn.cluster import DBSCAN\n",
    "import pandas as pd\n",
    "import numpy as np\n",
    "import matplotlib.pyplot as plt\n",
    "import datetime\n",
    "from tqdm import tqdm"
   ]
  },
  {
   "cell_type": "markdown",
   "metadata": {},
   "source": [
    "#### 1. 파일 경로 설정 def\n",
    "* 해당 날짜에 대한 파일 경로 반환"
   ]
  },
  {
   "cell_type": "code",
   "execution_count": 2,
   "metadata": {},
   "outputs": [],
   "source": [
    "def make_path(date):\n",
    "    root_path = \"C:/tb_bus_user_usage\"\n",
    "    base_name = \"tb_bus_user_usage_\"\n",
    "    extender = \".csv\"\n",
    "    \n",
    "    date = str(date)\n",
    "    y = date[2:4]\n",
    "    m = date[5:7]\n",
    "    d = date[8:10]\n",
    "    \n",
    "    file_name = root_path+\"/\"+base_name+y+m+d+extender\n",
    "    return file_name"
   ]
  },
  {
   "cell_type": "markdown",
   "metadata": {},
   "source": [
    "#### 2. 관광객 여부 컬럼 세팅 - def"
   ]
  },
  {
   "cell_type": "code",
   "execution_count": 4,
   "metadata": {},
   "outputs": [],
   "source": [
    "def create_tourist_column(start_date, end_date):\n",
    "    tourist_df = pd.read_csv(\"user_list.csv\", encoding=\"utf-8\")\n",
    "\n",
    "    for day in tqdm(range((end_date-start_date).days+1)):\n",
    "        date = start_date + datetime.timedelta(days = day)\n",
    "        file_path = make_path(date)\n",
    "        df = pd.read_csv(file_path, encoding=\"utf-8\")\n",
    "        df = pd.merge(df, tourist_df, on = \"user_id\")\n",
    "        df.to_csv(file_path, encoding=\"cp949\", index=False)"
   ]
  },
  {
   "cell_type": "markdown",
   "metadata": {},
   "source": [
    "#### 2. 관광객 여부 컬럼 세팅 - main"
   ]
  },
  {
   "cell_type": "code",
   "execution_count": 5,
   "metadata": {},
   "outputs": [
    {
     "name": "stderr",
     "output_type": "stream",
     "text": [
      "  0%|                                                                                           | 0/87 [00:00<?, ?it/s]D:\\Users\\Embedded\\Anaconda3\\lib\\site-packages\\IPython\\core\\interactiveshell.py:3263: DtypeWarning: Columns (12) have mixed types.Specify dtype option on import or set low_memory=False.\n",
      "  if (await self.run_code(code, result,  async_=asy)):\n",
      "100%|██████████████████████████████████████████████████████████████████████████████████| 87/87 [03:18<00:00,  2.28s/it]\n"
     ]
    }
   ],
   "source": [
    "start_date = datetime.datetime(2019, 6, 4)\n",
    "end_date = datetime.datetime(2019, 8, 29)\n",
    "create_tourist_column(start_date, end_date)"
   ]
  },
  {
   "cell_type": "code",
   "execution_count": null,
   "metadata": {},
   "outputs": [],
   "source": []
  }
 ],
 "metadata": {
  "kernelspec": {
   "display_name": "Python 3",
   "language": "python",
   "name": "python3"
  },
  "language_info": {
   "codemirror_mode": {
    "name": "ipython",
    "version": 3
   },
   "file_extension": ".py",
   "mimetype": "text/x-python",
   "name": "python",
   "nbconvert_exporter": "python",
   "pygments_lexer": "ipython3",
   "version": "3.8.3"
  }
 },
 "nbformat": 4,
 "nbformat_minor": 4
}
