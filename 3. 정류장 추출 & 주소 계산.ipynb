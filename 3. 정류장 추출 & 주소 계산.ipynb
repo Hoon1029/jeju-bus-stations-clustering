{
 "cells": [
  {
   "cell_type": "code",
   "execution_count": 1,
   "metadata": {},
   "outputs": [],
   "source": [
    "from sklearn.cluster import DBSCAN\n",
    "import pandas as pd\n",
    "import numpy as np\n",
    "import matplotlib.pyplot as plt\n",
    "import datetime\n",
    "from tqdm import tqdm"
   ]
  },
  {
   "cell_type": "code",
   "execution_count": 2,
   "metadata": {},
   "outputs": [],
   "source": [
    "geton_station_id = 'geton_station_id'\n",
    "geton_station_name = 'geton_stataion_name'\n",
    "geton_station_longitude = 'geton_station_longitude'\n",
    "geton_station_latitude = 'geton_station_latitude'\n",
    "user_count = 'user_count'\n",
    "tourist = \"tourist\"\n",
    "usage = 'usage' # not excel column, for new DataFrame object"
   ]
  },
  {
   "cell_type": "markdown",
   "metadata": {},
   "source": [
    "#### 1. 파일 경로 설정 def\n",
    "* 해당 날짜에 대한 파일 경로 반환\n"
   ]
  },
  {
   "cell_type": "code",
   "execution_count": 3,
   "metadata": {},
   "outputs": [],
   "source": [
    "def make_path(date):\n",
    "    root_path = \"C:/tb_bus_user_usage\"\n",
    "    base_name = \"tb_bus_user_usage_\"\n",
    "    extender = \".csv\"\n",
    "    \n",
    "    date = str(date)\n",
    "    y = date[2:4]\n",
    "    m = date[5:7]\n",
    "    d = date[8:10]\n",
    "    \n",
    "    file_name = root_path+\"/\"+base_name+y+m+d+extender\n",
    "    return file_name"
   ]
  },
  {
   "cell_type": "markdown",
   "metadata": {},
   "source": [
    "#### 2. 태그 데이터 분석 - def"
   ]
  },
  {
   "cell_type": "code",
   "execution_count": 4,
   "metadata": {},
   "outputs": [],
   "source": [
    "def analyze_usage(df):\n",
    "    df = df[[geton_station_id, user_count]].groupby(geton_station_id).sum()\n",
    "    df.index.name = geton_station_id\n",
    "    df = df.rename(columns={user_count:usage})\n",
    "    return df\n",
    "\n",
    "def combine_result(df_a, df_b):\n",
    "    df_a_ = pd.DataFrame(index = set(df_b.index)-set(df_a.index))\n",
    "    df_b_ = pd.DataFrame(index = set(df_a.index)-set(df_b.index))\n",
    "\n",
    "    df_a_[usage] = 0\n",
    "    df_b_[usage] = 0\n",
    "    \n",
    "    df_a = pd.concat([df_a, df_a_])\n",
    "    df_b = pd.concat([df_b, df_b_])\n",
    "    \n",
    "    return df_a.add(df_b)\n",
    "\n",
    "def analyze_total_usage(start_date, end_date):# scale = [\"station\" | \"user\"]\n",
    "    station_columns = [geton_station_id, geton_station_name, geton_station_latitude, geton_station_longitude]\n",
    "\n",
    "    df = pd.read_csv(make_path(start_date), encoding='cp949')  \n",
    "    \n",
    "    used_station = df[station_columns]\n",
    "    \n",
    "    citizen_user_usage    = pd.DataFrame(analyze_usage(df[df[\"tourist\"] == 0]))\n",
    "    tourist_user_usage    = pd.DataFrame(analyze_usage(df[df[\"tourist\"] == 1]))\n",
    "    \n",
    "    df[\"user_count\"] = 1\n",
    "    citizen_station_usage = pd.DataFrame(analyze_usage(df[df[\"tourist\"] == 0]))\n",
    "    tourist_station_usage = pd.DataFrame(analyze_usage(df[df[\"tourist\"] == 1]))\n",
    "    \n",
    "    for day in tqdm(range((end_date-start_date).days)):\n",
    "        date = start_date + datetime.timedelta(days = day+1)\n",
    "        df = pd.read_csv(make_path(date), encoding='cp949')\n",
    "        \n",
    "        used_station = used_station.append(df[station_columns])\n",
    "        used_station = used_station.drop_duplicates(station_columns)\n",
    "        \n",
    "        citizen_user_usage = combine_result(citizen_user_usage, analyze_usage(df[df[\"tourist\"] == 0]))\n",
    "        tourist_user_usage = combine_result(tourist_user_usage, analyze_usage(df[df[\"tourist\"] == 1]))\n",
    "        \n",
    "        df[\"user_count\"] = 1\n",
    "        citizen_station_usage = combine_result(citizen_station_usage, analyze_usage(df[df[\"tourist\"] == 0]))\n",
    "        tourist_station_usage = combine_result(tourist_station_usage, analyze_usage(df[df[\"tourist\"] == 1]))\n",
    "    \n",
    "    citizen_user_usage = citizen_user_usage.reset_index().rename(columns = {\"index\": geton_station_id, \"usage\": \"citizen_user_usage\"})\n",
    "    tourist_user_usage = tourist_user_usage.reset_index().rename(columns = {\"index\": geton_station_id, \"usage\": \"tourist_user_usage\"})\n",
    "    citizen_station_usage = citizen_station_usage.reset_index().rename(columns = {\"index\": geton_station_id, \"usage\": \"citizen_station_usage\"})\n",
    "    tourist_station_usage = tourist_station_usage.reset_index().rename(columns = {\"index\": geton_station_id, \"usage\": \"tourist_station_usage\"})\n",
    "    \n",
    "    result = used_station\n",
    "    result = pd.merge(result, citizen_user_usage, on=geton_station_id)\n",
    "    result = pd.merge(result, tourist_user_usage, on=geton_station_id)\n",
    "    result[\"total_user_usage\"] = result[\"citizen_user_usage\"] + result[\"tourist_user_usage\"]\n",
    "    \n",
    "    result = pd.merge(result, citizen_station_usage, on=geton_station_id)\n",
    "    result = pd.merge(result, tourist_station_usage, on=geton_station_id)\n",
    "    result[\"total_station_usage\"] = result[\"citizen_station_usage\"] + result[\"tourist_station_usage\"]\n",
    "    \n",
    "    result = result.dropna(axis = 0)\n",
    "    result = result[(result[geton_station_longitude] != \"nan\") & (result[geton_station_latitude] != \"nan\")]\n",
    "    result = result.sort_values(by=geton_station_id, ascending = False)\n",
    "    return result"
   ]
  },
  {
   "cell_type": "code",
   "execution_count": 5,
   "metadata": {},
   "outputs": [],
   "source": [
    "def make_new_path(start_date, end_date):\n",
    "    s_d = str(start_date)\n",
    "    e_d = str(end_date)\n",
    "\n",
    "    s_y, s_m, s_d = s_d[2:4], s_d[5:7], s_d[8:10]\n",
    "    e_y, e_m, e_d = e_d[2:4], e_d[5:7], e_d[8:10]\n",
    "    \n",
    "    return \"station_data_\"+s_y+s_m+s_d+\"_\"+e_y+e_m+e_d+\".csv\""
   ]
  },
  {
   "cell_type": "markdown",
   "metadata": {},
   "source": [
    "#### 3. 주소 컬럼추가 - def"
   ]
  },
  {
   "cell_type": "code",
   "execution_count": 6,
   "metadata": {},
   "outputs": [],
   "source": [
    "import xml.etree.ElementTree as elemTree\n",
    "import requests\n",
    "def get_address(loc_x, loc_y, min_x = 126.531891, min_y = 33.399409, key = \"E20F6493-C13D-3F6F-AC90-D5BB2F239901\"):\n",
    "    loc_x = round(float(loc_x), 7)\n",
    "    loc_y = round(float(loc_y), 7)\n",
    "    url_form = \"http://api.vworld.kr/req/address?service=address&request=getAddress&version=2.0&crs=epsg:4326&point={},{}&format=xml&type=both&zipcode=true&simple=false&key={}\"\n",
    "    url = url_form.format(loc_x, loc_y, key)\n",
    "    response = requests.get(url)\n",
    "    tree = elemTree.fromstring(response.text)\n",
    "    branch = \"\"\n",
    "    try:\n",
    "#     road = tree.find(\"result\").find(\"item[2]\").find(\"text\").text\n",
    "        branch = tree.find(\"result\").find(\"item[1]\").find(\"text\").text\n",
    "    except:\n",
    "        print(loc_x, loc_y)\n",
    "        x_left = str(int(loc_x))\n",
    "        y_left = str(int(loc_y))\n",
    "        \n",
    "        \n",
    "        if min_x < loc_x:\n",
    "            x_right = str((int(loc_x*100000)-2)%100000)\n",
    "        else:\n",
    "            x_right = str((int(loc_x*100000)+2)%100000)\n",
    "            \n",
    "        if min_y < loc_y:\n",
    "            y_right = str((int(loc_y*100000)-2)%100000)\n",
    "        else:\n",
    "            y_right = str((int(loc_y*100000)+2)%100000)\n",
    "            \n",
    "        loc_x = float(x_left+\".\"+x_right)\n",
    "        loc_y = float(y_left+\".\"+y_right)\n",
    "        return get_address(loc_x, loc_y)\n",
    "            \n",
    "    return branch\n",
    "\n",
    "# loc_x = 126.30207\n",
    "# loc_y = 33.2253\n",
    "# print(get_address(loc_x, loc_y))"
   ]
  },
  {
   "cell_type": "code",
   "execution_count": 7,
   "metadata": {},
   "outputs": [],
   "source": [
    "def set_address_column(df):\n",
    "    df = pd.DataFrame.copy(df)\n",
    "    df[\"station_address\"] = \"\"\n",
    "    for i in tqdm(df.index):\n",
    "        df.loc[i, \"station_address\"] = get_address(float(df.loc[i, \"station_x\"]), float(df.loc[i, \"station_y\"]))\n",
    "    return df\n",
    "# usage_df = set_address_column(usage_df)\n",
    "# usage_df"
   ]
  },
  {
   "cell_type": "markdown",
   "metadata": {},
   "source": [
    "#### main"
   ]
  },
  {
   "cell_type": "code",
   "execution_count": 8,
   "metadata": {},
   "outputs": [
    {
     "name": "stderr",
     "output_type": "stream",
     "text": [
      " 82%|███████████████████████████████████████████████████████████████████▎              | 73/89 [00:49<00:10,  1.58it/s]D:\\Users\\Embedded\\Anaconda3\\lib\\site-packages\\IPython\\core\\interactiveshell.py:3263: DtypeWarning: Columns (12) have mixed types.Specify dtype option on import or set low_memory=False.\n",
      "  if (await self.run_code(code, result,  async_=asy)):\n",
      "100%|██████████████████████████████████████████████████████████████████████████████████| 89/89 [00:55<00:00,  1.61it/s]\n",
      "D:\\Users\\Embedded\\Anaconda3\\lib\\site-packages\\pandas\\core\\ops\\array_ops.py:253: FutureWarning: elementwise comparison failed; returning scalar instead, but in the future will perform elementwise comparison\n",
      "  res_values = method(rvalues)\n",
      "  0%|▎                                                                               | 10/3105 [00:01<05:58,  8.64it/s]"
     ]
    },
    {
     "name": "stdout",
     "output_type": "stream",
     "text": [
      "126.29527 33.96109\n",
      "126.29529 33.96107\n"
     ]
    },
    {
     "name": "stderr",
     "output_type": "stream",
     "text": [
      "\r",
      "  0%|▎                                                                               | 11/3105 [00:01<05:46,  8.92it/s]"
     ]
    },
    {
     "name": "stdout",
     "output_type": "stream",
     "text": [
      "126.30382 33.95284\n",
      "126.30384 33.95282\n",
      "126.30386 33.9528\n",
      "126.30388 33.95278\n",
      "126.3039 33.95275\n",
      "126.30392 33.95273\n",
      "126.30394 33.95271\n",
      "126.30396 33.95269\n",
      "126.30398 33.95266\n",
      "126.304 33.95264\n",
      "126.30402 33.95262\n",
      "126.30404 33.9526\n",
      "126.30406 33.95257\n",
      "126.30408 33.95255\n",
      "126.3041 33.95253\n"
     ]
    },
    {
     "name": "stderr",
     "output_type": "stream",
     "text": [
      "\r",
      "  0%|▎                                                                               | 13/3105 [00:02<13:57,  3.69it/s]"
     ]
    },
    {
     "name": "stdout",
     "output_type": "stream",
     "text": [
      "126.30412 33.95251\n",
      "126.30414 33.95248\n"
     ]
    },
    {
     "name": "stderr",
     "output_type": "stream",
     "text": [
      "  1%|▉                                                                               | 35/3105 [00:04<04:18, 11.89it/s]"
     ]
    },
    {
     "name": "stdout",
     "output_type": "stream",
     "text": [
      "126.29452 33.96141\n",
      "126.29454 33.96139\n"
     ]
    },
    {
     "name": "stderr",
     "output_type": "stream",
     "text": [
      "  2%|█▋                                                                              | 67/3105 [00:06<04:15, 11.88it/s]"
     ]
    },
    {
     "name": "stdout",
     "output_type": "stream",
     "text": [
      "126.29979 33.22527\n",
      "126.29981 33.22529\n",
      "126.29983 33.22531\n",
      "126.29985 33.22533\n",
      "126.29987 33.22535\n",
      "126.29989 33.22537\n",
      "126.29991 33.22539\n",
      "126.29993 33.2254\n",
      "126.29995 33.22542\n",
      "126.29997 33.22544\n",
      "126.29999 33.22546\n",
      "126.30001 33.22548\n",
      "126.30003 33.22549\n",
      "126.30005 33.22551\n",
      "126.30007 33.22553\n",
      "126.30009 33.22555\n",
      "126.30011 33.22557\n",
      "126.30013 33.22558\n",
      "126.30015 33.2256\n",
      "126.30017 33.22562\n",
      "126.30019 33.22564\n",
      "126.30021 33.22566\n",
      "126.30023 33.22568\n",
      "126.30025 33.22569\n",
      "126.30027 33.22571\n",
      "126.30029 33.22573\n",
      "126.30031 33.22575\n",
      "126.30033 33.22577\n",
      "126.30035 33.22578\n",
      "126.30037 33.2258\n",
      "126.30039 33.22582\n",
      "126.30041 33.22584\n",
      "126.30043 33.22586\n",
      "126.30045 33.22587\n",
      "126.30047 33.22589\n",
      "126.30049 33.22591\n",
      "126.30051 33.22593\n",
      "126.30053 33.22595\n",
      "126.30055 33.22596\n",
      "126.30057 33.22598\n",
      "126.30059 33.226\n",
      "126.30061 33.22602\n",
      "126.30063 33.22604\n",
      "126.30065 33.22605\n",
      "126.30067 33.22607\n",
      "126.30069 33.22609\n",
      "126.30071 33.22611\n",
      "126.30073 33.22613\n",
      "126.30075 33.22615\n",
      "126.30077 33.22616\n",
      "126.30079 33.22618\n",
      "126.30081 33.2262\n",
      "126.30083 33.22622\n",
      "126.30085 33.22624\n",
      "126.30087 33.22625\n",
      "126.30089 33.22627\n",
      "126.30091 33.22629\n",
      "126.30093 33.22631\n",
      "126.30095 33.22633\n",
      "126.30097 33.22634\n",
      "126.30099 33.22636\n",
      "126.30101 33.22638\n",
      "126.30103 33.2264\n",
      "126.30105 33.22642\n",
      "126.30107 33.22643\n",
      "126.30109 33.22645\n",
      "126.30111 33.22647\n",
      "126.30113 33.22649\n",
      "126.30115 33.22651\n",
      "126.30117 33.22652\n",
      "126.30119 33.22654\n",
      "126.30121 33.22656\n",
      "126.30123 33.22658\n",
      "126.30125 33.2266\n",
      "126.30127 33.22662\n",
      "126.30129 33.22663\n",
      "126.30131 33.22665\n",
      "126.30133 33.22667\n",
      "126.30135 33.22669\n",
      "126.30137 33.22671\n",
      "126.30139 33.22672\n",
      "126.30141 33.22674\n",
      "126.30143 33.22676\n",
      "126.30145 33.22678\n",
      "126.30147 33.2268\n",
      "126.30149 33.22681\n",
      "126.30151 33.22683\n",
      "126.30153 33.22685\n",
      "126.30155 33.22687\n",
      "126.30157 33.22689\n",
      "126.30159 33.2269\n",
      "126.30161 33.22692\n",
      "126.30163 33.22694\n",
      "126.30165 33.22696\n",
      "126.30167 33.22698\n",
      "126.30169 33.22699\n",
      "126.30171 33.22701\n",
      "126.30173 33.22703\n",
      "126.30175 33.22705\n",
      "126.30177 33.22707\n",
      "126.30179 33.22708\n",
      "126.30181 33.2271\n"
     ]
    },
    {
     "name": "stderr",
     "output_type": "stream",
     "text": [
      " 11%|█████████                                                                      | 357/3105 [00:37<03:52, 11.80it/s]"
     ]
    },
    {
     "name": "stdout",
     "output_type": "stream",
     "text": [
      "126.61122 33.26048\n",
      "126.6112 33.2605\n",
      "126.61118 33.26052\n",
      "126.61116 33.26054\n"
     ]
    },
    {
     "name": "stderr",
     "output_type": "stream",
     "text": [
      "\r",
      " 12%|█████████▏                                                                     | 359/3105 [00:37<06:16,  7.29it/s]"
     ]
    },
    {
     "name": "stdout",
     "output_type": "stream",
     "text": [
      "126.61114 33.26056\n"
     ]
    },
    {
     "name": "stderr",
     "output_type": "stream",
     "text": [
      " 32%|█████████████████████████▎                                                     | 997/3105 [01:26<02:33, 13.75it/s]"
     ]
    },
    {
     "name": "stdout",
     "output_type": "stream",
     "text": [
      "126.78144 33.30731\n",
      "126.78142 33.30733\n",
      "126.7814 33.30735\n"
     ]
    },
    {
     "name": "stderr",
     "output_type": "stream",
     "text": [
      " 35%|███████████████████████████▌                                                  | 1099/3105 [01:35<02:55, 11.46it/s]"
     ]
    },
    {
     "name": "stdout",
     "output_type": "stream",
     "text": [
      "126.23817 33.23178\n"
     ]
    },
    {
     "name": "stderr",
     "output_type": "stream",
     "text": [
      " 44%|██████████████████████████████████▏                                           | 1361/3105 [01:55<02:17, 12.72it/s]"
     ]
    },
    {
     "name": "stdout",
     "output_type": "stream",
     "text": [
      "126.61324 33.2642\n"
     ]
    },
    {
     "name": "stderr",
     "output_type": "stream",
     "text": [
      " 51%|███████████████████████████████████████▉                                      | 1589/3105 [02:12<02:07, 11.85it/s]"
     ]
    },
    {
     "name": "stdout",
     "output_type": "stream",
     "text": [
      "126.59505 33.25965\n"
     ]
    },
    {
     "name": "stderr",
     "output_type": "stream",
     "text": [
      " 52%|████████████████████████████████████████▎                                     | 1605/3105 [02:13<02:04, 12.05it/s]"
     ]
    },
    {
     "name": "stdout",
     "output_type": "stream",
     "text": [
      "126.59404 33.24436\n"
     ]
    },
    {
     "name": "stderr",
     "output_type": "stream",
     "text": [
      " 88%|████████████████████████████████████████████████████████████████████▍         | 2723/3105 [03:42<00:28, 13.34it/s]"
     ]
    },
    {
     "name": "stdout",
     "output_type": "stream",
     "text": [
      "126.49945 33.51938\n",
      "126.49947 33.51936\n",
      "126.49949 33.51934\n",
      "126.49951 33.51932\n",
      "126.49953 33.5193\n",
      "126.49955 33.51928\n",
      "126.49957 33.51926\n",
      "126.49959 33.51924\n",
      "126.49961 33.51922\n",
      "126.49963 33.51919\n",
      "126.49965 33.51917\n",
      "126.49967 33.51915\n",
      "126.49969 33.51913\n",
      "126.49971 33.5191\n",
      "126.49973 33.51908\n",
      "126.49975 33.51906\n",
      "126.49977 33.51904\n",
      "126.49979 33.51901\n",
      "126.49981 33.51899\n",
      "126.49983 33.51897\n",
      "126.49985 33.51895\n",
      "126.49987 33.51892\n",
      "126.49989 33.5189\n",
      "126.49991 33.51888\n",
      "126.49993 33.51886\n",
      "126.49995 33.51883\n",
      "126.49997 33.51881\n",
      "126.49999 33.51879\n",
      "126.50001 33.51877\n",
      "126.50003 33.51875\n",
      "126.50005 33.51872\n",
      "126.50007 33.5187\n",
      "126.50009 33.51868\n",
      "126.50011 33.51866\n"
     ]
    },
    {
     "name": "stderr",
     "output_type": "stream",
     "text": [
      "100%|██████████████████████████████████████████████████████████████████████████████| 3105/3105 [04:12<00:00, 12.28it/s]\n"
     ]
    }
   ],
   "source": [
    "### setting clasification period(start, end)\n",
    "start_date = datetime.datetime(2019, 6, 1)\n",
    "end_date = datetime.datetime(2019, 8, 29)\n",
    "\n",
    "\n",
    "### accumulating\n",
    "usage_df = analyze_total_usage(start_date, end_date)\n",
    "\n",
    "\n",
    "### calculate mean of usage\n",
    "# period = int((end_date-start_date).days)+1\n",
    "# usage_df[usage] = usage_df[usage].apply(lambda x : int(x/period))\n",
    "\n",
    "\n",
    "### new naming\n",
    "usage_df = usage_df.rename(columns = {geton_station_id :'station_id',\n",
    "                          geton_station_name: \"station_name\", \n",
    "                          geton_station_latitude:\"station_y\",\n",
    "                          geton_station_longitude:\"station_x\",})\n",
    "\n",
    "### setting address column\n",
    "usage_df = set_address_column(usage_df)\n",
    "\n",
    "\n",
    "### sorting\n",
    "usage_df = usage_df.sort_values(by=\"station_id\")\n",
    "\n",
    "\n",
    "### storing\n",
    "usage_df.to_csv(make_new_path(start_date, end_date), encoding=\"CP949\", index=False)"
   ]
  },
  {
   "cell_type": "code",
   "execution_count": null,
   "metadata": {},
   "outputs": [],
   "source": []
  }
 ],
 "metadata": {
  "kernelspec": {
   "display_name": "Python 3",
   "language": "python",
   "name": "python3"
  },
  "language_info": {
   "codemirror_mode": {
    "name": "ipython",
    "version": 3
   },
   "file_extension": ".py",
   "mimetype": "text/x-python",
   "name": "python",
   "nbconvert_exporter": "python",
   "pygments_lexer": "ipython3",
   "version": "3.8.3"
  }
 },
 "nbformat": 4,
 "nbformat_minor": 4
}
