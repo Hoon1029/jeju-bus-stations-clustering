{
 "cells": [
  {
   "cell_type": "code",
   "execution_count": 1,
   "metadata": {},
   "outputs": [],
   "source": [
    "from sklearn.cluster import DBSCAN\n",
    "import pandas as pd\n",
    "import numpy as np\n",
    "import matplotlib.pyplot as plt\n",
    "import datetime\n",
    "from tqdm import tqdm"
   ]
  },
  {
   "cell_type": "code",
   "execution_count": 2,
   "metadata": {},
   "outputs": [],
   "source": [
    "# 컬럼 상수\n",
    "user_id = 'user_id'\n",
    "base_date = 'base_date'\n",
    "route_id = 'route_id'\n",
    "route_name = 'route_name'\n",
    "route_no = 'route_no'\n",
    "geton_datetime = 'geton_datetime'\n",
    "geton_station_id = 'geton_station_id'\n",
    "geton_station_name = 'geton_stataion_name'\n",
    "geton_station_longitude = 'geton_station_longitude'\n",
    "geton_station_latitude = 'geton_station_latitude'\n",
    "getoff_datetime = 'getoff_datetime'\n",
    "getoff_station_id = 'getoff_station_id'\n",
    "getoff_station_name = 'getoff_station_name'\n",
    "getoff_station_longitude = 'getoff_station_longitude'\n",
    "getoff_station_latitude = 'getoff_station_latitude'\n",
    "user_type = 'user_type'\n",
    "user_count = 'user_count'\n",
    "input_date = 'input_date'\n",
    "usage = 'usage' # not excel column, for new DataFrame object\n",
    "key = 'key'"
   ]
  },
  {
   "cell_type": "code",
   "execution_count": 3,
   "metadata": {},
   "outputs": [],
   "source": [
    "def make_path(date):\n",
    "    root_path = \"C:/tb_bus_user_usage\"\n",
    "    base_name = \"tb_bus_user_usage_\"\n",
    "    extender = \".csv\"\n",
    "    \n",
    "    date = str(date)\n",
    "    y = date[2:4]\n",
    "    m = date[5:7]\n",
    "    d = date[8:10]\n",
    "    \n",
    "    file_name = root_path+\"/\"+base_name+y+m+d+extender\n",
    "    return file_name"
   ]
  },
  {
   "cell_type": "code",
   "execution_count": 4,
   "metadata": {},
   "outputs": [],
   "source": [
    "def analyze_how_many_is_station_used(file_path):\n",
    "    df = pd.read_csv(file_path, encoding='utf-8')\n",
    "\n",
    "    df[geton_station_name] = df[geton_station_name].apply(lambda x : str(x))\n",
    "    df[geton_station_longitude] = df[geton_station_longitude].apply(lambda x : str(x))\n",
    "    df[geton_station_latitude] = df[geton_station_latitude].apply(lambda x : str(x))\n",
    "    df[key] = df[geton_station_name]+\"@\"+df[geton_station_longitude]+\"@\"+df[geton_station_latitude]\n",
    "\n",
    "    df = pd.DataFrame(df[key].value_counts())\n",
    "    df.index.name = key\n",
    "    df = df.rename(columns={key:usage})\n",
    "    return df\n",
    "\n",
    "def analyze_how_many_did_user_use_station(file_path):\n",
    "    df = pd.read_csv(file_path, encoding='utf-8')\n",
    "    \n",
    "    df[geton_station_name] = df[geton_station_name].apply(lambda x : str(x))\n",
    "    df[geton_station_longitude] = df[geton_station_longitude].apply(lambda x : str(x))\n",
    "    df[geton_station_latitude] = df[geton_station_latitude].apply(lambda x : str(x))\n",
    "    df[key] = df[geton_station_name]+\"@\"+df[geton_station_longitude]+\"@\"+df[geton_station_latitude]\n",
    "    \n",
    "    df = df[[key, user_count]].groupby(key).sum()\n",
    "    df.index.name = key\n",
    "    df = df.rename(columns={user_count:usage})\n",
    "    return df"
   ]
  },
  {
   "cell_type": "code",
   "execution_count": 5,
   "metadata": {},
   "outputs": [],
   "source": [
    "def combine_result(df_a, df_b):\n",
    "    df_a_ = pd.DataFrame(index = set(df_b.index)-set(df_a.index))\n",
    "    df_b_ = pd.DataFrame(index = set(df_a.index)-set(df_b.index))\n",
    "\n",
    "    df_a_[usage] = 0\n",
    "    df_b_[usage] = 0\n",
    "    \n",
    "    df_a = pd.concat([df_a, df_a_])\n",
    "    df_b = pd.concat([df_b, df_b_])\n",
    "    \n",
    "    return df_a.add(df_b)"
   ]
  },
  {
   "cell_type": "code",
   "execution_count": 54,
   "metadata": {},
   "outputs": [],
   "source": [
    "def analyze_all(start_date, end_date, scale = \"station\"):# scale = [\"station\" | \"user\"]\n",
    "    if(scale == \"station\"):# select analyze function and scale column\n",
    "        scale = geton_station_name\n",
    "        analyze_func = analyze_how_many_is_station_used\n",
    "    elif(scale == \"user\"):\n",
    "        scale = user_count\n",
    "        analyze_func = analyze_how_many_did_user_use_station\n",
    "        \n",
    "    file_path = make_path(start_date)\n",
    "    result = pd.DataFrame(analyze_func(file_path))\n",
    "\n",
    "    for day in tqdm(range((end_date-start_date).days)):\n",
    "        date = start_date + datetime.timedelta(days = day+1)\n",
    "        file_path = make_path(date)\n",
    "        result = combine_result(result, analyze_func(file_path))\n",
    "    \n",
    "    \n",
    "    \n",
    "    columns = [geton_station_name, geton_station_longitude, geton_station_latitude]\n",
    "    result = result.reset_index().rename(columns = {\"index\":key})\n",
    "    \n",
    "    for i, column in enumerate(columns):\n",
    "        result[column] = result[key].apply(lambda x : str(x).split(\"@\")[i])\n",
    "    \n",
    "    columns.append(usage)\n",
    "    result = result[columns]\n",
    "    result = result.dropna(axis = 0)\n",
    "    result = result[(result[geton_station_longitude] != \"nan\") & (result[geton_station_latitude] != \"nan\")]\n",
    "    result = result.sort_values(by=usage, ascending = False)\n",
    "    return result"
   ]
  },
  {
   "cell_type": "code",
   "execution_count": 55,
   "metadata": {},
   "outputs": [
    {
     "name": "stderr",
     "output_type": "stream",
     "text": [
      "100%|██████████████████████████████████████████████████████████████████████████████████| 89/89 [01:01<00:00,  1.45it/s]\n"
     ]
    }
   ],
   "source": [
    "def make_new_path(start_date, end_date):\n",
    "    s_d = str(start_date)\n",
    "    e_d = str(end_date)\n",
    "\n",
    "    s_y, s_m, s_d = s_d[2:4], s_d[5:7], s_d[8:10]\n",
    "    e_y, e_m, e_d = e_d[2:4], e_d[5:7], e_d[8:10]\n",
    "    \n",
    "    return \"station_total_usage_\"+s_y+s_m+s_d+\"_\"+e_y+e_m+e_d+\".csv\"\n",
    "    \n",
    "start_date = datetime.datetime(2019, 6, 1)\n",
    "end_date = datetime.datetime(2019, 8, 29)\n",
    "period = int((end_date-start_date).days)+1\n",
    "\n",
    "usage_df = analyze_all(start_date, end_date, scale = \"user\")\n",
    "# usage_df[usage] = usage_df[usage].apply(lambda x : int(x/period))\n",
    "usage_df = usage_df.rename(columns = {geton_station_name: \"STATION_NM\", \n",
    "                          geton_station_latitude:\"LOCAL_Y\",\n",
    "                          geton_station_longitude:\"LOCAL_X\",\n",
    "                          usage:\"USAGE\"})\n",
    "usage_df.to_csv(make_new_path(start_date, end_date), encoding=\"CP949\", index=False)"
   ]
  },
  {
   "cell_type": "code",
   "execution_count": 41,
   "metadata": {},
   "outputs": [
    {
     "name": "stdout",
     "output_type": "stream",
     "text": [
      "       geton_stataion_name  geton_station_latitude  geton_station_longitude\n",
      "0                   납읍리사무소                33.43944                126.32944\n",
      "1                   납읍리사무소                33.43944                126.32944\n",
      "2             한림환승정류장(한림리)                33.41453                126.26427\n",
      "3                      학원동                33.47493                126.39766\n",
      "4                     연대마을                33.49282                126.42858\n",
      "...                    ...                     ...                      ...\n",
      "130975                 봉개동                33.49154                126.59275\n",
      "130976                 봉개동                33.49154                126.59275\n",
      "130977                 큰동네                33.48923                126.59697\n",
      "130978        제주교통방송아라아이파크                33.47783                126.54931\n",
      "130979        제주교통방송아라아이파크                33.47783                126.54931\n",
      "\n",
      "[130980 rows x 3 columns]\n",
      "       geton_stataion_name  geton_station_latitude  geton_station_longitude\n",
      "0                   납읍리사무소                33.43944                126.32944\n",
      "1                   납읍리사무소                33.43944                126.32944\n",
      "2             한림환승정류장(한림리)                33.41453                126.26427\n",
      "3                      학원동                33.47493                126.39766\n",
      "4                     연대마을                33.49282                126.42858\n",
      "...                    ...                     ...                      ...\n",
      "130975                 봉개동                33.49154                126.59275\n",
      "130976                 봉개동                33.49154                126.59275\n",
      "130977                 큰동네                33.48923                126.59697\n",
      "130978        제주교통방송아라아이파크                33.47783                126.54931\n",
      "130979        제주교통방송아라아이파크                33.47783                126.54931\n",
      "\n",
      "[130977 rows x 3 columns]\n"
     ]
    }
   ],
   "source": [
    "a = make_path(datetime.datetime(2019, 6, 1))\n",
    "df = pd.read_csv(a, encoding='utf-8')\n",
    "df = df[[geton_station_name, geton_station_latitude, geton_station_longitude]]\n",
    "print(df)\n",
    "print(df.dropna(axis = 0))"
   ]
  }
 ],
 "metadata": {
  "kernelspec": {
   "display_name": "Python 3",
   "language": "python",
   "name": "python3"
  },
  "language_info": {
   "codemirror_mode": {
    "name": "ipython",
    "version": 3
   },
   "file_extension": ".py",
   "mimetype": "text/x-python",
   "name": "python",
   "nbconvert_exporter": "python",
   "pygments_lexer": "ipython3",
   "version": "3.8.3"
  }
 },
 "nbformat": 4,
 "nbformat_minor": 4
}
