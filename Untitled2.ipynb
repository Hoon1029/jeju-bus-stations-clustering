{
 "cells": [
  {
   "cell_type": "code",
   "execution_count": 1,
   "metadata": {},
   "outputs": [],
   "source": [
    "from sklearn.cluster import DBSCAN\n",
    "import pandas as pd\n",
    "import numpy as np\n",
    "import matplotlib.pyplot as plt\n",
    "import datetime\n",
    "from tqdm import tqdm\n",
    "\n",
    "\n",
    "import bus\n",
    "\n",
    "geton_station_name = 'geton_stataion_name'"
   ]
  },
  {
   "cell_type": "code",
   "execution_count": 4,
   "metadata": {},
   "outputs": [
    {
     "name": "stderr",
     "output_type": "stream",
     "text": [
      "100%|██████████████████████████████████████████████████████████████████████████████████| 90/90 [02:54<00:00,  1.94s/it]\n"
     ]
    }
   ],
   "source": [
    "start_date = datetime.datetime(2019, 6, 1)\n",
    "end_date = datetime.datetime(2019, 8, 29)\n",
    "\n",
    "input_path_list = bus.make_input_path(start_date, end_date)\n",
    "\n",
    "for file_path in tqdm(input_path_list):\n",
    "    d = pd.read_csv(file_path, low_memory=False, encoding = \"cp949\")\n",
    "    c = list(d.columns)\n",
    "    c.remove(\"tourist\")\n",
    "    d = d[c]\n",
    "    d.to_csv(file_path, encoding=\"cp949\", index=False)"
   ]
  }
 ],
 "metadata": {
  "kernelspec": {
   "display_name": "Python 3",
   "language": "python",
   "name": "python3"
  },
  "language_info": {
   "codemirror_mode": {
    "name": "ipython",
    "version": 3
   },
   "file_extension": ".py",
   "mimetype": "text/x-python",
   "name": "python",
   "nbconvert_exporter": "python",
   "pygments_lexer": "ipython3",
   "version": "3.8.3"
  }
 },
 "nbformat": 4,
 "nbformat_minor": 4
}
