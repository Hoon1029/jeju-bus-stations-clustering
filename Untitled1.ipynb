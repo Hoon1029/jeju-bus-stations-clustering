{
 "cells": [
  {
   "cell_type": "code",
   "execution_count": 1,
   "metadata": {},
   "outputs": [
    {
     "data": {
      "text/plain": [
       "Text(0, 0.5, '군집')"
      ]
     },
     "execution_count": 1,
     "metadata": {},
     "output_type": "execute_result"
    },
    {
     "data": {
      "image/png": "[encoded data removed]",
      "text/plain": [
       "<Figure size 432x288 with 1 Axes>"
      ]
     },
     "metadata": {
      "needs_background": "light"
     },
     "output_type": "display_data"
    }
   ],
   "source": [
    "from matplotlib import pyplot as plt\n",
    "from matplotlib import font_manager, rc\n",
    "import random\n",
    "\n",
    "rc('font', family='HCR Dotum')\n",
    "a = []\n",
    "for i in range(5):\n",
    "    a.append(random.random()+4)\n",
    "for i in range(5):\n",
    "    a.append(random.random()+3)\n",
    "for i in range(10):\n",
    "    a.append(random.random()+2)\n",
    "for i in range(10):\n",
    "    a.append(random.random()+1)\n",
    "for i in range(20):\n",
    "    a.append(random.random())\n",
    "a.sort()\n",
    "a.reverse()\n",
    "\n",
    "plt.bar(range(len(a)), a, )\n",
    "plt.xlabel(\"체류시간(h)\")\n",
    "plt.ylabel(\"군집\")"
   ]
  }
 ],
 "metadata": {
  "kernelspec": {
   "display_name": "Python 3",
   "language": "python",
   "name": "python3"
  },
  "language_info": {
   "codemirror_mode": {
    "name": "ipython",
    "version": 3
   },
   "file_extension": ".py",
   "mimetype": "text/x-python",
   "name": "python",
   "nbconvert_exporter": "python",
   "pygments_lexer": "ipython3",
   "version": "3.8.3"
  }
 },
 "nbformat": 4,
 "nbformat_minor": 4
}
