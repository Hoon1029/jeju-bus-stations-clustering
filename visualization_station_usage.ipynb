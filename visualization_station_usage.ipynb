{
 "cells": [
  {
   "cell_type": "code",
   "execution_count": 36,
   "metadata": {},
   "outputs": [],
   "source": [
    "from sklearn.cluster import DBSCAN\n",
    "import pandas as pd\n",
    "import numpy as np\n",
    "import matplotlib.pyplot as plt\n",
    "import datetime\n",
    "from tqdm import tqdm\n",
    "import folium"
   ]
  },
  {
   "cell_type": "code",
   "execution_count": 78,
   "metadata": {},
   "outputs": [],
   "source": [
    "STATION_ID = 'STATION_ID'\n",
    "STATION_NM = 'STATION_NM'\n",
    "CENTER_YN = 'CENTER_YN'\n",
    "LOCAL_X = 'LOCAL_X'\n",
    "LOCAL_Y = 'LOCAL_Y'\n",
    "USE_YN = 'USE_YN'\n",
    "STATION_ADDR = 'STATION_ADDR'\n",
    "\n",
    "USAGE = \"USAGE\""
   ]
  },
  {
   "cell_type": "code",
   "execution_count": 111,
   "metadata": {},
   "outputs": [
    {
     "name": "stdout",
     "output_type": "stream",
     "text": [
      "                                                STATION_NM     LOCAL_X  \\\n",
      "key                                                                      \n",
      "제주시청(광양방면)@126.53035@33.49892                  제주시청(광양방면)@  126.53035@   \n",
      "제주시청(아라방면)@126.52977@33.499559999999995        제주시청(아라방면)@  126.52977@   \n",
      "제주시외버스터미널@126.51479@33.49946                    제주시외버스터미널@  126.51479@   \n",
      "제주대학교@126.56166@33.46011                            제주대학교@  126.56166@   \n",
      "제주국제공항(구제주방면)@126.49345@33.506609999999995  제주국제공항(구제주방면)@  126.49345@   \n",
      "...                                                    ...         ...   \n",
      "고산2리@126.18919@33.30205                              고산2리@  126.18919@   \n",
      "함덕5구@126.67593@33.533640000000005                    함덕5구@  126.67593@   \n",
      "한장동@126.16748@33.28788                                한장동@  126.16748@   \n",
      "서귀포천문과학문화관@126.45721@33.28802                  서귀포천문과학문화관@  126.45721@   \n",
      "산수동@126.1977@33.303090000000005                       산수동@   126.1977@   \n",
      "\n",
      "                                                       LOCAL_Y   USAGE  \n",
      "key                                                                     \n",
      "제주시청(광양방면)@126.53035@33.49892                         33.49892  247444  \n",
      "제주시청(아라방면)@126.52977@33.499559999999995     33.499559999999995  198512  \n",
      "제주시외버스터미널@126.51479@33.49946                          33.49946  177016  \n",
      "제주대학교@126.56166@33.46011                              33.46011  156235  \n",
      "제주국제공항(구제주방면)@126.49345@33.506609999999995  33.506609999999995  146390  \n",
      "...                                                        ...     ...  \n",
      "고산2리@126.18919@33.30205                               33.30205       1  \n",
      "함덕5구@126.67593@33.533640000000005           33.533640000000005       1  \n",
      "한장동@126.16748@33.28788                                33.28788       1  \n",
      "서귀포천문과학문화관@126.45721@33.28802                         33.28802       1  \n",
      "산수동@126.1977@33.303090000000005             33.303090000000005       1  \n",
      "\n",
      "[3622 rows x 4 columns]\n"
     ]
    }
   ],
   "source": [
    "# df = pd.read_csv(\"station_final.csv\", encoding=\"CP949\")\n",
    "def visualization_station_usage(usage_df, city_df):\n",
    "    usage_df[\"STATION_NM\"] = usage_df[\"STATION_NM\"].apply(lambda x : str(x)+\"@\")\n",
    "    usage_df[\"LOCAL_X\"] = usage_df[\"LOCAL_X\"].apply(lambda x : str(x)+\"@\")\n",
    "    usage_df[\"LOCAL_Y\"] = usage_df[\"LOCAL_Y\"].apply(lambda x : str(x))\n",
    "    usage_df[\"key\"] = usage_df[\"STATION_NM\"]+usage_df[\"LOCAL_X\"]+usage_df[\"LOCAL_Y\"]\n",
    "    usage_df = usage_df.set_index(\"key\")\n",
    "    print(usage_df)\n",
    "    \n",
    "    center_lati = df[LOCAL_Y].mean()\n",
    "    center_longi = df[LOCAL_X].mean()\n",
    "    m = folium.Map([center_lati,center_longi],zoom_start=11)\n",
    "    for i, low in df.iterrows():\n",
    "        if low[USAGE] < 1000:\n",
    "            continue\n",
    "        lati = float(low[LOCAL_Y])\n",
    "        longi = float(low[LOCAL_X])\n",
    "        title = str(low[STATION_NM])\n",
    "        color = 'green'\n",
    "        folium.CircleMarker([lati, longi],color=color,radius = 3, fill = True, fill_opacity = 0.3, opacity = 0).add_to(m)\n",
    "    # folium.CircleMarker([center_lati, center_longi],color=\"red\",radius = 10).add_to(m)\n",
    "    m.save('example.html')\n",
    "    m\n",
    "\n",
    "usage_df = pd.read_csv(\"station_total_usage_190601_190829.csv\", encoding=\"CP949\")\n",
    "jeju_df = pd.read_csv(\"jeju_city_clustered.csv\", encoding=\"CP949\")\n",
    "seogwipo_df = pd.read_csv(\"jeju_city_clustered.csv\", encoding=\"CP949\")\n",
    "visualization_station_usage(usage_df, jeju_df)"
   ]
  },
  {
   "cell_type": "code",
   "execution_count": null,
   "metadata": {},
   "outputs": [],
   "source": []
  }
 ],
 "metadata": {
  "kernelspec": {
   "display_name": "Python 3",
   "language": "python",
   "name": "python3"
  },
  "language_info": {
   "codemirror_mode": {
    "name": "ipython",
    "version": 3
   },
   "file_extension": ".py",
   "mimetype": "text/x-python",
   "name": "python",
   "nbconvert_exporter": "python",
   "pygments_lexer": "ipython3",
   "version": "3.8.3"
  }
 },
 "nbformat": 4,
 "nbformat_minor": 4
}
