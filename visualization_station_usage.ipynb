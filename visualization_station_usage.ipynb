{
 "cells": [
  {
   "cell_type": "code",
   "execution_count": 36,
   "metadata": {},
   "outputs": [],
   "source": [
    "from sklearn.cluster import DBSCAN\n",
    "import pandas as pd\n",
    "import numpy as np\n",
    "import matplotlib.pyplot as plt\n",
    "import datetime\n",
    "from tqdm import tqdm\n",
    "import folium"
   ]
  },
  {
   "cell_type": "code",
   "execution_count": 78,
   "metadata": {},
   "outputs": [],
   "source": [
    "STATION_ID = 'STATION_ID'\n",
    "STATION_NM = 'STATION_NM'\n",
    "CENTER_YN = 'CENTER_YN'\n",
    "LOCAL_X = 'LOCAL_X'\n",
    "LOCAL_Y = 'LOCAL_Y'\n",
    "USE_YN = 'USE_YN'\n",
    "STATION_ADDR = 'STATION_ADDR'\n",
    "\n",
    "USAGE = \"USAGE\""
   ]
  },
  {
   "cell_type": "code",
   "execution_count": 103,
   "metadata": {},
   "outputs": [],
   "source": [
    "# df = pd.read_csv(\"station_final.csv\", encoding=\"CP949\")\n",
    "def visualization_station_usage(df):\n",
    "    center_lati = df[LOCAL_Y].mean()\n",
    "    center_longi = df[LOCAL_X].mean()\n",
    "    m = folium.Map([center_lati,center_longi],zoom_start=11)\n",
    "    for i, low in df.iterrows():\n",
    "        if low[USAGE] < 1000:\n",
    "            continue\n",
    "        lati = float(low[LOCAL_Y])\n",
    "        longi = float(low[LOCAL_X])\n",
    "        title = str(low[STATION_NM])\n",
    "        color = 'green'\n",
    "        folium.CircleMarker([lati, longi],color=color,radius = 3, fill = True, fill_opacity = 0.3, opacity = 0).add_to(m)\n",
    "    # folium.CircleMarker([center_lati, center_longi],color=\"red\",radius = 10).add_to(m)\n",
    "    m.save('example.html')\n",
    "    m\n",
    "\n",
    "df = pd.read_csv(\"station_total_usage_190601_190829.csv\", encoding=\"CP949\")\n",
    "jeju = pd.read_csv(\"jeju_city_clustered.csv\", encoding=\"CP949\")\n",
    "seogwipo = pd.read_csv(\"jeju_city_clustered.csv\", encoding=\"CP949\")"
   ]
  },
  {
   "cell_type": "code",
   "execution_count": null,
   "metadata": {},
   "outputs": [],
   "source": []
  }
 ],
 "metadata": {
  "kernelspec": {
   "display_name": "Python 3",
   "language": "python",
   "name": "python3"
  },
  "language_info": {
   "codemirror_mode": {
    "name": "ipython",
    "version": 3
   },
   "file_extension": ".py",
   "mimetype": "text/x-python",
   "name": "python",
   "nbconvert_exporter": "python",
   "pygments_lexer": "ipython3",
   "version": "3.8.3"
  }
 },
 "nbformat": 4,
 "nbformat_minor": 4
}
