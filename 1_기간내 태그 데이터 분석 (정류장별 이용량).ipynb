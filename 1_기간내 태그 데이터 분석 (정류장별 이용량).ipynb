{
 "cells": [
  {
   "cell_type": "code",
   "execution_count": 62,
   "metadata": {},
   "outputs": [],
   "source": [
    "from sklearn.cluster import DBSCAN\n",
    "import pandas as pd\n",
    "import numpy as np\n",
    "import matplotlib.pyplot as plt\n",
    "import datetime\n",
    "from tqdm import tqdm"
   ]
  },
  {
   "cell_type": "code",
   "execution_count": 141,
   "metadata": {},
   "outputs": [],
   "source": [
    "geton_station_id = 'geton_station_id'\n",
    "geton_station_name = 'geton_stataion_name'\n",
    "geton_station_longitude = 'geton_station_longitude'\n",
    "geton_station_latitude = 'geton_station_latitude'\n",
    "user_count = 'user_count'\n",
    "\n",
    "usage = 'usage' # not excel column, for new DataFrame object"
   ]
  },
  {
   "cell_type": "markdown",
   "metadata": {},
   "source": [
    "#### 1. 입력 기간 사이에 테그 데이터 누계"
   ]
  },
  {
   "cell_type": "code",
   "execution_count": 64,
   "metadata": {},
   "outputs": [],
   "source": [
    "def make_path(date):\n",
    "    root_path = \"C:/tb_bus_user_usage\"\n",
    "    base_name = \"tb_bus_user_usage_\"\n",
    "    extender = \".csv\"\n",
    "    \n",
    "    date = str(date)\n",
    "    y = date[2:4]\n",
    "    m = date[5:7]\n",
    "    d = date[8:10]\n",
    "    \n",
    "    file_name = root_path+\"/\"+base_name+y+m+d+extender\n",
    "    return file_name"
   ]
  },
  {
   "cell_type": "code",
   "execution_count": 95,
   "metadata": {},
   "outputs": [],
   "source": [
    "def analyze_how_many_is_station_used(df):\n",
    "    df = pd.DataFrame(df[geton_station_id].value_counts())\n",
    "    df.index.name = geton_station_id\n",
    "    df = df.rename(columns={geton_station_id:usage})\n",
    "    return df\n",
    "\n",
    "def analyze_how_many_did_user_use_station(df):\n",
    "    df = df[[geton_station_id, user_count]].groupby(geton_station_id).sum()\n",
    "    df.index.name = geton_station_id\n",
    "    df = df.rename(columns={user_count:usage})\n",
    "    return df"
   ]
  },
  {
   "cell_type": "code",
   "execution_count": 66,
   "metadata": {},
   "outputs": [],
   "source": [
    "def combine_result(df_a, df_b):\n",
    "    df_a_ = pd.DataFrame(index = set(df_b.index)-set(df_a.index))\n",
    "    df_b_ = pd.DataFrame(index = set(df_a.index)-set(df_b.index))\n",
    "\n",
    "    df_a_[usage] = 0\n",
    "    df_b_[usage] = 0\n",
    "    \n",
    "    df_a = pd.concat([df_a, df_a_])\n",
    "    df_b = pd.concat([df_b, df_b_])\n",
    "    \n",
    "    return df_a.add(df_b)"
   ]
  },
  {
   "cell_type": "code",
   "execution_count": 150,
   "metadata": {},
   "outputs": [],
   "source": [
    "######################\n",
    "def analyze_total_usage(start_date, end_date, scale = \"station\"):# scale = [\"station\" | \"user\"]\n",
    "    if(scale == \"station\"):# select analyze function and scale column\n",
    "        scale = geton_station_name\n",
    "        analyze_func = analyze_how_many_is_station_used\n",
    "    elif(scale == \"user\"):\n",
    "        scale = user_count\n",
    "        analyze_func = analyze_how_many_did_user_use_station\n",
    "\n",
    "    extraction_columns = [geton_station_id, geton_station_name, geton_station_latitude, geton_station_longitude]\n",
    "        \n",
    "    df = pd.read_csv(make_path(start_date), encoding='utf-8')\n",
    "    used_station = df[extraction_columns]\n",
    "    station_usage = pd.DataFrame(analyze_func(df))\n",
    "\n",
    "    for day in tqdm(range((end_date-start_date).days)):\n",
    "        date = start_date + datetime.timedelta(days = day+1)\n",
    "        df = pd.read_csv(make_path(date), encoding='utf-8')\n",
    "        station_usage = combine_result(station_usage, analyze_func(df))\n",
    "        used_station = used_station.append(df[extraction_columns])\n",
    "        used_station = used_station.drop_duplicates(used_station.columns)\n",
    "    station_usage = station_usage.reset_index().rename(columns = {\"index\": geton_station_id})\n",
    "    result = pd.merge(used_station, station_usage, on=geton_station_id)\n",
    "    print(result)\n",
    "    result = result.dropna(axis = 0)\n",
    "    result = result[(result[geton_station_longitude] != \"nan\") & (result[geton_station_latitude] != \"nan\")]\n",
    "    result = result.sort_values(by=usage, ascending = False)\n",
    "    return result"
   ]
  },
  {
   "cell_type": "code",
   "execution_count": 68,
   "metadata": {},
   "outputs": [],
   "source": [
    "def make_new_path(start_date, end_date):\n",
    "    s_d = str(start_date)\n",
    "    e_d = str(end_date)\n",
    "\n",
    "    s_y, s_m, s_d = s_d[2:4], s_d[5:7], s_d[8:10]\n",
    "    e_y, e_m, e_d = e_d[2:4], e_d[5:7], e_d[8:10]\n",
    "    \n",
    "    return \"tag_usage_data_\"+s_y+s_m+s_d+\"_\"+e_y+e_m+e_d+\".csv\""
   ]
  },
  {
   "cell_type": "markdown",
   "metadata": {},
   "source": [
    "#### 2. 주소 컬럼추가"
   ]
  },
  {
   "cell_type": "code",
   "execution_count": 69,
   "metadata": {},
   "outputs": [],
   "source": [
    "import xml.etree.ElementTree as elemTree\n",
    "import requests\n",
    "def get_address(loc_x, loc_y, min_x = 126.531891, min_y = 33.399409, key = \"E20F6493-C13D-3F6F-AC90-D5BB2F239901\"):\n",
    "    loc_x = round(float(loc_x), 7)\n",
    "    loc_y = round(float(loc_y), 7)\n",
    "    url_form = \"http://api.vworld.kr/req/address?service=address&request=getAddress&version=2.0&crs=epsg:4326&point={},{}&format=xml&type=both&zipcode=true&simple=false&key={}\"\n",
    "    url = url_form.format(loc_x, loc_y, key)\n",
    "    response = requests.get(url)\n",
    "    tree = elemTree.fromstring(response.text)\n",
    "    branch = \"\"\n",
    "    try:\n",
    "#     road = tree.find(\"result\").find(\"item[2]\").find(\"text\").text\n",
    "        branch = tree.find(\"result\").find(\"item[1]\").find(\"text\").text\n",
    "    except:\n",
    "        print(loc_x, loc_y)\n",
    "        x_left = str(int(loc_x))\n",
    "        y_left = str(int(loc_y))\n",
    "        \n",
    "        \n",
    "        if min_x < loc_x:\n",
    "            x_right = str((int(loc_x*100000)-2)%100000)\n",
    "        else:\n",
    "            x_right = str((int(loc_x*100000)+2)%100000)\n",
    "            \n",
    "        if min_y < loc_y:\n",
    "            y_right = str((int(loc_y*100000)-2)%100000)\n",
    "        else:\n",
    "            y_right = str((int(loc_y*100000)+2)%100000)\n",
    "            \n",
    "        loc_x = float(x_left+\".\"+x_right)\n",
    "        loc_y = float(y_left+\".\"+y_right)\n",
    "        return get_address(loc_x, loc_y)\n",
    "            \n",
    "    return branch\n",
    "\n",
    "# loc_x = 126.30207\n",
    "# loc_y = 33.2253\n",
    "# print(get_address(loc_x, loc_y))"
   ]
  },
  {
   "cell_type": "code",
   "execution_count": 158,
   "metadata": {},
   "outputs": [],
   "source": [
    "def set_address_column(df):\n",
    "    df = pd.DataFrame.copy(df)\n",
    "    df[\"STATION_ADDRESS\"] = \"\"\n",
    "    for i in tqdm(df.index):\n",
    "        df.loc[i, \"STATION_ADDRESS\"] = get_address(float(df.loc[i, \"STATION_X\"]), float(df.loc[i, \"STATION_Y\"]))\n",
    "    return df\n",
    "# usage_df = set_address_column(usage_df)\n",
    "# usage_df"
   ]
  },
  {
   "cell_type": "markdown",
   "metadata": {},
   "source": [
    "#### main"
   ]
  },
  {
   "cell_type": "code",
   "execution_count": 159,
   "metadata": {},
   "outputs": [
    {
     "name": "stderr",
     "output_type": "stream",
     "text": [
      "  2%|█▊                                                                                 | 2/89 [00:00<00:38,  2.25it/s]D:\\Users\\Embedded\\Anaconda3\\lib\\site-packages\\IPython\\core\\interactiveshell.py:3263: DtypeWarning: Columns (12) have mixed types.Specify dtype option on import or set low_memory=False.\n",
      "  if (await self.run_code(code, result,  async_=asy)):\n",
      "100%|██████████████████████████████████████████████████████████████████████████████████| 89/89 [00:39<00:00,  2.24it/s]\n",
      "D:\\Users\\Embedded\\Anaconda3\\lib\\site-packages\\pandas\\core\\ops\\array_ops.py:253: FutureWarning: elementwise comparison failed; returning scalar instead, but in the future will perform elementwise comparison\n",
      "  res_values = method(rvalues)\n",
      "  0%|                                                                                 | 1/3622 [00:00<08:03,  7.48it/s]"
     ]
    },
    {
     "name": "stdout",
     "output_type": "stream",
     "text": [
      "      geton_station_id geton_stataion_name  geton_station_latitude  \\\n",
      "0                  988              납읍리사무소                33.43944   \n",
      "1                 1130        한림환승정류장(한림리)                33.41453   \n",
      "2                   47                 학원동                33.47493   \n",
      "3                   20                연대마을                33.49282   \n",
      "4                  174                명주주택                33.49579   \n",
      "...                ...                 ...                     ...   \n",
      "3621              4250               추사유배지                33.24910   \n",
      "3622              3314                 산수동                33.30309   \n",
      "3623              4206            크라운골프연습장                33.33965   \n",
      "3624              2148             세화3리웃동네                33.32318   \n",
      "3625              3559              두문포노린당                33.49630   \n",
      "\n",
      "      geton_station_longitude  usage  \n",
      "0                   126.32944   3234  \n",
      "1                   126.26427  38821  \n",
      "2                   126.39766   2135  \n",
      "3                   126.42858   5833  \n",
      "4                   126.49349   2602  \n",
      "...                       ...    ...  \n",
      "3621                126.27905      2  \n",
      "3622                126.19770      1  \n",
      "3623                126.80309      1  \n",
      "3624                126.79191      1  \n",
      "3625                126.90915      6  \n",
      "\n",
      "[3626 rows x 5 columns]\n"
     ]
    },
    {
     "name": "stderr",
     "output_type": "stream",
     "text": [
      "  8%|██████▎                                                                        | 289/3622 [00:21<04:31, 12.27it/s]"
     ]
    },
    {
     "name": "stdout",
     "output_type": "stream",
     "text": [
      "126.61324 33.2642\n"
     ]
    },
    {
     "name": "stderr",
     "output_type": "stream",
     "text": [
      " 25%|████████████████████                                                           | 917/3622 [01:07<03:07, 14.46it/s]"
     ]
    },
    {
     "name": "stdout",
     "output_type": "stream",
     "text": [
      "126.78144 33.30731\n",
      "126.78142 33.30733\n",
      "126.7814 33.30735\n"
     ]
    },
    {
     "name": "stderr",
     "output_type": "stream",
     "text": [
      " 34%|██████████████████████████▎                                                   | 1223/3622 [01:30<03:17, 12.15it/s]"
     ]
    },
    {
     "name": "stdout",
     "output_type": "stream",
     "text": [
      "126.59505 33.25965\n"
     ]
    },
    {
     "name": "stderr",
     "output_type": "stream",
     "text": [
      " 37%|████████████████████████████▉                                                 | 1345/3622 [01:39<03:36, 10.52it/s]"
     ]
    },
    {
     "name": "stdout",
     "output_type": "stream",
     "text": [
      "126.29452 33.96141\n",
      "126.29454 33.96139\n"
     ]
    },
    {
     "name": "stderr",
     "output_type": "stream",
     "text": [
      " 40%|███████████████████████████████▍                                              | 1457/3622 [01:48<03:07, 11.55it/s]"
     ]
    },
    {
     "name": "stdout",
     "output_type": "stream",
     "text": [
      "126.59404 33.24436\n"
     ]
    },
    {
     "name": "stderr",
     "output_type": "stream",
     "text": [
      " 54%|██████████████████████████████████████████▎                                   | 1963/3622 [02:26<02:17, 12.03it/s]"
     ]
    },
    {
     "name": "stdout",
     "output_type": "stream",
     "text": [
      "126.23817 33.23178\n"
     ]
    },
    {
     "name": "stderr",
     "output_type": "stream",
     "text": [
      " 65%|██████████████████████████████████████████████████▋                           | 2355/3622 [02:55<01:33, 13.55it/s]"
     ]
    },
    {
     "name": "stdout",
     "output_type": "stream",
     "text": [
      "126.49945 33.51938\n",
      "126.49947 33.51936\n",
      "126.49949 33.51934\n",
      "126.49951 33.51932\n",
      "126.49953 33.5193\n",
      "126.49955 33.51928\n",
      "126.49957 33.51926\n",
      "126.49959 33.51924\n",
      "126.49961 33.51922\n",
      "126.49963 33.51919\n",
      "126.49965 33.51917\n",
      "126.49967 33.51915\n",
      "126.49969 33.51913\n",
      "126.49971 33.5191\n",
      "126.49973 33.51908\n",
      "126.49975 33.51906\n",
      "126.49977 33.51904\n",
      "126.49979 33.51901\n",
      "126.49981 33.51899\n",
      "126.49983 33.51897\n",
      "126.49985 33.51895\n",
      "126.49987 33.51892\n",
      "126.49989 33.5189\n",
      "126.49991 33.51888\n",
      "126.49993 33.51886\n",
      "126.49995 33.51883\n",
      "126.49997 33.51881\n",
      "126.49999 33.51879\n",
      "126.50001 33.51877\n",
      "126.50003 33.51875\n",
      "126.50005 33.51872\n",
      "126.50007 33.5187\n",
      "126.50009 33.51868\n",
      "126.50011 33.51866\n"
     ]
    },
    {
     "name": "stderr",
     "output_type": "stream",
     "text": [
      " 80%|██████████████████████████████████████████████████████████████▋               | 2909/3622 [03:38<00:53, 13.23it/s]"
     ]
    },
    {
     "name": "stdout",
     "output_type": "stream",
     "text": [
      "126.29979 33.22527\n",
      "126.29981 33.22529\n",
      "126.29983 33.22531\n",
      "126.29985 33.22533\n",
      "126.29987 33.22535\n",
      "126.29989 33.22537\n",
      "126.29991 33.22539\n",
      "126.29993 33.2254\n",
      "126.29995 33.22542\n",
      "126.29997 33.22544\n",
      "126.29999 33.22546\n",
      "126.30001 33.22548\n",
      "126.30003 33.22549\n",
      "126.30005 33.22551\n",
      "126.30007 33.22553\n",
      "126.30009 33.22555\n",
      "126.30011 33.22557\n",
      "126.30013 33.22558\n",
      "126.30015 33.2256\n",
      "126.30017 33.22562\n",
      "126.30019 33.22564\n",
      "126.30021 33.22566\n",
      "126.30023 33.22568\n",
      "126.30025 33.22569\n",
      "126.30027 33.22571\n",
      "126.30029 33.22573\n",
      "126.30031 33.22575\n",
      "126.30033 33.22577\n",
      "126.30035 33.22578\n",
      "126.30037 33.2258\n",
      "126.30039 33.22582\n",
      "126.30041 33.22584\n",
      "126.30043 33.22586\n",
      "126.30045 33.22587\n",
      "126.30047 33.22589\n",
      "126.30049 33.22591\n",
      "126.30051 33.22593\n",
      "126.30053 33.22595\n",
      "126.30055 33.22596\n",
      "126.30057 33.22598\n",
      "126.30059 33.226\n",
      "126.30061 33.22602\n",
      "126.30063 33.22604\n",
      "126.30065 33.22605\n",
      "126.30067 33.22607\n",
      "126.30069 33.22609\n",
      "126.30071 33.22611\n",
      "126.30073 33.22613\n",
      "126.30075 33.22615\n",
      "126.30077 33.22616\n",
      "126.30079 33.22618\n",
      "126.30081 33.2262\n",
      "126.30083 33.22622\n",
      "126.30085 33.22624\n",
      "126.30087 33.22625\n",
      "126.30089 33.22627\n",
      "126.30091 33.22629\n",
      "126.30093 33.22631\n",
      "126.30095 33.22633\n",
      "126.30097 33.22634\n",
      "126.30099 33.22636\n",
      "126.30101 33.22638\n",
      "126.30103 33.2264\n",
      "126.30105 33.22642\n",
      "126.30107 33.22643\n",
      "126.30109 33.22645\n",
      "126.30111 33.22647\n",
      "126.30113 33.22649\n",
      "126.30115 33.22651\n",
      "126.30117 33.22652\n",
      "126.30119 33.22654\n",
      "126.30121 33.22656\n",
      "126.30123 33.22658\n",
      "126.30125 33.2266\n",
      "126.30127 33.22662\n",
      "126.30129 33.22663\n",
      "126.30131 33.22665\n",
      "126.30133 33.22667\n",
      "126.30135 33.22669\n",
      "126.30137 33.22671\n",
      "126.30139 33.22672\n",
      "126.30141 33.22674\n",
      "126.30143 33.22676\n",
      "126.30145 33.22678\n",
      "126.30147 33.2268\n",
      "126.30149 33.22681\n",
      "126.30151 33.22683\n",
      "126.30153 33.22685\n",
      "126.30155 33.22687\n",
      "126.30157 33.22689\n",
      "126.30159 33.2269\n",
      "126.30161 33.22692\n",
      "126.30163 33.22694\n",
      "126.30165 33.22696\n",
      "126.30167 33.22698\n",
      "126.30169 33.22699\n",
      "126.30171 33.22701\n",
      "126.30173 33.22703\n",
      "126.30175 33.22705\n",
      "126.30177 33.22707\n",
      "126.30179 33.22708\n",
      "126.30181 33.2271\n"
     ]
    },
    {
     "name": "stderr",
     "output_type": "stream",
     "text": [
      " 86%|██████████████████████████████████████████████████████████████████▋           | 3099/3622 [04:00<00:41, 12.47it/s]"
     ]
    },
    {
     "name": "stdout",
     "output_type": "stream",
     "text": [
      "126.30382 33.95284\n",
      "126.30384 33.95282\n",
      "126.30386 33.9528\n",
      "126.30388 33.95278\n",
      "126.3039 33.95275\n",
      "126.30392 33.95273\n",
      "126.30394 33.95271\n",
      "126.30396 33.95269\n",
      "126.30398 33.95266\n",
      "126.304 33.95264\n",
      "126.30402 33.95262\n",
      "126.30404 33.9526\n",
      "126.30406 33.95257\n",
      "126.30408 33.95255\n",
      "126.3041 33.95253\n",
      "126.30412 33.95251\n",
      "126.30414 33.95248\n"
     ]
    },
    {
     "name": "stderr",
     "output_type": "stream",
     "text": [
      " 86%|██████████████████████████████████████████████████████████████████▉           | 3108/3622 [04:02<01:13,  7.02it/s]"
     ]
    },
    {
     "name": "stdout",
     "output_type": "stream",
     "text": [
      "126.29527 33.96109\n",
      "126.29529 33.96107\n"
     ]
    },
    {
     "name": "stderr",
     "output_type": "stream",
     "text": [
      " 86%|███████████████████████████████████████████████████████████████████▏          | 3118/3622 [04:03<00:42, 11.97it/s]"
     ]
    },
    {
     "name": "stdout",
     "output_type": "stream",
     "text": [
      "126.61122 33.26048\n",
      "126.6112 33.2605\n",
      "126.61118 33.26052\n"
     ]
    },
    {
     "name": "stderr",
     "output_type": "stream",
     "text": [
      "\r",
      " 86%|███████████████████████████████████████████████████████████████████▏          | 3120/3622 [04:03<01:08,  7.30it/s]"
     ]
    },
    {
     "name": "stdout",
     "output_type": "stream",
     "text": [
      "126.61116 33.26054\n",
      "126.61114 33.26056\n"
     ]
    },
    {
     "name": "stderr",
     "output_type": "stream",
     "text": [
      "100%|█████████████████████████████████████████████████████████████████████████████▊| 3614/3622 [04:40<00:00, 13.57it/s]"
     ]
    },
    {
     "name": "stdout",
     "output_type": "stream",
     "text": [
      "126.61747 33.26697\n",
      "126.61745 33.26699\n",
      "126.61743 33.26701\n",
      "126.61741 33.26703\n",
      "126.61739 33.26705\n",
      "126.61737 33.26706\n",
      "126.61735 33.26708\n",
      "126.61733 33.2671\n",
      "126.61731 33.26712\n",
      "126.61729 33.26714\n",
      "126.61727 33.26716\n",
      "126.61725 33.26717\n",
      "126.61723 33.26719\n",
      "126.61721 33.26721\n",
      "126.61719 33.26723\n"
     ]
    },
    {
     "name": "stderr",
     "output_type": "stream",
     "text": [
      "\r",
      "100%|█████████████████████████████████████████████████████████████████████████████▊| 3616/3622 [04:42<00:01,  4.04it/s]"
     ]
    },
    {
     "name": "stdout",
     "output_type": "stream",
     "text": [
      "126.61717 33.26725\n"
     ]
    },
    {
     "name": "stderr",
     "output_type": "stream",
     "text": [
      "100%|██████████████████████████████████████████████████████████████████████████████| 3622/3622 [04:42<00:00, 12.82it/s]\n"
     ]
    }
   ],
   "source": [
    "### setting clasification period(start, end)\n",
    "start_date = datetime.datetime(2019, 6, 1)\n",
    "end_date = datetime.datetime(2019, 8, 29)\n",
    "\n",
    "\n",
    "### accumulating\n",
    "usage_df = analyze_total_usage(start_date, end_date, scale = \"user\")\n",
    "\n",
    "\n",
    "### calculate mean of usage\n",
    "# period = int((end_date-start_date).days)+1\n",
    "# usage_df[usage] = usage_df[usage].apply(lambda x : int(x/period))\n",
    "\n",
    "\n",
    "### new naming\n",
    "usage_df = usage_df.rename(columns = {geton_station_id :'STATION_ID',\n",
    "                          geton_station_name: \"STATION_NAME\", \n",
    "                          geton_station_latitude:\"STATION_Y\",\n",
    "                          geton_station_longitude:\"STATION_X\",\n",
    "                          usage:\"STATION_USAGE\"})\n",
    "\n",
    "\n",
    "### setting address column\n",
    "usage_df = set_address_column(usage_df)\n",
    "\n",
    "\n",
    "### sorting\n",
    "usage_df = usage_df.sort_values(by=\"STATION_ID\")\n",
    "\n",
    "\n",
    "### stroing\n",
    "usage_df.to_csv(make_new_path(start_date, end_date), encoding=\"CP949\", index=False)"
   ]
  }
 ],
 "metadata": {
  "kernelspec": {
   "display_name": "Python 3",
   "language": "python",
   "name": "python3"
  },
  "language_info": {
   "codemirror_mode": {
    "name": "ipython",
    "version": 3
   },
   "file_extension": ".py",
   "mimetype": "text/x-python",
   "name": "python",
   "nbconvert_exporter": "python",
   "pygments_lexer": "ipython3",
   "version": "3.8.3"
  }
 },
 "nbformat": 4,
 "nbformat_minor": 4
}
